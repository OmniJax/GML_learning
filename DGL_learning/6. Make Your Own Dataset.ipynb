{
 "cells": [
  {
   "cell_type": "code",
   "execution_count": 1,
   "id": "21ffcb33-14e6-43db-8c6e-6990d8c13316",
   "metadata": {},
   "outputs": [],
   "source": [
    "import numpy as np\n",
    "import pandas as pd"
   ]
  },
  {
   "cell_type": "markdown",
   "id": "a22bc2be-501e-40cd-b013-19d278c8fe97",
   "metadata": {},
   "source": [
    "## Creating a Dataset for Node Classification or Link Prediction from CSV\n"
   ]
  },
  {
   "cell_type": "markdown",
   "id": "faf18baf-3add-4f4f-8e43-adfcd1ab77fd",
   "metadata": {},
   "source": [
    "#### 数据集只有一个图"
   ]
  },
  {
   "cell_type": "code",
   "execution_count": null,
   "id": "887a793c-aab6-4b72-a525-6057a6da1a0a",
   "metadata": {},
   "outputs": [],
   "source": []
  },
  {
   "cell_type": "code",
   "execution_count": 34,
   "id": "03a876ad-3ea8-4819-ae94-cbb8bd1ba8de",
   "metadata": {},
   "outputs": [],
   "source": [
    "members = pd.read_csv(\"./members.csv\")\n",
    "interations = pd.read_csv(\"./interactions.csv\")"
   ]
  },
  {
   "cell_type": "code",
   "execution_count": 8,
   "id": "8e3340fa-647a-4534-a6d0-bbc7d3778483",
   "metadata": {},
   "outputs": [
    {
     "name": "stdout",
     "output_type": "stream",
     "text": [
      "   Src  Dst    Weight\n",
      "0    0    1  0.043591\n",
      "1    0    2  0.282119\n",
      "2    0    3  0.370293\n",
      "3    0    4  0.730570\n",
      "4    0    5  0.821187\n",
      "   Id    Club  Age\n",
      "0   0  Mr. Hi   44\n",
      "1   1  Mr. Hi   37\n",
      "2   2  Mr. Hi   37\n",
      "3   3  Mr. Hi   40\n",
      "4   4  Mr. Hi   30\n"
     ]
    }
   ],
   "source": [
    "print(interations.head())\n",
    "print(members.head())"
   ]
  },
  {
   "cell_type": "code",
   "execution_count": 35,
   "id": "894c062f-d8b7-426f-86d3-4ead1a7e46b0",
   "metadata": {},
   "outputs": [
    {
     "data": {
      "text/plain": [
       "array(['Mr. Hi', 'Officer'], dtype=object)"
      ]
     },
     "execution_count": 35,
     "metadata": {},
     "output_type": "execute_result"
    }
   ],
   "source": [
    "members[\"Club\"].unique()"
   ]
  },
  {
   "cell_type": "code",
   "execution_count": 36,
   "id": "f144b3d0-168f-4d92-a62b-46f15bfa183c",
   "metadata": {},
   "outputs": [],
   "source": [
    "# club 映射为0，1\n",
    "members[\"Club\"] = members[\"Club\"].astype(\"category\").cat.codes.to_numpy()"
   ]
  },
  {
   "cell_type": "code",
   "execution_count": 37,
   "id": "75c32679-11c5-4479-b622-cfd252081e58",
   "metadata": {},
   "outputs": [
    {
     "data": {
      "text/plain": [
       "array([0, 1], dtype=int8)"
      ]
     },
     "execution_count": 37,
     "metadata": {},
     "output_type": "execute_result"
    }
   ],
   "source": [
    "members[\"Club\"].unique()"
   ]
  },
  {
   "cell_type": "code",
   "execution_count": null,
   "id": "33a4229a-d0a4-4666-a805-4b9c508fda3a",
   "metadata": {},
   "outputs": [],
   "source": []
  },
  {
   "cell_type": "code",
   "execution_count": null,
   "id": "35bcc22a-e4ba-4d0f-9475-c2033537a0a4",
   "metadata": {},
   "outputs": [],
   "source": []
  },
  {
   "cell_type": "code",
   "execution_count": null,
   "id": "0345be92-bef2-4703-bd90-ca3957e19bcd",
   "metadata": {},
   "outputs": [],
   "source": []
  },
  {
   "cell_type": "markdown",
   "id": "2a61fa0a-3994-4e0f-85a7-0cb59ea8534b",
   "metadata": {},
   "source": [
    "Your custom graph dataset should inherit the dgl.data.DGLDataset class and implement the following methods:\n",
    "\n",
    "\\__getitem\\__(self, i): retrieve the i-th example of the dataset. An example often contains a single DGL graph, and occasionally its label.\n",
    "\n",
    "\\__len\\__(self): the number of examples in the dataset.\n",
    "\n",
    "process(self): load and process raw data from disk."
   ]
  },
  {
   "cell_type": "code",
   "execution_count": 2,
   "id": "77c89a52-4b8e-49dc-91fb-8a759ce00ac1",
   "metadata": {},
   "outputs": [],
   "source": [
    "import dgl\n",
    "import torch\n",
    "from dgl.data import DGLDataset\n",
    "\n",
    "\n",
    "class KarateClubDataset(DGLDataset):\n",
    "    def __init__(self):\n",
    "        super().__init__(name=\"karate_club\")\n",
    "\n",
    "    def process(self):\n",
    "        # sample 来打乱\n",
    "        nodes_data = pd.read_csv(\"./members.csv\").sample(frac=1)\n",
    "        edges_data = pd.read_csv(\"./interactions.csv\").sample(frac=1)\n",
    "\n",
    "        # minmax归一化年龄\n",
    "        age = nodes_data[\"Age\"].to_numpy()\n",
    "        age = (age - age.min()) / (age.max() - age.min())\n",
    "\n",
    "        # club化为01\n",
    "        club = (nodes_data[\"Club\"]).astype(\"category\").cat.codes.to_numpy()\n",
    "\n",
    "        node_labels = torch.from_numpy(club)\n",
    "        node_features = torch.from_numpy(age)\n",
    "\n",
    "        edges_src = torch.from_numpy(edges_data[\"Src\"].to_numpy())\n",
    "        edges_dst = torch.from_numpy(edges_data[\"Dst\"].to_numpy())\n",
    "\n",
    "        num_nodes = len(nodes_data)\n",
    "\n",
    "        self.graph = dgl.graph((edges_src, edges_dst), num_nodes=num_nodes)\n",
    "        self.graph.ndata[\"feat\"] = node_features\n",
    "        self.graph.ndata[\"label\"] = node_labels\n",
    "        self.graph.edata[\"weight\"] = torch.from_numpy(edges_data[\"Weight\"].to_numpy())\n",
    "\n",
    "        # If your dataset is a node classification dataset, you will need to assign\n",
    "        # masks indicating whether a node belongs to training, validation, and test set.\n",
    "\n",
    "        n_train = int(num_nodes * 0.6)\n",
    "        n_val = int(num_nodes * 0.2)\n",
    "        n_test = num_nodes - n_train - n_val\n",
    "\n",
    "        train_mask = torch.zeros(num_nodes, dtype=torch.bool)\n",
    "        val_mask = torch.zeros(num_nodes, dtype=torch.bool)\n",
    "        test_mask = torch.zeros(num_nodes, dtype=torch.bool)\n",
    "\n",
    "        train_mask[:n_train] = True\n",
    "        val_mask[n_train : n_train + n_val] = True\n",
    "        test_mask[n_train + n_val :] = True\n",
    "\n",
    "    def __getitem__(self, i):\n",
    "        return self.graph\n",
    "\n",
    "    def __len__(self):\n",
    "        return 1"
   ]
  },
  {
   "cell_type": "code",
   "execution_count": null,
   "id": "75b6e1c8-5f96-4b86-8787-9a0ac01c26d2",
   "metadata": {},
   "outputs": [],
   "source": []
  },
  {
   "cell_type": "code",
   "execution_count": null,
   "id": "12aa4b5a-76a7-4d29-96f8-d785fa647bd0",
   "metadata": {},
   "outputs": [],
   "source": []
  },
  {
   "cell_type": "code",
   "execution_count": 231,
   "id": "c90aa734-70da-4602-bd05-6d1fe70db285",
   "metadata": {},
   "outputs": [
    {
     "data": {
      "text/plain": [
       "Dataset(\"karate_club\", num_graphs=1, save_path=C:\\Users\\mi\\.dgl\\karate_club)"
      ]
     },
     "execution_count": 231,
     "metadata": {},
     "output_type": "execute_result"
    }
   ],
   "source": [
    "n_train = int(num_nodes * 0.6)\n",
    "n_val = int(num_nodes * 0.2)\n",
    "n_test = num_nodes - n_train - n_val\n",
    "\n",
    "KarateClubDataset()"
   ]
  },
  {
   "cell_type": "code",
   "execution_count": 230,
   "id": "b159b079-bcb4-49b1-ad77-efcf53e1f479",
   "metadata": {},
   "outputs": [
    {
     "data": {
      "text/plain": [
       "Dataset(\"karate_club\", num_graphs=1, save_path=C:\\Users\\mi\\.dgl\\karate_club)"
      ]
     },
     "execution_count": 230,
     "metadata": {},
     "output_type": "execute_result"
    }
   ],
   "source": [
    "karate_dataset = KarateClubDataset()[0]"
   ]
  },
  {
   "cell_type": "code",
   "execution_count": 217,
   "id": "16c52e56-b33b-4df3-bce6-41bb745fc9c3",
   "metadata": {},
   "outputs": [
    {
     "data": {
      "text/plain": [
       "dict_keys(['feat', 'label'])"
      ]
     },
     "execution_count": 217,
     "metadata": {},
     "output_type": "execute_result"
    }
   ],
   "source": [
    "karate_dataset.ndata.keys()"
   ]
  },
  {
   "cell_type": "code",
   "execution_count": null,
   "id": "6a23ad51-ecef-40bc-a0ca-1cf2357e7011",
   "metadata": {},
   "outputs": [],
   "source": []
  },
  {
   "cell_type": "markdown",
   "id": "897d6eba-dd41-4215-9357-f9e3bcd3083e",
   "metadata": {},
   "source": [
    "## Creating a Dataset for Graph Classification from CSV\n",
    "\n",
    "### graph_edges.csv: containing three columns:\n",
    "\n",
    "graph_id: the ID of the graph.\n",
    "\n",
    "src: the source node of an edge of the given graph.\n",
    "\n",
    "dst: the destination node of an edge of the given graph.\n",
    "\n",
    "### graph_properties.csv: containing three columns:\n",
    "\n",
    "graph_id: the ID of the graph.\n",
    "\n",
    "label: the label of the graph.\n",
    "\n",
    "num_nodes: the number of nodes in the graph."
   ]
  },
  {
   "cell_type": "code",
   "execution_count": 220,
   "id": "8c92320e-e26c-4aaf-8d20-24715e700517",
   "metadata": {},
   "outputs": [],
   "source": [
    "import urllib.request"
   ]
  },
  {
   "cell_type": "code",
   "execution_count": 221,
   "id": "60912e4e-8af1-414e-837f-bcf92f679828",
   "metadata": {},
   "outputs": [
    {
     "data": {
      "text/plain": [
       "('./graph_properties.csv', <http.client.HTTPMessage at 0x22f2b5ef430>)"
      ]
     },
     "execution_count": 221,
     "metadata": {},
     "output_type": "execute_result"
    }
   ],
   "source": [
    "# urllib.request.urlretrieve(\n",
    "#     \"https://data.dgl.ai/tutorial/dataset/graph_edges.csv\", \"./graph_edges.csv\"\n",
    "# )\n",
    "# urllib.request.urlretrieve(\n",
    "#     \"https://data.dgl.ai/tutorial/dataset/graph_properties.csv\",\n",
    "#     \"./graph_properties.csv\",\n",
    "# )"
   ]
  },
  {
   "cell_type": "code",
   "execution_count": 222,
   "id": "60405c50-6778-40b9-bc9d-3463b416e2c9",
   "metadata": {},
   "outputs": [],
   "source": [
    "edges = pd.read_csv(\"./graph_edges.csv\")\n",
    "properties = pd.read_csv(\"./graph_properties.csv\")"
   ]
  },
  {
   "cell_type": "code",
   "execution_count": 226,
   "id": "1cbae207-4196-4a48-8388-54bf1ebc5a4d",
   "metadata": {},
   "outputs": [
    {
     "data": {
      "text/html": [
       "<div>\n",
       "<style scoped>\n",
       "    .dataframe tbody tr th:only-of-type {\n",
       "        vertical-align: middle;\n",
       "    }\n",
       "\n",
       "    .dataframe tbody tr th {\n",
       "        vertical-align: top;\n",
       "    }\n",
       "\n",
       "    .dataframe thead th {\n",
       "        text-align: right;\n",
       "    }\n",
       "</style>\n",
       "<table border=\"1\" class=\"dataframe\">\n",
       "  <thead>\n",
       "    <tr style=\"text-align: right;\">\n",
       "      <th></th>\n",
       "      <th>graph_id</th>\n",
       "      <th>label</th>\n",
       "      <th>num_nodes</th>\n",
       "    </tr>\n",
       "  </thead>\n",
       "  <tbody>\n",
       "    <tr>\n",
       "      <th>0</th>\n",
       "      <td>0</td>\n",
       "      <td>0</td>\n",
       "      <td>15</td>\n",
       "    </tr>\n",
       "    <tr>\n",
       "      <th>1</th>\n",
       "      <td>1</td>\n",
       "      <td>0</td>\n",
       "      <td>10</td>\n",
       "    </tr>\n",
       "    <tr>\n",
       "      <th>2</th>\n",
       "      <td>2</td>\n",
       "      <td>0</td>\n",
       "      <td>13</td>\n",
       "    </tr>\n",
       "    <tr>\n",
       "      <th>3</th>\n",
       "      <td>3</td>\n",
       "      <td>0</td>\n",
       "      <td>13</td>\n",
       "    </tr>\n",
       "    <tr>\n",
       "      <th>4</th>\n",
       "      <td>4</td>\n",
       "      <td>0</td>\n",
       "      <td>17</td>\n",
       "    </tr>\n",
       "  </tbody>\n",
       "</table>\n",
       "</div>"
      ],
      "text/plain": [
       "   graph_id  label  num_nodes\n",
       "0         0      0         15\n",
       "1         1      0         10\n",
       "2         2      0         13\n",
       "3         3      0         13\n",
       "4         4      0         17"
      ]
     },
     "execution_count": 226,
     "metadata": {},
     "output_type": "execute_result"
    }
   ],
   "source": [
    "properties.head()"
   ]
  },
  {
   "cell_type": "code",
   "execution_count": 227,
   "id": "2098a76b-f0d0-461c-843a-3aa22c6072fb",
   "metadata": {},
   "outputs": [
    {
     "data": {
      "text/html": [
       "<div>\n",
       "<style scoped>\n",
       "    .dataframe tbody tr th:only-of-type {\n",
       "        vertical-align: middle;\n",
       "    }\n",
       "\n",
       "    .dataframe tbody tr th {\n",
       "        vertical-align: top;\n",
       "    }\n",
       "\n",
       "    .dataframe thead th {\n",
       "        text-align: right;\n",
       "    }\n",
       "</style>\n",
       "<table border=\"1\" class=\"dataframe\">\n",
       "  <thead>\n",
       "    <tr style=\"text-align: right;\">\n",
       "      <th></th>\n",
       "      <th>graph_id</th>\n",
       "      <th>src</th>\n",
       "      <th>dst</th>\n",
       "    </tr>\n",
       "  </thead>\n",
       "  <tbody>\n",
       "    <tr>\n",
       "      <th>0</th>\n",
       "      <td>0</td>\n",
       "      <td>0</td>\n",
       "      <td>1</td>\n",
       "    </tr>\n",
       "    <tr>\n",
       "      <th>1</th>\n",
       "      <td>0</td>\n",
       "      <td>0</td>\n",
       "      <td>14</td>\n",
       "    </tr>\n",
       "    <tr>\n",
       "      <th>2</th>\n",
       "      <td>0</td>\n",
       "      <td>1</td>\n",
       "      <td>0</td>\n",
       "    </tr>\n",
       "    <tr>\n",
       "      <th>3</th>\n",
       "      <td>0</td>\n",
       "      <td>1</td>\n",
       "      <td>2</td>\n",
       "    </tr>\n",
       "    <tr>\n",
       "      <th>4</th>\n",
       "      <td>0</td>\n",
       "      <td>2</td>\n",
       "      <td>1</td>\n",
       "    </tr>\n",
       "  </tbody>\n",
       "</table>\n",
       "</div>"
      ],
      "text/plain": [
       "   graph_id  src  dst\n",
       "0         0    0    1\n",
       "1         0    0   14\n",
       "2         0    1    0\n",
       "3         0    1    2\n",
       "4         0    2    1"
      ]
     },
     "execution_count": 227,
     "metadata": {},
     "output_type": "execute_result"
    }
   ],
   "source": [
    "edges.head()"
   ]
  },
  {
   "cell_type": "code",
   "execution_count": 86,
   "id": "670a312d-9273-429e-9b52-cab5a71bcaed",
   "metadata": {},
   "outputs": [],
   "source": [
    "class SyntheticDataset(DGLDataset):\n",
    "    def __init__(self):\n",
    "        super().__init__(name=\"synthetic\")\n",
    "\n",
    "    def process(self):\n",
    "        edges = pd.read_csv(\"./graph_edges.csv\")\n",
    "        properties = pd.read_csv(\"./graph_properties.csv\")\n",
    "        self.graphs = []\n",
    "        self.labels = []\n",
    "\n",
    "        # Create a graph for each graph ID from the edges table.\n",
    "        # First process the properties table into two dictionaries with graph IDs as keys.\n",
    "        # The label and number of nodes are values.\n",
    "        label_dict = {}\n",
    "        num_nodes_dict = {}\n",
    "\n",
    "        for i, row in properties.iterrows():\n",
    "            label_dict[row[\"graph_id\"]] = row[\"label\"]\n",
    "            num_nodes_dict[row[\"graph_id\"]] = row[\"num_nodes\"]\n",
    "\n",
    "        groups = edges.groupby(\"graph_id\")\n",
    "        for graph_id, g in groups:\n",
    "            u = torch.from_numpy(g[\"src\"].to_numpy())\n",
    "            v = torch.from_numpy(g[\"dst\"].to_numpy())\n",
    "\n",
    "            label = label_dict[graph_id]\n",
    "            num_nodes = num_nodes_dict[graph_id]\n",
    "\n",
    "            g = dgl.graph((u, v), num_nodes=num_nodes)\n",
    "            self.graphs.append(g)\n",
    "            self.labels.append(label)\n",
    "\n",
    "        self.labels = torch.tensor(self.labels, dtype=torch.int8)\n",
    "\n",
    "    def __getitem__(self, i):\n",
    "        return self.graphs[i], self.labels[i]\n",
    "\n",
    "    def __len__(self):\n",
    "        return len(self.labels)"
   ]
  },
  {
   "cell_type": "code",
   "execution_count": 87,
   "id": "d91092ce-a8ff-400a-ac61-84de5d2a9955",
   "metadata": {},
   "outputs": [],
   "source": [
    "synthetic_datset = SyntheticDataset()"
   ]
  },
  {
   "cell_type": "code",
   "execution_count": 88,
   "id": "c26ab5f2-5237-4ee5-a110-50cc83c7a4b1",
   "metadata": {
    "scrolled": true
   },
   "outputs": [],
   "source": [
    "graph, label = synthetic_datset[0]"
   ]
  },
  {
   "cell_type": "code",
   "execution_count": 89,
   "id": "dfd534ac-7826-4390-bdb4-6f82aa5fc21f",
   "metadata": {},
   "outputs": [
    {
     "data": {
      "text/plain": [
       "tensor(0, dtype=torch.int8)"
      ]
     },
     "execution_count": 89,
     "metadata": {},
     "output_type": "execute_result"
    }
   ],
   "source": [
    "label"
   ]
  },
  {
   "cell_type": "code",
   "execution_count": 319,
   "id": "64c2deeb-992b-441d-851b-686ee4107d2f",
   "metadata": {},
   "outputs": [],
   "source": []
  },
  {
   "cell_type": "code",
   "execution_count": null,
   "id": "c764032b-b427-459d-b5f4-69325f98f479",
   "metadata": {},
   "outputs": [],
   "source": []
  }
 ],
 "metadata": {
  "kernelspec": {
   "display_name": "GML",
   "language": "python",
   "name": "gml"
  },
  "language_info": {
   "codemirror_mode": {
    "name": "ipython",
    "version": 3
   },
   "file_extension": ".py",
   "mimetype": "text/x-python",
   "name": "python",
   "nbconvert_exporter": "python",
   "pygments_lexer": "ipython3",
   "version": "3.8.19"
  }
 },
 "nbformat": 4,
 "nbformat_minor": 5
}
