{
 "cells": [
  {
   "cell_type": "code",
   "execution_count": null,
   "metadata": {},
   "outputs": [],
   "source": []
  },
  {
   "cell_type": "code",
   "execution_count": null,
   "metadata": {},
   "outputs": [],
   "source": []
  },
  {
   "cell_type": "code",
   "execution_count": null,
   "metadata": {},
   "outputs": [],
   "source": []
  },
  {
   "cell_type": "markdown",
   "metadata": {},
   "source": [
    "## DGL"
   ]
  },
  {
   "cell_type": "markdown",
   "metadata": {},
   "source": [
    "The most popular GNN models can be written as follows:\n",
    "\n",
    "$$\n",
    "h_i^{(l+1)}=\\sigma(b^{(l)}+\\sum_{j\\in\\mathcal{N}(i)}e_{ij}h_j^{(l)}W^{(l)})\n",
    "$$\n",
    "\n",
    "where $h_i^{(l+1)}$ is the output feature, $\\sigma$ is the activation function, $e_{ij}$ is the edge weight, $W^{(l)}$ is the learnable parameters, $b^{(l)\n",
    "}$ is the bias.\n",
    "\n",
    "First, you will use the PyTorch-Geometric(PyG) to implement this convolution layer.\n",
    "\n",
    "Now, you will implement the same functions with DGL."
   ]
  },
  {
   "cell_type": "code",
   "execution_count": 66,
   "metadata": {
    "id": "eK5wT_h9Oh6S"
   },
   "outputs": [],
   "source": [
    "import dgl\n",
    "import dgl.function as fn\n",
    "import numpy as np\n",
    "import torch\n",
    "import torch.nn as nn\n",
    "\n",
    "\n",
    "class DGL_conv(nn.Module):\n",
    "    def __init__(self, in_channel, out_channel):\n",
    "        super(DGL_conv, self).__init__()\n",
    "        self.in_channel = in_channel\n",
    "        self.out_channel = out_channel\n",
    "        self.W = nn.Parameter(torch.ones(in_channel, out_channel))\n",
    "        self.b = nn.Parameter(torch.ones(out_channel))\n",
    "\n",
    "    def forward(self, g, h):\n",
    "        # 输入为g和feat(h)\n",
    "        with g.local_scope():\n",
    "            hw = h @ self.W\n",
    "            g.ndata[\"hw\"] = hw\n",
    "            g.update_all(fn.u_mul_e(\"hw\", \"e\", \"ehw\"), fn.sum(\"ehw\", \"ehw_N\"))\n",
    "            ehw_N = g.ndata[\"ehw_N\"]\n",
    "\n",
    "            return ehw_N + self.b"
   ]
  },
  {
   "cell_type": "markdown",
   "metadata": {
    "id": "D3YW_vmbT_SC"
   },
   "source": [
    "Also, you can also run the code below to check the correctness."
   ]
  },
  {
   "cell_type": "code",
   "execution_count": 67,
   "metadata": {
    "id": "dp1e8tejUFlS"
   },
   "outputs": [],
   "source": [
    "src = torch.tensor([0, 1, 1, 2, 2, 4])\n",
    "dst = torch.tensor([2, 0, 2, 3, 4, 3])\n",
    "h = torch.ones((5, 8))\n",
    "g = dgl.graph((src, dst))\n",
    "edge_weight = 2 * torch.ones(6)\n",
    "\n",
    "# 边赋值\n",
    "g.edata[\"e\"] = edge_weight"
   ]
  },
  {
   "cell_type": "code",
   "execution_count": 72,
   "metadata": {},
   "outputs": [
    {
     "name": "stdout",
     "output_type": "stream",
     "text": [
      "tensor([[17., 17., 17., 17.],\n",
      "        [ 1.,  1.,  1.,  1.],\n",
      "        [33., 33., 33., 33.],\n",
      "        [33., 33., 33., 33.],\n",
      "        [17., 17., 17., 17.]], grad_fn=<AddBackward0>)\n"
     ]
    }
   ],
   "source": [
    "conv = DGL_conv(8, 4)\n",
    "# 输入为h\n",
    "output = conv(g, h)\n",
    "print(output)\n",
    "\n",
    "assert np.allclose(\n",
    "    output.detach().numpy(),\n",
    "    [\n",
    "        [17.0, 17.0, 17.0, 17.0],\n",
    "        [1.0, 1.0, 1.0, 1.0],\n",
    "        [33.0, 33.0, 33.0, 33.0],\n",
    "        [33.0, 33.0, 33.0, 33.0],\n",
    "        [17.0, 17.0, 17.0, 17.0],\n",
    "    ],\n",
    ")"
   ]
  },
  {
   "cell_type": "code",
   "execution_count": null,
   "metadata": {},
   "outputs": [],
   "source": []
  },
  {
   "cell_type": "code",
   "execution_count": null,
   "metadata": {},
   "outputs": [],
   "source": [
    "# conv = DGL_conv(8, 4)\n",
    "# output = conv(g, h, edge_weight)   ------------------------------<<<<<<<\n",
    "\n",
    "# assert np.allclose(\n",
    "#     output.detach().numpy(),\n",
    "#     [\n",
    "#         [17.0, 17.0, 17.0, 17.0],\n",
    "#         [1.0, 1.0, 1.0, 1.0],\n",
    "#         [33.0, 33.0, 33.0, 33.0],\n",
    "#         [33.0, 33.0, 33.0, 33.0],\n",
    "#         [17.0, 17.0, 17.0, 17.0],\n",
    "#     ],\n",
    "# )"
   ]
  },
  {
   "cell_type": "code",
   "execution_count": null,
   "metadata": {},
   "outputs": [],
   "source": []
  },
  {
   "cell_type": "code",
   "execution_count": null,
   "metadata": {},
   "outputs": [],
   "source": []
  },
  {
   "cell_type": "code",
   "execution_count": null,
   "metadata": {},
   "outputs": [],
   "source": []
  },
  {
   "cell_type": "code",
   "execution_count": null,
   "metadata": {},
   "outputs": [],
   "source": []
  },
  {
   "cell_type": "code",
   "execution_count": null,
   "metadata": {},
   "outputs": [],
   "source": []
  },
  {
   "cell_type": "code",
   "execution_count": null,
   "metadata": {},
   "outputs": [],
   "source": []
  },
  {
   "cell_type": "code",
   "execution_count": null,
   "metadata": {},
   "outputs": [],
   "source": []
  },
  {
   "cell_type": "code",
   "execution_count": null,
   "metadata": {},
   "outputs": [],
   "source": []
  },
  {
   "cell_type": "code",
   "execution_count": null,
   "metadata": {},
   "outputs": [],
   "source": []
  },
  {
   "cell_type": "code",
   "execution_count": null,
   "metadata": {},
   "outputs": [],
   "source": []
  },
  {
   "cell_type": "code",
   "execution_count": null,
   "metadata": {},
   "outputs": [],
   "source": []
  },
  {
   "cell_type": "code",
   "execution_count": null,
   "metadata": {},
   "outputs": [],
   "source": []
  }
 ],
 "metadata": {
  "colab": {
   "provenance": []
  },
  "kernelspec": {
   "display_name": "GML",
   "language": "python",
   "name": "gml"
  },
  "language_info": {
   "codemirror_mode": {
    "name": "ipython",
    "version": 3
   },
   "file_extension": ".py",
   "mimetype": "text/x-python",
   "name": "python",
   "nbconvert_exporter": "python",
   "pygments_lexer": "ipython3",
   "version": "3.8.19"
  }
 },
 "nbformat": 4,
 "nbformat_minor": 4
}
