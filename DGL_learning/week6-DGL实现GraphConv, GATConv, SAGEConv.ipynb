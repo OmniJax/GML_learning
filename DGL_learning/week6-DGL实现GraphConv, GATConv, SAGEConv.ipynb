{
 "cells": [
  {
   "cell_type": "markdown",
   "metadata": {
    "id": "YqM5Z7qKUgqS"
   },
   "source": [
    "In this week, you are required to implement a toy GATConv and SAGEConv based on document. Also, you need to implement both in PyG and DGL. In this work, you will get a further understanding of tensor-centric in PyG and graph-centric in DGL.\n",
    "\n",
    "</style>\n"
   ]
  },
  {
   "cell_type": "markdown",
   "metadata": {},
   "source": [
    "## DGL"
   ]
  },
  {
   "cell_type": "code",
   "execution_count": 1,
   "metadata": {},
   "outputs": [],
   "source": [
    "import os\n",
    "\n",
    "import dgl\n",
    "import dgl.function as fn\n",
    "import matplotlib.pyplot as plt\n",
    "import networkx as nx\n",
    "import numpy as np\n",
    "import torch\n",
    "import torch.nn as nn\n",
    "import torch.nn.functional as F\n",
    "\n",
    "os.environ[\"KMP_DUPLICATE_LIB_OK\"] = \"TRUE\""
   ]
  },
  {
   "cell_type": "markdown",
   "metadata": {
    "jp-MarkdownHeadingCollapsed": true
   },
   "source": [
    "### GraphConv\n",
    "Mathematically it is defined as follows:\n",
    "\n",
    "$$\n",
    "  h_i^{(l+1)} = \\sigma(b^{(l)} + \\sum_{j\\in\\mathcal{N}(i)}\\frac{1}{c_{ji}}h_j^{(l)}W^{(l)})\n",
    "$$\n",
    "where $\\mathcal{N}(i)$ is the set of neighbors of node $i$, \n",
    "$c_{ji}$ is the product of the square root of node degrees\n",
    "$(i.e.,  c_{ji} = \\sqrt{|\\mathcal{N}(j)|}\\sqrt{|\\mathcal{N}(i)|})$,\n",
    "and $\\sigma$ is an activation function.\n",
    "\n",
    "If a weight tensor on each edge is provided, the weighted graph convolution is defined as:\n",
    "\n",
    "$$\n",
    "  h_i^{(l+1)} = \\sigma(b^{(l)} + \\sum_{j\\in\\mathcal{N}(i)}\\frac{e_{ji}}{c_{ji}}h_j^{(l)}W^{(l)})\n",
    "$$\n",
    "where $e_{ji}$is the scalar weight on the edge from node $j$ to node $i$.\n",
    "This is NOT equivalent to the weighted graph convolutional network formulation in the paper.\n",
    "\n",
    "To customize the normalization term :$c_{ji}$, one can first set ``norm='none'`` for\n",
    "the model, and send the pre-normalized :$e_{ji}$ to the forward computation. We provide\n",
    ":class:`~dgl.nn.pytorch.EdgeWeightNorm` to normalize scalar edge weight following the GCN paper."
   ]
  },
  {
   "cell_type": "code",
   "execution_count": null,
   "metadata": {},
   "outputs": [],
   "source": []
  },
  {
   "cell_type": "code",
   "execution_count": 3,
   "metadata": {},
   "outputs": [
    {
     "data": {
      "image/png": "[encoded data removed]",
      "text/plain": [
       "<Figure size 200x200 with 1 Axes>"
      ]
     },
     "metadata": {},
     "output_type": "display_data"
    }
   ],
   "source": [
    "src = torch.tensor([0, 1, 1, 2, 2, 4])\n",
    "dst = torch.tensor([2, 0, 2, 3, 4, 3])\n",
    "h = torch.ones((5, 8))\n",
    "\n",
    "g = dgl.graph((src, dst))\n",
    "g.ndata[\"h\"] = h\n",
    "edge_weight = torch.ones(g.num_edges())  # 给各个边赋格权重\n",
    "g.edata[\"edge_weight\"] = edge_weight\n",
    "plt.figure(figsize=(2, 2))\n",
    "nx.draw(dgl.to_networkx(g), with_labels=True)"
   ]
  },
  {
   "cell_type": "code",
   "execution_count": null,
   "metadata": {},
   "outputs": [],
   "source": []
  },
  {
   "cell_type": "code",
   "execution_count": 2,
   "metadata": {},
   "outputs": [],
   "source": [
    "class DGL_GraphConv(nn.Module):\n",
    "    def __init__(self, in_channels, out_channels):\n",
    "        super(DGL_GraphConv, self).__init__()\n",
    "        self.W = nn.Parameter(torch.rand(in_channels, out_channels))\n",
    "        self.b = nn.Parameter(torch.rand(out_channels))\n",
    "        self.activate = nn.ReLU()\n",
    "\n",
    "    def forward(self, g, h):\n",
    "        with g.local_scope():\n",
    "            # 这里的normalization用了left+right，也就是考虑了出度+入度\n",
    "            norm_src = g.out_degrees().clamp(min=1).view(-1, 1)\n",
    "            norm_src = torch.pow(norm_src, -0.5)\n",
    "\n",
    "            feat_src = norm_src * h\n",
    "            feat_src = torch.matmul(feat_src, self.W)\n",
    "            g.srcdata[\"h\"] = feat_src\n",
    "            g.update_all(fn.u_mul_e(\"h\", \"edge_weight\", \"he\"), fn.sum(\"he\", \"rst\"))\n",
    "            rst = g.dstdata[\"rst\"]\n",
    "\n",
    "            norm_dst = g.in_degrees().clamp(min=1).view(-1, 1)\n",
    "            norm_dst = torch.pow(norm_dst, -0.5)\n",
    "            rst = rst * norm_dst\n",
    "\n",
    "            rst += self.b\n",
    "            return F.relu(rst)"
   ]
  },
  {
   "cell_type": "code",
   "execution_count": 4,
   "metadata": {},
   "outputs": [],
   "source": [
    "in_channels = h.shape[1]\n",
    "out_channels = in_channels  # *2"
   ]
  },
  {
   "cell_type": "code",
   "execution_count": 5,
   "metadata": {},
   "outputs": [
    {
     "data": {
      "text/plain": [
       "tensor([[2.9322, 3.3376, 3.0779, 3.5698, 3.4936, 3.0184, 2.9372, 3.0565],\n",
       "        [0.4419, 0.9709, 0.6547, 0.4100, 0.6478, 0.7499, 0.4921, 0.3641],\n",
       "        [4.6931, 5.0111, 4.7914, 5.8041, 5.5060, 4.6225, 4.6662, 4.9603],\n",
       "        [4.6931, 5.0111, 4.7914, 5.8041, 5.5060, 4.6225, 4.6662, 4.9603],\n",
       "        [2.9322, 3.3376, 3.0779, 3.5698, 3.4936, 3.0184, 2.9372, 3.0565]],\n",
       "       grad_fn=<ReluBackward0>)"
      ]
     },
     "execution_count": 5,
     "metadata": {},
     "output_type": "execute_result"
    }
   ],
   "source": [
    "dgl_graphConv = DGL_GraphConv(in_channels, out_channels)\n",
    "dgl_graphConv(g, h)"
   ]
  },
  {
   "cell_type": "code",
   "execution_count": null,
   "metadata": {},
   "outputs": [],
   "source": []
  },
  {
   "cell_type": "code",
   "execution_count": null,
   "metadata": {},
   "outputs": [],
   "source": []
  },
  {
   "cell_type": "code",
   "execution_count": null,
   "metadata": {},
   "outputs": [],
   "source": []
  },
  {
   "cell_type": "markdown",
   "metadata": {
    "jp-MarkdownHeadingCollapsed": true
   },
   "source": [
    "### GATConv\n",
    "Graph attention layer from Graph Attention Network\n",
    "$$h_i^{(l+1)} = \\sum_{j\\in \\mathcal{N}(i)} \\alpha_{i,j} W^{(l)} h_j^{(l)}$$\n",
    "\n",
    "where $\\alpha_{ij}$ is the attention score bewteen node $i$ and\n",
    "node $j$:\n",
    "\n",
    "$$\n",
    "\\begin{align}\\begin{aligned}\\alpha_{ij}^{l} &= \\mathrm{softmax_i} (e_{ij}^{l})\\\\e_{ij}^{l} &= \n",
    "\\mathrm{LeakyReLU}\\left(\\vec{a}^T [W h_{i} \\| W h_{j}]\\right)\\end{aligned}\\end{align}\n",
    "$$\n",
    "\n",
    "这里的 $softmax_i$ 是对节点$i$的多个边进行归一化，不考虑其他边"
   ]
  },
  {
   "cell_type": "code",
   "execution_count": 17,
   "metadata": {},
   "outputs": [],
   "source": [
    "from dgl.nn.functional import edge_softmax\n",
    "\n",
    "\n",
    "class DGL_GATConv(nn.Module):\n",
    "    def __init__(self, in_channels, out_channels):\n",
    "        super(DGL_GATConv, self).__init__()\n",
    "        # self.W=nn.Parameter(torch.rand(in_channels,out_channels))\n",
    "        # self.a=nn.Parameter(torch.rand(2*in_channels,1))\n",
    "        self.W = nn.Linear(in_channels, out_channels, bias=False)\n",
    "        self.a_fc = nn.Linear(out_channels * 2, 1, bias=False)\n",
    "        self.leakyrelu = nn.LeakyReLU()\n",
    "\n",
    "    def edge_attention(self, edges):\n",
    "        hiW = self.W(edges.dst[\"h\"])\n",
    "        hjW = self.W(edges.src[\"h\"])\n",
    "        h_cat = torch.cat([hiW, hjW], dim=1)\n",
    "        e = self.leakyrelu(self.a_fc(h_cat))\n",
    "        return {\"e\": e}\n",
    "\n",
    "    def forward(self, g: dgl.graph, h, get_attention=False):\n",
    "        with g.local_scope():\n",
    "            g.apply_edges(self.edge_attention)\n",
    "            e = g.edata[\"e\"]\n",
    "            alpha = edge_softmax(g, e)\n",
    "            g.edata[\"alpha\"] = alpha\n",
    "            hW = self.W(h)\n",
    "\n",
    "            g.ndata[\"hW\"] = hW\n",
    "            g.update_all(fn.u_mul_e(\"hW\", \"alpha\", \"m\"), fn.sum(\"m\", \"hN\"))\n",
    "            hN = g.ndata[\"hN\"]\n",
    "\n",
    "            if get_attention:\n",
    "                return hN, alpha\n",
    "            else:\n",
    "                return hN"
   ]
  },
  {
   "cell_type": "code",
   "execution_count": 44,
   "metadata": {},
   "outputs": [
    {
     "data": {
      "text/plain": [
       "Graph(num_nodes=5, num_edges=11,\n",
       "      ndata_schemes={'h': Scheme(shape=(8,), dtype=torch.float32)}\n",
       "      edata_schemes={})"
      ]
     },
     "execution_count": 44,
     "metadata": {},
     "output_type": "execute_result"
    }
   ],
   "source": [
    "src = torch.tensor([0, 1, 1, 2, 2, 4])\n",
    "dst = torch.tensor([2, 0, 2, 3, 4, 3])\n",
    "h = torch.ones((5, 8))\n",
    "\n",
    "g = dgl.graph((src, dst))\n",
    "g = dgl.add_self_loop(g)\n",
    "g.ndata[\"h\"] = h\n",
    "g"
   ]
  },
  {
   "cell_type": "code",
   "execution_count": 45,
   "metadata": {},
   "outputs": [
    {
     "name": "stdout",
     "output_type": "stream",
     "text": [
      "Parameter containing:\n",
      "tensor([[1., 1., 1., 1., 1., 1., 1., 1.],\n",
      "        [1., 1., 1., 1., 1., 1., 1., 1.],\n",
      "        [1., 1., 1., 1., 1., 1., 1., 1.],\n",
      "        [1., 1., 1., 1., 1., 1., 1., 1.]], requires_grad=True)\n",
      "Parameter containing:\n",
      "tensor([[1., 1., 1., 1., 1., 1., 1., 1.]], requires_grad=True)\n"
     ]
    }
   ],
   "source": [
    "myGATConv = DGL_GATConv(8, 4)\n",
    "torch.nn.init.ones_(myGATConv.W.weight)\n",
    "torch.nn.init.ones_(myGATConv.a_fc.weight)\n",
    "\n",
    "print(myGATConv.W.weight)\n",
    "print(myGATConv.a_fc.weight)"
   ]
  },
  {
   "cell_type": "code",
   "execution_count": 47,
   "metadata": {},
   "outputs": [
    {
     "data": {
      "text/plain": [
       "(tensor([[8., 8., 8., 8.],\n",
       "         [8., 8., 8., 8.],\n",
       "         [8., 8., 8., 8.],\n",
       "         [8., 8., 8., 8.],\n",
       "         [8., 8., 8., 8.]], grad_fn=<GSpMMBackward>),\n",
       " tensor([[0.3333],\n",
       "         [0.5000],\n",
       "         [0.3333],\n",
       "         [0.3333],\n",
       "         [0.5000],\n",
       "         [0.3333],\n",
       "         [0.5000],\n",
       "         [1.0000],\n",
       "         [0.3333],\n",
       "         [0.3333],\n",
       "         [0.5000]], grad_fn=<EdgeSoftmaxBackward>))"
      ]
     },
     "execution_count": 47,
     "metadata": {},
     "output_type": "execute_result"
    }
   ],
   "source": [
    "myGATConv(g, h, get_attention=True)"
   ]
  },
  {
   "cell_type": "code",
   "execution_count": 135,
   "metadata": {},
   "outputs": [],
   "source": []
  },
  {
   "cell_type": "code",
   "execution_count": null,
   "metadata": {},
   "outputs": [],
   "source": []
  },
  {
   "cell_type": "code",
   "execution_count": null,
   "metadata": {},
   "outputs": [],
   "source": []
  },
  {
   "cell_type": "code",
   "execution_count": null,
   "metadata": {},
   "outputs": [],
   "source": []
  },
  {
   "cell_type": "code",
   "execution_count": 27,
   "metadata": {},
   "outputs": [],
   "source": [
    "# Case 1: Homogeneous graph\n",
    "from dgl.nn import GATConv\n",
    "\n",
    "g = dgl.graph(([0, 1, 2, 3, 2, 5], [1, 2, 3, 4, 0, 3]))\n",
    "g = dgl.add_self_loop(g)"
   ]
  },
  {
   "cell_type": "code",
   "execution_count": 42,
   "metadata": {},
   "outputs": [
    {
     "data": {
      "text/plain": [
       "Graph(num_nodes=5, num_edges=11,\n",
       "      ndata_schemes={'h': Scheme(shape=(8,), dtype=torch.float32)}\n",
       "      edata_schemes={})"
      ]
     },
     "execution_count": 42,
     "metadata": {},
     "output_type": "execute_result"
    }
   ],
   "source": [
    "src = torch.tensor([0, 1, 1, 2, 2, 4])\n",
    "dst = torch.tensor([2, 0, 2, 3, 4, 3])\n",
    "h = torch.ones((5, 8))\n",
    "\n",
    "g = dgl.graph((src, dst))\n",
    "g = dgl.add_self_loop(g)\n",
    "g.ndata[\"h\"] = h\n",
    "g"
   ]
  },
  {
   "cell_type": "code",
   "execution_count": 48,
   "metadata": {},
   "outputs": [
    {
     "name": "stdout",
     "output_type": "stream",
     "text": [
      "Parameter containing:\n",
      "tensor([[1., 1., 1., 1., 1., 1., 1., 1.],\n",
      "        [1., 1., 1., 1., 1., 1., 1., 1.],\n",
      "        [1., 1., 1., 1., 1., 1., 1., 1.],\n",
      "        [1., 1., 1., 1., 1., 1., 1., 1.]], requires_grad=True)\n",
      "Parameter containing:\n",
      "tensor([[[1., 1., 1., 1.]]], requires_grad=True)\n",
      "Parameter containing:\n",
      "tensor([[[1., 1., 1., 1.]]], requires_grad=True)\n"
     ]
    }
   ],
   "source": [
    "gatconv = GATConv(8, 4, num_heads=1)\n",
    "\n",
    "torch.nn.init.ones_(gatconv.fc.weight)\n",
    "torch.nn.init.ones_(gatconv.attn_l)\n",
    "torch.nn.init.ones_(gatconv.attn_r)\n",
    "\n",
    "print(gatconv.fc.weight)\n",
    "print(gatconv.attn_l)\n",
    "print(gatconv.attn_r)"
   ]
  },
  {
   "cell_type": "code",
   "execution_count": 49,
   "metadata": {},
   "outputs": [
    {
     "data": {
      "text/plain": [
       "(tensor([[[8., 8., 8., 8.]],\n",
       " \n",
       "         [[8., 8., 8., 8.]],\n",
       " \n",
       "         [[8., 8., 8., 8.]],\n",
       " \n",
       "         [[8., 8., 8., 8.]],\n",
       " \n",
       "         [[8., 8., 8., 8.]]], grad_fn=<AddBackward0>),\n",
       " tensor([[[0.3333]],\n",
       " \n",
       "         [[0.5000]],\n",
       " \n",
       "         [[0.3333]],\n",
       " \n",
       "         [[0.3333]],\n",
       " \n",
       "         [[0.5000]],\n",
       " \n",
       "         [[0.3333]],\n",
       " \n",
       "         [[0.5000]],\n",
       " \n",
       "         [[1.0000]],\n",
       " \n",
       "         [[0.3333]],\n",
       " \n",
       "         [[0.3333]],\n",
       " \n",
       "         [[0.5000]]], grad_fn=<EdgeSoftmaxBackward>))"
      ]
     },
     "execution_count": 49,
     "metadata": {},
     "output_type": "execute_result"
    }
   ],
   "source": [
    "gatconv(g, h, get_attention=True)"
   ]
  },
  {
   "cell_type": "code",
   "execution_count": 51,
   "metadata": {},
   "outputs": [],
   "source": [
    "# 完全相同耶\n",
    "# (tensor([[8., 8., 8., 8.],\n",
    "#          [8., 8., 8., 8.],\n",
    "#          [8., 8., 8., 8.],\n",
    "#          [8., 8., 8., 8.],\n",
    "#          [8., 8., 8., 8.]], grad_fn=<GSpMMBackward>),\n",
    "#  tensor([[0.3333],\n",
    "#          [0.5000],\n",
    "#          [0.3333],\n",
    "#          [0.3333],\n",
    "#          [0.5000],\n",
    "#          [0.3333],\n",
    "#          [0.5000],\n",
    "#          [1.0000],\n",
    "#          [0.3333],\n",
    "#          [0.3333],\n",
    "#          [0.5000]], grad_fn=<EdgeSoftmaxBackward>))"
   ]
  },
  {
   "cell_type": "code",
   "execution_count": null,
   "metadata": {},
   "outputs": [],
   "source": []
  },
  {
   "cell_type": "code",
   "execution_count": null,
   "metadata": {},
   "outputs": [],
   "source": []
  },
  {
   "cell_type": "code",
   "execution_count": null,
   "metadata": {},
   "outputs": [],
   "source": []
  },
  {
   "cell_type": "code",
   "execution_count": null,
   "metadata": {},
   "outputs": [],
   "source": []
  },
  {
   "cell_type": "code",
   "execution_count": null,
   "metadata": {},
   "outputs": [],
   "source": []
  },
  {
   "cell_type": "code",
   "execution_count": null,
   "metadata": {},
   "outputs": [],
   "source": []
  },
  {
   "cell_type": "code",
   "execution_count": null,
   "metadata": {},
   "outputs": [],
   "source": []
  },
  {
   "cell_type": "code",
   "execution_count": null,
   "metadata": {},
   "outputs": [],
   "source": []
  },
  {
   "cell_type": "code",
   "execution_count": null,
   "metadata": {},
   "outputs": [],
   "source": []
  },
  {
   "cell_type": "markdown",
   "metadata": {},
   "source": [
    "### SAGEConv\n",
    "$$\n",
    "\\begin{align}\\begin{aligned}\n",
    "h_{\\mathcal{N}(i)}^{(l+1)} &= \\mathrm{aggregate}\\left(\\{h_{j}^{l}, \\forall j \\in \\mathcal{N}(i) \\}\\right)\\\\\\\\\n",
    "h_{i}^{(l+1)} &= \\sigma \\left(W \\cdot \\mathrm{concat}(h_{i}^{l}, h_{\\mathcal{N}(i)}^{l+1}) \\right)\\\\\\\\\n",
    "h_{i}^{(l+1)} &= \\mathrm{norm}(h_{i}^{(l+1)})\\\\\\\\\n",
    "\\mathrm{norm}(v) &= \\frac{v}{\\max(\\lVert v \\rVert_p,\\epsilon)}\n",
    "\\end{aligned}\\end{align}\n",
    "$$\n",
    "\n",
    "If a weight tensor on each edge is provided, the aggregation becomes:\n",
    "$$\n",
    "h_{\\mathcal{N}(i)}^{(l+1)} = \\mathrm{aggregate}\n",
    "\\left(\\{e_{ji} h_{j}^{l}, \\forall j \\in \\mathcal{N}(i) \\}\\right)\n",
    "$$\n",
    "where $e_{ji}$ is the scalar weight on the edge from node $j$ to node $i$.\n",
    "    Please make sure that $e_{ji}$ is broadcastable with $h_j^{l}$.\n",
    "\n"
   ]
  },
  {
   "cell_type": "code",
   "execution_count": null,
   "metadata": {
    "id": "HbdLhvBSVYEr"
   },
   "outputs": [],
   "source": [
    "class DGL_SAGEConv(nn.Module):\n",
    "    def __init__(self, in_channel, out_channel):\n",
    "        pass\n",
    "\n",
    "    def forward(self, g, h):\n",
    "        pass"
   ]
  },
  {
   "cell_type": "markdown",
   "metadata": {
    "id": "G955HzNxVjSu"
   },
   "source": [
    "If you want to check your answer, you can run the following code."
   ]
  },
  {
   "cell_type": "code",
   "execution_count": 273,
   "metadata": {
    "id": "PKgfXLyLVwus"
   },
   "outputs": [
    {
     "data": {
      "text/plain": [
       "Graph(num_nodes=5, num_edges=7,\n",
       "      ndata_schemes={'h': Scheme(shape=(5,), dtype=torch.float32)}\n",
       "      edata_schemes={'e': Scheme(shape=(), dtype=torch.float32)})"
      ]
     },
     "execution_count": 273,
     "metadata": {},
     "output_type": "execute_result"
    }
   ],
   "source": [
    "src = torch.tensor([0, 1, 1, 2, 2, 4, 1])\n",
    "dst = torch.tensor([2, 0, 2, 3, 4, 3, 3])\n",
    "h = torch.ones((5, 8))\n",
    "h = torch.FloatTensor(\n",
    "    [\n",
    "        [0, 0, 0, 0, 0],\n",
    "        [1, 1, 1, 1, 1],\n",
    "        [2, 2, 2, 2, 2],\n",
    "        [3, 3, 3, 3, 3],\n",
    "        [4, 4, 4, 4, 4],\n",
    "    ]\n",
    ")\n",
    "\n",
    "g = dgl.graph((src, dst))\n",
    "g.edata[\"e\"] = torch.ones(g.num_edges(), dtype=torch.float)\n",
    "g.ndata[\"h\"] = h\n",
    "# g = g.add_self_loop()\n",
    "\n",
    "in_channels = 5\n",
    "out_channels = 7\n",
    "g"
   ]
  },
  {
   "cell_type": "code",
   "execution_count": null,
   "metadata": {},
   "outputs": [],
   "source": []
  },
  {
   "cell_type": "code",
   "execution_count": null,
   "metadata": {},
   "outputs": [],
   "source": []
  },
  {
   "cell_type": "code",
   "execution_count": 274,
   "metadata": {},
   "outputs": [
    {
     "name": "stdout",
     "output_type": "stream",
     "text": [
      "tensor([1, 0, 2, 3, 1])\n"
     ]
    },
    {
     "data": {
      "image/png": "[encoded data removed]",
      "text/plain": [
       "<Figure size 200x200 with 1 Axes>"
      ]
     },
     "metadata": {},
     "output_type": "display_data"
    }
   ],
   "source": [
    "plt.figure(figsize=(2, 2))\n",
    "nx.draw(dgl.to_networkx(g), with_labels=True)\n",
    "print(g.in_degrees())"
   ]
  },
  {
   "cell_type": "code",
   "execution_count": null,
   "metadata": {},
   "outputs": [],
   "source": []
  },
  {
   "attachments": {
    "b59ca34e-b1a0-4be9-b765-4290195ceb1e.png": {
     "image/png": "[encoded data removed]"
    }
   },
   "cell_type": "markdown",
   "metadata": {},
   "source": [
    "由于DGL的消息传递机制，在msg_func中传入参数为edges，通过edges.src和.dst来获取边两端的节点。\n",
    "```python\n",
    "def get_neighbour(edges: dgl.udf.EdgeBatch):\n",
    "    hN = edges.src[\"h\"] # 邻居\n",
    "    hi = edges.dst[\"h\"] # 自身\n",
    "    h_cat = torch.cat([hi, hN], dim=1) #拼接\n",
    "    # 然而这么做，当某个节点没有输入边时，自己的特征也会被设置成0\n",
    "    return {\"h_cat\": h_cat}\n",
    "```\n",
    "当某个节点没有输入边时，比如上图的节点1，则在update时，msg_func中无法获取1节点自身的信息，便在reduce_func中自动将传入数据设为0。结果变为\n",
    "<img src=\"attachment:b59ca34e-b1a0-4be9-b765-4290195ceb1e.png\" style=\"zoom: 70%\"/>\n",
    "\n",
    "解决方式：\n",
    "- 1.  增加self_loop\n",
    "  2.  ```python\n",
    "        g.update_all(fn.copy_u('h','tmp'),fn.sum('tmp','hN')) # 先聚合邻居\n",
    "        hN=g.dstdata['hN']\n",
    "        h_cat=torch.cat([hi,hN],dim=1) # 再进行拼接\n",
    "        h_cat=relu(W(h_cat))\n",
    "        n=F.normalize(h_cat,dim=1)\n",
    "      ```\n",
    "  3.  将W拆开\n",
    "\n",
    "\n"
   ]
  },
  {
   "cell_type": "code",
   "execution_count": 292,
   "metadata": {},
   "outputs": [
    {
     "name": "stdout",
     "output_type": "stream",
     "text": [
      "tensor([[0.3780, 0.3780, 0.3780, 0.3780, 0.3780, 0.3780, 0.3780],\n",
      "        [0.3780, 0.3780, 0.3780, 0.3780, 0.3780, 0.3780, 0.3780],\n",
      "        [0.3780, 0.3780, 0.3780, 0.3780, 0.3780, 0.3780, 0.3780],\n",
      "        [0.3780, 0.3780, 0.3780, 0.3780, 0.3780, 0.3780, 0.3780],\n",
      "        [0.3780, 0.3780, 0.3780, 0.3780, 0.3780, 0.3780, 0.3780]],\n",
      "       grad_fn=<DivBackward0>)\n"
     ]
    }
   ],
   "source": [
    "W = nn.Linear(in_channels * 2, out_channels, bias=False)\n",
    "relu = nn.ReLU()\n",
    "nn.init.ones_(W.weight)\n",
    "\n",
    "\n",
    "def get_neighbour(edges: dgl.udf.EdgeBatch):\n",
    "    hN = edges.src[\"h\"]\n",
    "    hi = edges.dst[\"h\"]\n",
    "    h_cat = torch.cat([hi, hN], dim=1)\n",
    "    \n",
    "    return {\"h_cat\": h_cat}\n",
    "\n",
    "\n",
    "def reduce_func(nodes: dgl.udf.NodeBatch):\n",
    "    return {}\n",
    "\n",
    "\n",
    "with g.local_scope():\n",
    "    hi=g.ndata['h']\n",
    "    # zeros=torch.zeros_like(hi)\n",
    "    # hi=torch.cat([hi,zeros],dim=1)\n",
    "    g.update_all(fn.copy_u('h','tmp'),fn.sum('tmp','hN'))\n",
    "    hN=g.dstdata['hN']\n",
    "    h_cat=torch.cat([hi,hN],dim=1)\n",
    "    h_cat=relu(W(h_cat))\n",
    "    n=F.normalize(h_cat,dim=1)\n",
    "    \n",
    "    print(n)"
   ]
  },
  {
   "cell_type": "code",
   "execution_count": null,
   "metadata": {},
   "outputs": [],
   "source": []
  },
  {
   "cell_type": "code",
   "execution_count": null,
   "metadata": {},
   "outputs": [],
   "source": []
  },
  {
   "cell_type": "code",
   "execution_count": null,
   "metadata": {},
   "outputs": [],
   "source": []
  },
  {
   "cell_type": "code",
   "execution_count": null,
   "metadata": {},
   "outputs": [],
   "source": []
  },
  {
   "cell_type": "code",
   "execution_count": null,
   "metadata": {},
   "outputs": [],
   "source": []
  },
  {
   "cell_type": "code",
   "execution_count": 257,
   "metadata": {},
   "outputs": [],
   "source": [
    "from dgl.nn import SAGEConv"
   ]
  },
  {
   "cell_type": "code",
   "execution_count": 258,
   "metadata": {},
   "outputs": [
    {
     "name": "stdout",
     "output_type": "stream",
     "text": [
      "Parameter containing:\n",
      "tensor([[1., 1., 1., 1., 1.],\n",
      "        [1., 1., 1., 1., 1.],\n",
      "        [1., 1., 1., 1., 1.],\n",
      "        [1., 1., 1., 1., 1.],\n",
      "        [1., 1., 1., 1., 1.],\n",
      "        [1., 1., 1., 1., 1.],\n",
      "        [1., 1., 1., 1., 1.]], requires_grad=True)\n",
      "Parameter containing:\n",
      "tensor([[1., 1., 1., 1., 1.],\n",
      "        [1., 1., 1., 1., 1.],\n",
      "        [1., 1., 1., 1., 1.],\n",
      "        [1., 1., 1., 1., 1.],\n",
      "        [1., 1., 1., 1., 1.],\n",
      "        [1., 1., 1., 1., 1.],\n",
      "        [1., 1., 1., 1., 1.]], requires_grad=True)\n"
     ]
    }
   ],
   "source": [
    "sageconv = SAGEConv(\n",
    "    in_channels,\n",
    "    out_channels,\n",
    "    aggregator_type=\"mean\",\n",
    "    bias=False,\n",
    "    activation=relu,\n",
    "    norm=F.normalize,\n",
    ")\n",
    "\n",
    "nn.init.ones_(sageconv.fc_neigh.weight)\n",
    "nn.init.ones_(sageconv.fc_self.weight)\n",
    "print(sageconv.fc_neigh.weight)\n",
    "print(sageconv.fc_self.weight)"
   ]
  },
  {
   "cell_type": "code",
   "execution_count": 259,
   "metadata": {},
   "outputs": [
    {
     "data": {
      "text/plain": [
       "tensor([[0.3780, 0.3780, 0.3780, 0.3780, 0.3780, 0.3780, 0.3780],\n",
       "        [0.3780, 0.3780, 0.3780, 0.3780, 0.3780, 0.3780, 0.3780],\n",
       "        [0.3780, 0.3780, 0.3780, 0.3780, 0.3780, 0.3780, 0.3780],\n",
       "        [0.3780, 0.3780, 0.3780, 0.3780, 0.3780, 0.3780, 0.3780],\n",
       "        [0.3780, 0.3780, 0.3780, 0.3780, 0.3780, 0.3780, 0.3780]],\n",
       "       grad_fn=<DivBackward0>)"
      ]
     },
     "execution_count": 259,
     "metadata": {},
     "output_type": "execute_result"
    }
   ],
   "source": [
    "sageconv(g, h)"
   ]
  },
  {
   "cell_type": "code",
   "execution_count": null,
   "metadata": {},
   "outputs": [],
   "source": []
  },
  {
   "cell_type": "code",
   "execution_count": null,
   "metadata": {},
   "outputs": [],
   "source": []
  }
 ],
 "metadata": {
  "colab": {
   "provenance": []
  },
  "kernelspec": {
   "display_name": "GML",
   "language": "python",
   "name": "gml"
  },
  "language_info": {
   "codemirror_mode": {
    "name": "ipython",
    "version": 3
   },
   "file_extension": ".py",
   "mimetype": "text/x-python",
   "name": "python",
   "nbconvert_exporter": "python",
   "pygments_lexer": "ipython3",
   "version": "3.8.19"
  }
 },
 "nbformat": 4,
 "nbformat_minor": 4
}
