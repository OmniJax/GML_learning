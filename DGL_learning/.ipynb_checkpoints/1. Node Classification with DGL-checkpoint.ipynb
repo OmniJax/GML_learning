{
 "cells": [
  {
   "cell_type": "code",
   "execution_count": 1,
   "id": "93e65f72",
   "metadata": {
    "editable": true,
    "slideshow": {
     "slide_type": ""
    },
    "tags": []
   },
   "outputs": [],
   "source": [
    "import dgl\n",
    "import dgl.data\n",
    "import torch\n",
    "import torch.nn as nn\n",
    "import torch.nn.functional as F\n"
   ]
  },
  {
   "cell_type": "code",
   "execution_count": null,
   "id": "be0222ca-5c0c-4003-a224-1523947cc186",
   "metadata": {
    "editable": true,
    "slideshow": {
     "slide_type": ""
    },
    "tags": []
   },
   "outputs": [],
   "source": []
  },
  {
   "cell_type": "code",
   "execution_count": null,
   "id": "0ca8eefc-905b-434f-8dac-c7a5df740e11",
   "metadata": {
    "editable": true,
    "slideshow": {
     "slide_type": ""
    },
    "tags": []
   },
   "outputs": [],
   "source": []
  },
  {
   "cell_type": "code",
   "execution_count": 2,
   "id": "8511714a",
   "metadata": {},
   "outputs": [
    {
     "name": "stdout",
     "output_type": "stream",
     "text": [
      "  NumNodes: 2708\n",
      "  NumEdges: 10556\n",
      "  NumFeats: 1433\n",
      "  NumClasses: 7\n",
      "  NumTrainingSamples: 140\n",
      "  NumValidationSamples: 500\n",
      "  NumTestSamples: 1000\n",
      "Done loading data from cached files.\n"
     ]
    }
   ],
   "source": [
    "dataset = dgl.data.CoraGraphDataset(\"./\")"
   ]
  },
  {
   "cell_type": "code",
   "execution_count": 3,
   "id": "0e8d29fa",
   "metadata": {},
   "outputs": [
    {
     "name": "stdout",
     "output_type": "stream",
     "text": [
      "n of categories:  7\n"
     ]
    }
   ],
   "source": [
    "print(\"n of categories: \", dataset.num_classes)"
   ]
  },
  {
   "cell_type": "code",
   "execution_count": 4,
   "id": "48278baf",
   "metadata": {},
   "outputs": [],
   "source": [
    "g = dataset[0]"
   ]
  },
  {
   "cell_type": "code",
   "execution_count": 5,
   "id": "94cc48d9",
   "metadata": {},
   "outputs": [
    {
     "name": "stdout",
     "output_type": "stream",
     "text": [
      "Cora数据集 torch.Size([2708, 1433])\n",
      "Node features\n",
      "{'train_mask': tensor([ True,  True,  True,  ..., False, False, False]), 'label': tensor([3, 4, 4,  ..., 3, 3, 3]), 'val_mask': tensor([False, False, False,  ..., False, False, False]), 'test_mask': tensor([False, False, False,  ...,  True,  True,  True]), 'feat': tensor([[0., 0., 0.,  ..., 0., 0., 0.],\n",
      "        [0., 0., 0.,  ..., 0., 0., 0.],\n",
      "        [0., 0., 0.,  ..., 0., 0., 0.],\n",
      "        ...,\n",
      "        [0., 0., 0.,  ..., 0., 0., 0.],\n",
      "        [0., 0., 0.,  ..., 0., 0., 0.],\n",
      "        [0., 0., 0.,  ..., 0., 0., 0.]])}\n",
      "Edge features\n",
      "{}\n"
     ]
    }
   ],
   "source": [
    "print(\"Cora数据集\", g.ndata[\"feat\"].shape)\n",
    "print(\"Node features\")\n",
    "print(g.ndata)\n",
    "print(\"Edge features\")\n",
    "print(g.edata)"
   ]
  },
  {
   "cell_type": "code",
   "execution_count": 6,
   "id": "0715f866",
   "metadata": {},
   "outputs": [
    {
     "name": "stdout",
     "output_type": "stream",
     "text": [
      "140\n",
      "1000\n"
     ]
    }
   ],
   "source": [
    "print(g.ndata[\"train_mask\"].sum().item())\n",
    "print(g.ndata[\"test_mask\"].sum().item())"
   ]
  },
  {
   "cell_type": "code",
   "execution_count": 7,
   "id": "5bd33eb9",
   "metadata": {},
   "outputs": [],
   "source": [
    "from dgl.nn import GraphConv"
   ]
  },
  {
   "cell_type": "code",
   "execution_count": 8,
   "id": "11c9f24c",
   "metadata": {},
   "outputs": [],
   "source": [
    "class GCN(nn.Module):\n",
    "    def __init__(self, in_feat, h_feats, num_classes):\n",
    "        super(GCN, self).__init__()\n",
    "        self.conv1 = GraphConv(in_feat, h_feats)\n",
    "        self.conv2 = GraphConv(h_feats, num_classes)\n",
    "\n",
    "    def forward(self, g, in_feat):\n",
    "        h = self.conv1(g, in_feat)\n",
    "        h = F.relu(h)\n",
    "        h = self.conv2(g, h)\n",
    "        return h"
   ]
  },
  {
   "cell_type": "code",
   "execution_count": null,
   "id": "a41de85e",
   "metadata": {},
   "outputs": [],
   "source": []
  },
  {
   "cell_type": "code",
   "execution_count": 9,
   "id": "3a5dd1f9",
   "metadata": {
    "editable": true,
    "slideshow": {
     "slide_type": ""
    },
    "tags": []
   },
   "outputs": [],
   "source": [
    "from tensorboardX import SummaryWriter\n",
    "\n",
    "writer_train = SummaryWriter(\"./records/cora_gcn/train\")\n",
    "writer_test = SummaryWriter(\"./records/cora_gcn/test\")\n",
    "writer_val = SummaryWriter(\"./records/cora_gcn/val\")\n",
    "\n",
    "n_epochs = 0\n",
    "\n",
    "\n",
    "def train(g, model, epochs=20):\n",
    "    optimizer = torch.optim.Adam(model.parameters(), lr=0.01)\n",
    "\n",
    "    features = g.ndata[\"feat\"]\n",
    "    labels = g.ndata[\"label\"]\n",
    "    train_mask = g.ndata[\"train_mask\"]\n",
    "    val_mask = g.ndata[\"val_mask\"]\n",
    "    test_mask = g.ndata[\"test_mask\"]\n",
    "\n",
    "    for e in range(epochs):\n",
    "        logits = model(g, features)\n",
    "        pred = logits.argmax(1)\n",
    "\n",
    "        loss = F.cross_entropy(logits[train_mask], labels[train_mask])\n",
    "\n",
    "        with torch.no_grad():\n",
    "            train_acc = (pred[train_mask] == labels[train_mask]).float().mean()\n",
    "            test_acc = (pred[test_mask] == labels[test_mask]).float().mean()\n",
    "            val_acc = (pred[val_mask] == labels[val_mask]).float().mean()\n",
    "\n",
    "            writer_test.add_scalar(\"acc\", test_acc, e)\n",
    "            writer_train.add_scalar(\"acc\", train_acc, e)\n",
    "            writer_val.add_scalar(\"acc\", val_acc, e)\n",
    "\n",
    "        loss.backward()\n",
    "        optimizer.step()\n",
    "        optimizer.zero_grad()\n",
    "\n",
    "        if e % 10 == 0:\n",
    "            print(e, \"loss: \", loss.item())\n",
    "\n",
    "    writer_test.close()\n",
    "    writer_train.close()\n",
    "    writer_val.close()"
   ]
  },
  {
   "cell_type": "code",
   "execution_count": 10,
   "id": "ab6da5fe",
   "metadata": {},
   "outputs": [
    {
     "data": {
      "text/plain": [
       "dict_keys(['train_mask', 'label', 'val_mask', 'test_mask', 'feat'])"
      ]
     },
     "execution_count": 10,
     "metadata": {},
     "output_type": "execute_result"
    }
   ],
   "source": [
    "g.ndata.keys()"
   ]
  },
  {
   "cell_type": "code",
   "execution_count": 11,
   "id": "02355f4c",
   "metadata": {},
   "outputs": [],
   "source": [
    "n_feat = g.ndata[\"feat\"].shape[1]\n",
    "n_classes = dataset.num_classes\n",
    "device = \"cuda\" if torch.cuda.is_available() else \"cpu\"\n",
    "\n",
    "model = GCN(n_feat, 16, n_classes).to(device)\n",
    "g = g.to(device)"
   ]
  },
  {
   "cell_type": "code",
   "execution_count": 12,
   "id": "469c0ea8",
   "metadata": {
    "scrolled": true
   },
   "outputs": [
    {
     "name": "stdout",
     "output_type": "stream",
     "text": [
      "0 loss:  1.9452993869781494\n",
      "10 loss:  1.793276071548462\n",
      "20 loss:  1.5462335348129272\n",
      "30 loss:  1.225893259048462\n",
      "40 loss:  0.8872310519218445\n",
      "50 loss:  0.5988467931747437\n",
      "60 loss:  0.3923974335193634\n",
      "70 loss:  0.2590206563472748\n",
      "80 loss:  0.17637573182582855\n",
      "90 loss:  0.12505769729614258\n",
      "100 loss:  0.09231523424386978\n",
      "110 loss:  0.07068513333797455\n",
      "120 loss:  0.05589540675282478\n",
      "130 loss:  0.045385170727968216\n",
      "140 loss:  0.03766738995909691\n",
      "150 loss:  0.031824272125959396\n",
      "160 loss:  0.027294205501675606\n",
      "170 loss:  0.023703640326857567\n",
      "180 loss:  0.02080441266298294\n",
      "190 loss:  0.01842677779495716\n",
      "200 loss:  0.016451487317681313\n",
      "210 loss:  0.014789470471441746\n",
      "220 loss:  0.013376478105783463\n",
      "230 loss:  0.012164352461695671\n",
      "240 loss:  0.01111654844135046\n",
      "250 loss:  0.010203568264842033\n",
      "260 loss:  0.009402435272932053\n",
      "270 loss:  0.008695924654603004\n",
      "280 loss:  0.008069016970694065\n",
      "290 loss:  0.00750992214307189\n",
      "300 loss:  0.0070089614018797874\n",
      "310 loss:  0.006558095570653677\n",
      "320 loss:  0.006150758825242519\n",
      "330 loss:  0.005781443323940039\n",
      "340 loss:  0.005445421673357487\n",
      "350 loss:  0.00513865053653717\n",
      "360 loss:  0.0048578474670648575\n",
      "370 loss:  0.00460010627284646\n",
      "380 loss:  0.004362863954156637\n",
      "390 loss:  0.0041440376080572605\n",
      "400 loss:  0.003941669594496489\n",
      "410 loss:  0.003754212288185954\n",
      "420 loss:  0.003580082207918167\n",
      "430 loss:  0.0034181366208940744\n",
      "440 loss:  0.003267185529693961\n",
      "450 loss:  0.003126237541437149\n",
      "460 loss:  0.0029944293200969696\n",
      "470 loss:  0.0028709687758237123\n",
      "480 loss:  0.0027551515959203243\n",
      "490 loss:  0.0026463610120117664\n",
      "500 loss:  0.0025439949240535498\n",
      "510 loss:  0.002447559265419841\n",
      "520 loss:  0.002356616547331214\n",
      "530 loss:  0.0022707434836775064\n",
      "540 loss:  0.0021895701065659523\n",
      "550 loss:  0.0021127553191035986\n",
      "560 loss:  0.002039980376139283\n",
      "570 loss:  0.0019709651824086905\n",
      "580 loss:  0.0019054502481594682\n",
      "590 loss:  0.0018431663047522306\n",
      "600 loss:  0.0017839433858171105\n",
      "610 loss:  0.0017275511054322124\n",
      "620 loss:  0.0016738239210098982\n",
      "630 loss:  0.001622611889615655\n",
      "640 loss:  0.001573733752593398\n",
      "650 loss:  0.0015270307194441557\n",
      "660 loss:  0.0014824157115072012\n",
      "670 loss:  0.001439736457541585\n",
      "680 loss:  0.0013988818973302841\n",
      "690 loss:  0.001359744230285287\n",
      "700 loss:  0.0013222560519352555\n",
      "710 loss:  0.0012862964067608118\n",
      "720 loss:  0.0012517779832705855\n",
      "730 loss:  0.0012186322128400207\n",
      "740 loss:  0.0011868011206388474\n",
      "750 loss:  0.0011561947176232934\n",
      "760 loss:  0.0011267566587775946\n",
      "770 loss:  0.001098429667763412\n",
      "780 loss:  0.0010711663635447621\n",
      "790 loss:  0.0010449009714648128\n",
      "800 loss:  0.0010195877403020859\n",
      "810 loss:  0.0009951569372788072\n",
      "820 loss:  0.0009716109489090741\n",
      "830 loss:  0.0009488828363828361\n",
      "840 loss:  0.0009269461152143776\n",
      "850 loss:  0.000905750144738704\n",
      "860 loss:  0.000885278801433742\n",
      "870 loss:  0.0008654867997393012\n",
      "880 loss:  0.0008463296690024436\n",
      "890 loss:  0.0008278066525235772\n",
      "900 loss:  0.0008098866092041135\n",
      "910 loss:  0.0007925219833850861\n",
      "920 loss:  0.0007757105049677193\n",
      "930 loss:  0.0007594273192808032\n",
      "940 loss:  0.0007436402956955135\n",
      "950 loss:  0.0007283393060788512\n",
      "960 loss:  0.0007134983316063881\n",
      "970 loss:  0.0006991189438849688\n",
      "980 loss:  0.0006851399084553123\n",
      "990 loss:  0.0006715748459100723\n"
     ]
    }
   ],
   "source": [
    "train(g, model, 1000)"
   ]
  },
  {
   "cell_type": "code",
   "execution_count": null,
   "id": "7b547bf6",
   "metadata": {
    "scrolled": true
   },
   "outputs": [],
   "source": []
  },
  {
   "cell_type": "code",
   "execution_count": null,
   "id": "a35d9804",
   "metadata": {},
   "outputs": [],
   "source": []
  },
  {
   "cell_type": "code",
   "execution_count": null,
   "id": "54fdc45f",
   "metadata": {},
   "outputs": [],
   "source": []
  },
  {
   "cell_type": "code",
   "execution_count": null,
   "id": "529c1b6b",
   "metadata": {},
   "outputs": [],
   "source": []
  },
  {
   "cell_type": "code",
   "execution_count": null,
   "id": "d32b6484",
   "metadata": {},
   "outputs": [],
   "source": []
  },
  {
   "cell_type": "code",
   "execution_count": null,
   "id": "ec9afa85",
   "metadata": {},
   "outputs": [],
   "source": []
  },
  {
   "cell_type": "code",
   "execution_count": null,
   "id": "13b32fe2",
   "metadata": {},
   "outputs": [],
   "source": []
  },
  {
   "cell_type": "code",
   "execution_count": null,
   "id": "ed061d3b",
   "metadata": {},
   "outputs": [],
   "source": []
  },
  {
   "cell_type": "code",
   "execution_count": null,
   "id": "8192a0b2",
   "metadata": {},
   "outputs": [],
   "source": []
  },
  {
   "cell_type": "code",
   "execution_count": null,
   "id": "b680b285",
   "metadata": {},
   "outputs": [],
   "source": []
  },
  {
   "cell_type": "code",
   "execution_count": null,
   "id": "bd9ae81e",
   "metadata": {},
   "outputs": [],
   "source": []
  }
 ],
 "metadata": {
  "kernelspec": {
   "display_name": "GML",
   "language": "python",
   "name": "gml"
  },
  "language_info": {
   "codemirror_mode": {
    "name": "ipython",
    "version": 3
   },
   "file_extension": ".py",
   "mimetype": "text/x-python",
   "name": "python",
   "nbconvert_exporter": "python",
   "pygments_lexer": "ipython3",
   "version": "3.8.19"
  },
  "toc": {
   "base_numbering": 1,
   "nav_menu": {},
   "number_sections": true,
   "sideBar": true,
   "skip_h1_title": false,
   "title_cell": "Table of Contents",
   "title_sidebar": "Contents",
   "toc_cell": false,
   "toc_position": {},
   "toc_section_display": true,
   "toc_window_display": false
  },
  "varInspector": {
   "cols": {
    "lenName": 16,
    "lenType": 16,
    "lenVar": 40
   },
   "kernels_config": {
    "python": {
     "delete_cmd_postfix": "",
     "delete_cmd_prefix": "del ",
     "library": "var_list.py",
     "varRefreshCmd": "print(var_dic_list())"
    },
    "r": {
     "delete_cmd_postfix": ") ",
     "delete_cmd_prefix": "rm(",
     "library": "var_list.r",
     "varRefreshCmd": "cat(var_dic_list()) "
    }
   },
   "types_to_exclude": [
    "module",
    "function",
    "builtin_function_or_method",
    "instance",
    "_Feature"
   ],
   "window_display": false
  },
  "widgets": {
   "application/vnd.jupyter.widget-state+json": {
    "state": {},
    "version_major": 2,
    "version_minor": 0
   }
  }
 },
 "nbformat": 4,
 "nbformat_minor": 5
}
