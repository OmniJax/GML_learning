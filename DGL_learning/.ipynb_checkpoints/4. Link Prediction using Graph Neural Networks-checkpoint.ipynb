{
 "cells": [
  {
   "cell_type": "code",
   "execution_count": 1,
   "id": "b3e98590-8165-4b5a-b0db-20e9cd39863e",
   "metadata": {
    "editable": true,
    "slideshow": {
     "slide_type": ""
    },
    "tags": []
   },
   "outputs": [],
   "source": [
    "import itertools\n",
    "\n",
    "import dgl\n",
    "import dgl.data\n",
    "import numpy as np\n",
    "import scipy.sparse as sp\n",
    "import torch\n",
    "import torch.nn as nn\n",
    "import torch.nn.functional as F"
   ]
  },
  {
   "cell_type": "code",
   "execution_count": 2,
   "id": "74a956a6-8c1c-44cd-9c4e-c3440bedadf7",
   "metadata": {},
   "outputs": [
    {
     "name": "stdout",
     "output_type": "stream",
     "text": [
      "  NumNodes: 2708\n",
      "  NumEdges: 10556\n",
      "  NumFeats: 1433\n",
      "  NumClasses: 7\n",
      "  NumTrainingSamples: 140\n",
      "  NumValidationSamples: 500\n",
      "  NumTestSamples: 1000\n",
      "Done loading data from cached files.\n"
     ]
    }
   ],
   "source": [
    "dataset = dgl.data.CoraGraphDataset(\"./\")"
   ]
  },
  {
   "cell_type": "code",
   "execution_count": 3,
   "id": "94d9c2b1-e08e-48e9-8e0a-d4505c82b192",
   "metadata": {},
   "outputs": [],
   "source": [
    "g = dataset[0]"
   ]
  },
  {
   "cell_type": "markdown",
   "id": "dbbabb9b-3f85-41e9-8a35-e9e0b8b795d0",
   "metadata": {},
   "source": [
    "### prepare training and testing set"
   ]
  },
  {
   "cell_type": "code",
   "execution_count": 4,
   "id": "ad19548d-6e90-428e-ba60-793d16a589cd",
   "metadata": {},
   "outputs": [],
   "source": [
    "u, v = g.edges()\n",
    "eids = np.arange(g.num_edges())\n",
    "eids = np.random.permutation(eids)"
   ]
  },
  {
   "cell_type": "code",
   "execution_count": 6,
   "id": "f67618d0-c8e3-4956-9a6f-8861fbafacd7",
   "metadata": {},
   "outputs": [],
   "source": [
    "test_size = int(len(eids) * 0.2)\n",
    "train_size = len(eids) - test_size"
   ]
  },
  {
   "cell_type": "code",
   "execution_count": 102,
   "id": "13485779-c56c-4ea6-b882-7afb047797f3",
   "metadata": {},
   "outputs": [
    {
     "name": "stdout",
     "output_type": "stream",
     "text": [
      "n_nodes: 2708\n",
      "训练集正样本边个数： 8445\n",
      "训练集负样本边个数： 8445\n",
      "测试集正样本边个数： 2111\n",
      "测试集负样本边个数： 2111\n"
     ]
    }
   ],
   "source": [
    "# 数据集读出来的边都是正样本\n",
    "test_u_pos, test_v_pos = u[eids[:test_size]], v[eids[:test_size]]\n",
    "train_u_pos, train_v_pos = u[eids[test_size:]], v[eids[test_size:]]\n",
    "n_nodes = g.num_nodes()\n",
    "print(\"n_nodes:\", n_nodes)\n",
    "\n",
    "# coo_matrix api: (data,(row_idx,col_idx))\n",
    "adj = sp.coo_matrix((np.ones(len(u)), (u.numpy(), v.numpy())))\n",
    "adj_neg = 1 - adj.toarray() - np.eye(n_nodes)\n",
    "neg_u, neg_v = np.where(adj_neg == 1)\n",
    "\n",
    "# g.num_edges()是正样本个数，负样本取相同数量\n",
    "neg_eids = np.random.choice(len(neg_u), g.num_edges())\n",
    "test_u_neg, test_v_neg = (neg_u[neg_eids[:test_size]], neg_v[neg_eids[:test_size]])\n",
    "train_u_neg, train_v_neg = (neg_u[neg_eids[test_size:]], neg_v[neg_eids[test_size:]])\n",
    "\n",
    "print(\"训练集正样本边个数：\", len(train_u_pos))\n",
    "print(\"训练集负样本边个数：\", len(train_u_neg))\n",
    "print(\"测试集正样本边个数：\", len(test_u_pos))\n",
    "print(\"测试集负样本边个数：\", len(test_u_neg))"
   ]
  },
  {
   "cell_type": "code",
   "execution_count": 117,
   "id": "3034b0b9-4b3d-4a95-977b-3f85f2e509a7",
   "metadata": {},
   "outputs": [
    {
     "name": "stdout",
     "output_type": "stream",
     "text": [
      "Graph(num_nodes=2708, num_edges=8445,\n",
      "      ndata_schemes={'train_mask': Scheme(shape=(), dtype=torch.bool), 'label': Scheme(shape=(), dtype=torch.int64), 'val_mask': Scheme(shape=(), dtype=torch.bool), 'test_mask': Scheme(shape=(), dtype=torch.bool), 'feat': Scheme(shape=(1433,), dtype=torch.float32)}\n",
      "      edata_schemes={})\n"
     ]
    }
   ],
   "source": [
    "# 移除测试边\n",
    "train_g = dgl.remove_edges(g, eids[:test_size])\n",
    "print(train_g)"
   ]
  },
  {
   "cell_type": "markdown",
   "id": "5d65da84-e006-451a-8f95-85c8c4c64b2f",
   "metadata": {},
   "source": [
    "### 模型"
   ]
  },
  {
   "cell_type": "code",
   "execution_count": 208,
   "id": "590426e9-2fc2-4647-a305-ee57cb3c5c56",
   "metadata": {},
   "outputs": [],
   "source": [
    "from dgl.nn import SAGEConv\n",
    "\n",
    "class GraphSAGE(nn.Module):\n",
    "    def __init__(self, in_feats, h_feats):\n",
    "        super(GraphSAGE, self).__init__()\n",
    "        self.conv1 = SAGEConv(in_feats, h_feats, \"mean\")\n",
    "        self.conv2 = SAGEConv(h_feats, h_feats, \"mean\")\n",
    "\n",
    "    def forward(self, g, in_feats):\n",
    "        h = self.conv1(g, in_feats)\n",
    "        h = F.relu(h)\n",
    "        h = self.conv2(g, h)\n",
    "        return h"
   ]
  },
  {
   "cell_type": "code",
   "execution_count": 209,
   "id": "1928df67-c2bf-4436-b584-fc0bafe4c4f8",
   "metadata": {},
   "outputs": [],
   "source": [
    "train_g_pos = dgl.graph((train_u_pos, train_v_pos), num_nodes=g.num_nodes())\n",
    "train_g_neg = dgl.graph((train_u_neg, train_v_neg), num_nodes=g.num_nodes())\n",
    "\n",
    "test_g_pos = dgl.graph((test_u_pos, test_v_pos), num_nodes=g.num_nodes())\n",
    "test_g_neg = dgl.graph((test_u_neg, test_v_neg), num_nodes=g.num_nodes())"
   ]
  },
  {
   "cell_type": "code",
   "execution_count": 370,
   "id": "511ef90f-e11f-4209-8d58-db1d8bef3429",
   "metadata": {},
   "outputs": [
    {
     "data": {
      "text/plain": [
       "tensor([1, 2, 3])"
      ]
     },
     "execution_count": 370,
     "metadata": {},
     "output_type": "execute_result"
    }
   ],
   "source": []
  },
  {
   "cell_type": "code",
   "execution_count": 371,
   "id": "263a981c-59ea-47ff-be69-f5aff9a138b4",
   "metadata": {},
   "outputs": [],
   "source": [
    "import dgl.function as fn\n",
    "\n",
    "# 预测器\n",
    "\n",
    "\n",
    "class DotPredictor(nn.Module):\n",
    "    def forward(self, g, h):\n",
    "        with g.local_scope():\n",
    "            g.ndata[\"h\"] = h\n",
    "            g.apply_edges(fn.u_dot_v(\"h\", \"h\", \"score\"))\n",
    "            return g.edata[\"score\"][:, 0]\n",
    "\n",
    "\n",
    "class MLPPredictor(nn.Module):\n",
    "    def __init__(self, n_feats):\n",
    "        super(MLPPredictor, self).__init__()\n",
    "        self.w1 = nn.Linear(n_feats * 2, n_feats)\n",
    "        self.w2 = nn.Linear(n_feats, 1)\n",
    "\n",
    "    def apply_edges(self, edges):\n",
    "        h1 = edges.src[\"h\"]\n",
    "        h2 = edges.dst[\"h\"]\n",
    "        h = torch.cat([h1, h2], dim=1)\n",
    "        h = self.w2(F.relu(self.w1(h)))\n",
    "        return {\"score\": h.squeeze()}\n",
    "\n",
    "    def forward(self, g, h):\n",
    "        with g.local_scope():\n",
    "            g.ndata[\"h\"] = h\n",
    "            g.apply_edges(self.apply_edges)\n",
    "\n",
    "            return g.edata[\"score\"]\n",
    "            # return g.edata[\"score\"][:, 0]"
   ]
  },
  {
   "cell_type": "code",
   "execution_count": 372,
   "id": "2ca0bf7d-6cc3-4a41-b95e-47ced4da7e7f",
   "metadata": {
    "editable": true,
    "slideshow": {
     "slide_type": ""
    },
    "tags": []
   },
   "outputs": [],
   "source": [
    "from sklearn.metrics import roc_auc_score\n",
    "\n",
    "\n",
    "def compute_loss(pos_score, neg_score):\n",
    "    scores = torch.cat([pos_score, neg_score])\n",
    "    labels = torch.cat(\n",
    "        [torch.ones(pos_score.shape[0]), torch.zeros(neg_score.shape[0])]\n",
    "    )\n",
    "    return F.binary_cross_entropy_with_logits(scores, labels)\n",
    "\n",
    "\n",
    "def compute_auc(pos_score, neg_score):\n",
    "    scores = torch.cat([pos_score, neg_score])\n",
    "    labels = torch.cat(\n",
    "        [torch.ones(pos_score.shape[0]), torch.zeros(neg_score.shape[0])]\n",
    "    ).numpy()\n",
    "    return roc_auc_score(labels, scores)"
   ]
  },
  {
   "cell_type": "code",
   "execution_count": null,
   "id": "921d975a-57b6-4cb3-abda-e393af030517",
   "metadata": {
    "editable": true,
    "slideshow": {
     "slide_type": ""
    },
    "tags": []
   },
   "outputs": [],
   "source": []
  },
  {
   "cell_type": "code",
   "execution_count": 373,
   "id": "841c1aef-7fce-4472-a995-1c9f8ad80e87",
   "metadata": {},
   "outputs": [],
   "source": [
    "model = GraphSAGE(train_g.ndata[\"feat\"].shape[1], 16)\n",
    "# pred_func = DotPredictor()\n",
    "pred_func = MLPPredictor(16)"
   ]
  },
  {
   "cell_type": "code",
   "execution_count": 374,
   "id": "adf99fe3-876b-479e-99fd-8fff39a0ed05",
   "metadata": {},
   "outputs": [],
   "source": [
    "optimizer = torch.optim.Adam(\n",
    "    itertools.chain(model.parameters(), pred_func.parameters()), lr=0.01\n",
    ")"
   ]
  },
  {
   "cell_type": "markdown",
   "id": "7ee48066-1496-450b-8097-28052a95165a",
   "metadata": {
    "editable": true,
    "slideshow": {
     "slide_type": ""
    },
    "tags": []
   },
   "source": [
    "### training"
   ]
  },
  {
   "cell_type": "code",
   "execution_count": 381,
   "id": "73234014-8374-48bd-8ef5-74367ff75f19",
   "metadata": {},
   "outputs": [
    {
     "name": "stdout",
     "output_type": "stream",
     "text": [
      "epoch 0, loss: 0.0009329569293186069\n",
      "epoch 10, loss: 0.0007845202926546335\n",
      "epoch 20, loss: 0.0006720645469613373\n",
      "epoch 30, loss: 0.0005841287784278393\n",
      "epoch 40, loss: 0.0005138266133144498\n",
      "epoch 50, loss: 0.0004566173884086311\n",
      "epoch 60, loss: 0.0004093478200957179\n",
      "epoch 70, loss: 0.00036978654679842293\n",
      "epoch 80, loss: 0.0003363025316502899\n",
      "epoch 90, loss: 0.00030760039226152003\n"
     ]
    }
   ],
   "source": [
    "for e in range(100):\n",
    "    h = model(train_g, train_g.ndata[\"feat\"])\n",
    "    pos_score = pred_func(train_g_pos, h)\n",
    "    neg_score = pred_func(train_g_neg, h)\n",
    "    loss = compute_loss(pos_score, neg_score)\n",
    "\n",
    "    # backward\n",
    "    optimizer.zero_grad()\n",
    "    loss.backward()\n",
    "    optimizer.step()\n",
    "\n",
    "    if e % 10 == 0:\n",
    "        print(f\"epoch {e}, loss: {loss}\")"
   ]
  },
  {
   "cell_type": "code",
   "execution_count": 379,
   "id": "b9642fab-98c4-420f-8e1b-1778394aa083",
   "metadata": {},
   "outputs": [
    {
     "name": "stdout",
     "output_type": "stream",
     "text": [
      "AUC 0.7948305339763451\n"
     ]
    }
   ],
   "source": [
    "with torch.no_grad():\n",
    "    model.eval()\n",
    "    pos_score = pred_func(test_g_pos, h)\n",
    "    neg_score = pred_func(test_g_neg, h)\n",
    "    print(\"AUC\", compute_auc(pos_score, neg_score))"
   ]
  },
  {
   "cell_type": "code",
   "execution_count": null,
   "id": "4f944270-be95-4574-a24e-9e816f24c798",
   "metadata": {},
   "outputs": [],
   "source": []
  },
  {
   "cell_type": "code",
   "execution_count": null,
   "id": "1d4fa930-c4cc-42f6-bc62-e690fcac4b6d",
   "metadata": {},
   "outputs": [],
   "source": []
  },
  {
   "cell_type": "code",
   "execution_count": null,
   "id": "bab236ae-bf57-44f6-8672-9540338cd9d9",
   "metadata": {},
   "outputs": [],
   "source": []
  },
  {
   "cell_type": "code",
   "execution_count": null,
   "id": "5f097438-a073-47de-afda-d8eaf2875c9f",
   "metadata": {},
   "outputs": [],
   "source": []
  },
  {
   "cell_type": "code",
   "execution_count": null,
   "id": "67cc7921-a377-4e7a-af14-eaa4c08e62cb",
   "metadata": {},
   "outputs": [],
   "source": []
  },
  {
   "cell_type": "code",
   "execution_count": null,
   "id": "2c7edf41-a485-4b90-a3ee-38ad2286f60b",
   "metadata": {},
   "outputs": [],
   "source": []
  },
  {
   "cell_type": "code",
   "execution_count": null,
   "id": "499a8fe6-834c-4260-8807-f870b2eca83b",
   "metadata": {},
   "outputs": [],
   "source": []
  },
  {
   "cell_type": "code",
   "execution_count": null,
   "id": "5de39f69-6cc1-4da0-a545-f12d01a8cfc9",
   "metadata": {},
   "outputs": [],
   "source": []
  }
 ],
 "metadata": {
  "kernelspec": {
   "display_name": "GML",
   "language": "python",
   "name": "gml"
  },
  "language_info": {
   "codemirror_mode": {
    "name": "ipython",
    "version": 3
   },
   "file_extension": ".py",
   "mimetype": "text/x-python",
   "name": "python",
   "nbconvert_exporter": "python",
   "pygments_lexer": "ipython3",
   "version": "3.8.19"
  }
 },
 "nbformat": 4,
 "nbformat_minor": 5
}
