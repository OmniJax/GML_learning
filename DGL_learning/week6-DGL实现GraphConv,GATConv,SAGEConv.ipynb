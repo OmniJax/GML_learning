{
 "cells": [
  {
   "cell_type": "markdown",
   "metadata": {
    "id": "YqM5Z7qKUgqS"
   },
   "source": [
    "In this week, you are required to implement a toy GATConv and SAGEConv based on document. Also, you need to implement both in PyG and DGL. In this work, you will get a further understanding of tensor-centric in PyG and graph-centric in DGL.\n",
    "\n",
    "</style>\n"
   ]
  },
  {
   "cell_type": "markdown",
   "metadata": {},
   "source": [
    "## DGL"
   ]
  },
  {
   "cell_type": "code",
   "execution_count": 1,
   "metadata": {},
   "outputs": [],
   "source": [
    "import os\n",
    "\n",
    "import dgl\n",
    "import dgl.function as fn\n",
    "import matplotlib.pyplot as plt\n",
    "import networkx as nx\n",
    "import numpy as np\n",
    "import torch\n",
    "import torch.nn as nn\n",
    "import torch.nn.functional as F\n",
    "\n",
    "os.environ[\"KMP_DUPLICATE_LIB_OK\"] = \"TRUE\""
   ]
  },
  {
   "cell_type": "markdown",
   "metadata": {},
   "source": [
    "### GraphConv\n",
    "Mathematically it is defined as follows:\n",
    "\n",
    "$$\n",
    "  h_i^{(l+1)} = \\sigma(b^{(l)} + \\sum_{j\\in\\mathcal{N}(i)}\\frac{1}{c_{ji}}h_j^{(l)}W^{(l)})\n",
    "$$\n",
    "where $\\mathcal{N}(i)$ is the set of neighbors of node $i$, \n",
    "$c_{ji}$ is the product of the square root of node degrees\n",
    "$(i.e.,  c_{ji} = \\sqrt{|\\mathcal{N}(j)|}\\sqrt{|\\mathcal{N}(i)|})$,\n",
    "and $\\sigma$ is an activation function.\n",
    "\n",
    "If a weight tensor on each edge is provided, the weighted graph convolution is defined as:\n",
    "\n",
    "$$\n",
    "  h_i^{(l+1)} = \\sigma(b^{(l)} + \\sum_{j\\in\\mathcal{N}(i)}\\frac{e_{ji}}{c_{ji}}h_j^{(l)}W^{(l)})\n",
    "$$\n",
    "where $e_{ji}$is the scalar weight on the edge from node $j$ to node $i$.\n",
    "This is NOT equivalent to the weighted graph convolutional network formulation in the paper.\n",
    "\n",
    "To customize the normalization term :$c_{ji}$, one can first set ``norm='none'`` for\n",
    "the model, and send the pre-normalized :$e_{ji}$ to the forward computation. We provide\n",
    ":class:`~dgl.nn.pytorch.EdgeWeightNorm` to normalize scalar edge weight following the GCN paper."
   ]
  },
  {
   "cell_type": "code",
   "execution_count": null,
   "metadata": {},
   "outputs": [],
   "source": []
  },
  {
   "cell_type": "code",
   "execution_count": 2,
   "metadata": {},
   "outputs": [
    {
     "data": {
      "image/png": "[encoded data removed]",
      "text/plain": [
       "<Figure size 200x200 with 1 Axes>"
      ]
     },
     "metadata": {},
     "output_type": "display_data"
    }
   ],
   "source": [
    "src = torch.tensor([0, 1, 1, 2, 2, 4])\n",
    "dst = torch.tensor([2, 0, 2, 3, 4, 3])\n",
    "h = torch.ones((5, 8))\n",
    "\n",
    "g = dgl.graph((src, dst))\n",
    "g.ndata[\"h\"] = h\n",
    "edge_weight = torch.ones(g.num_edges())  # 给各个边赋格权重\n",
    "g.edata[\"edge_weight\"] = edge_weight\n",
    "plt.figure(figsize=(2, 2))\n",
    "nx.draw(dgl.to_networkx(g), with_labels=True)\n",
    "\n",
    "\n"
   ]
  },
  {
   "cell_type": "code",
   "execution_count": null,
   "metadata": {},
   "outputs": [],
   "source": []
  },
  {
   "cell_type": "code",
   "execution_count": 53,
   "metadata": {},
   "outputs": [],
   "source": [
    "class DGL_GraphConv(nn.Module):\n",
    "    def __init__(self, in_feats, out_feats):\n",
    "        super(DGL_GraphConv, self).__init__()\n",
    "        self.W = nn.Parameter(torch.rand(in_feats, out_feats))\n",
    "        self.b = nn.Parameter(torch.rand(out_feats))\n",
    "\n",
    "        nn.init.ones_(self.W.data)\n",
    "        nn.init.ones_(self.b.data)\n",
    "        \n",
    "        self.activate = nn.ReLU()\n",
    "\n",
    "    def forward(self, g, h):\n",
    "        with g.local_scope():\n",
    "            # 这里的normalization用了left+right，也就是考虑了出度+入度\n",
    "            norm_src = g.out_degrees().clamp(min=1).view(-1, 1)\n",
    "            norm_src = torch.pow(norm_src, -0.5)\n",
    "\n",
    "            feat_src = norm_src * h\n",
    "            feat_src = torch.matmul(feat_src, self.W)\n",
    "            g.srcdata[\"h\"] = feat_src\n",
    "            g.update_all(fn.u_mul_e(\"h\", \"edge_weight\", \"he\"), fn.sum(\"he\", \"rst\"))\n",
    "            rst = g.dstdata[\"rst\"]\n",
    "\n",
    "            norm_dst = g.in_degrees().clamp(min=1).view(-1, 1)\n",
    "            norm_dst = torch.pow(norm_dst, -0.5)\n",
    "            rst = rst * norm_dst\n",
    "\n",
    "            rst += self.b\n",
    "            return F.relu(rst)"
   ]
  },
  {
   "cell_type": "code",
   "execution_count": 56,
   "metadata": {},
   "outputs": [],
   "source": [
    "in_feats = h.shape[1]\n",
    "out_feats = in_feats  # *2"
   ]
  },
  {
   "cell_type": "code",
   "execution_count": 57,
   "metadata": {},
   "outputs": [
    {
     "name": "stdout",
     "output_type": "stream",
     "text": [
      "tensor([[ 6.6569,  6.6569,  6.6569,  6.6569,  6.6569,  6.6569,  6.6569,  6.6569],\n",
      "        [ 1.0000,  1.0000,  1.0000,  1.0000,  1.0000,  1.0000,  1.0000,  1.0000],\n",
      "        [10.6569, 10.6569, 10.6569, 10.6569, 10.6569, 10.6569, 10.6569, 10.6569],\n",
      "        [10.6569, 10.6569, 10.6569, 10.6569, 10.6569, 10.6569, 10.6569, 10.6569],\n",
      "        [ 6.6569,  6.6569,  6.6569,  6.6569,  6.6569,  6.6569,  6.6569,  6.6569]])\n"
     ]
    }
   ],
   "source": [
    "dgl_graphConv = DGL_GraphConv(in_feats, out_feats)\n",
    "with torch.no_grad():\n",
    "    out=dgl_graphConv(g, h)\n",
    "    print(out)"
   ]
  },
  {
   "cell_type": "code",
   "execution_count": null,
   "metadata": {},
   "outputs": [],
   "source": []
  },
  {
   "cell_type": "code",
   "execution_count": 58,
   "metadata": {},
   "outputs": [],
   "source": [
    "from dgl.nn import GraphConv"
   ]
  },
  {
   "cell_type": "code",
   "execution_count": 75,
   "metadata": {},
   "outputs": [
    {
     "data": {
      "text/plain": [
       "Parameter containing:\n",
       "tensor([1., 1., 1., 1., 1., 1., 1., 1.], requires_grad=True)"
      ]
     },
     "execution_count": 75,
     "metadata": {},
     "output_type": "execute_result"
    }
   ],
   "source": [
    "# torch.manual_seed(42)\n",
    "gcn=GraphConv(in_feats,out_feats,norm='both',activation=F.relu)\n",
    "nn.init.ones_(gcn.weight)\n",
    "nn.init.ones_(gcn.bias)\n"
   ]
  },
  {
   "cell_type": "code",
   "execution_count": 76,
   "metadata": {},
   "outputs": [
    {
     "name": "stdout",
     "output_type": "stream",
     "text": [
      "tensor([[ 8.2660,  8.2660,  8.2660,  8.2660,  8.2660,  8.2660,  8.2660,  8.2660],\n",
      "        [ 5.6188,  5.6188,  5.6188,  5.6188,  5.6188,  5.6188,  5.6188,  5.6188],\n",
      "        [ 9.5993,  9.5993,  9.5993,  9.5993,  9.5993,  9.5993,  9.5993,  9.5993],\n",
      "        [11.5515, 11.5515, 11.5515, 11.5515, 11.5515, 11.5515, 11.5515, 11.5515],\n",
      "        [ 8.2660,  8.2660,  8.2660,  8.2660,  8.2660,  8.2660,  8.2660,  8.2660]])\n"
     ]
    }
   ],
   "source": [
    "g_in=g.add_self_loop()\n",
    "with torch.no_grad():\n",
    "    out=gcn.forward(g_in,h)\n",
    "    print(out)"
   ]
  },
  {
   "cell_type": "code",
   "execution_count": null,
   "metadata": {},
   "outputs": [],
   "source": []
  },
  {
   "cell_type": "code",
   "execution_count": null,
   "metadata": {},
   "outputs": [],
   "source": []
  },
  {
   "cell_type": "code",
   "execution_count": null,
   "metadata": {},
   "outputs": [],
   "source": []
  },
  {
   "cell_type": "markdown",
   "metadata": {},
   "source": [
    "### GATConv\n",
    "Graph attention layer from Graph Attention Network\n",
    "$$h_i^{(l+1)} = \\sum_{j\\in \\mathcal{N}(i)} \\alpha_{i,j} W^{(l)} h_j^{(l)}$$\n",
    "\n",
    "where $\\alpha_{ij}$ is the attention score bewteen node $i$ and\n",
    "node $j$:\n",
    "\n",
    "$$\n",
    "\\begin{align}\\begin{aligned}\\alpha_{ij}^{l} &= \\mathrm{softmax_i} (e_{ij}^{l})\\\\e_{ij}^{l} &= \n",
    "\\mathrm{LeakyReLU}\\left(\\vec{a}^T [W h_{i} \\| W h_{j}]\\right)\\end{aligned}\\end{align}\n",
    "$$\n",
    "\n",
    "这里的 $softmax_i$ 是对节点$i$的多个边进行归一化，不考虑其他边"
   ]
  },
  {
   "cell_type": "code",
   "execution_count": 40,
   "metadata": {},
   "outputs": [],
   "source": [
    "from dgl.nn.functional import edge_softmax\n",
    "\n",
    "\n",
    "class DGL_GATConv(nn.Module):\n",
    "    def __init__(self, in_feats, out_feats):\n",
    "        super(DGL_GATConv, self).__init__()\n",
    "        # self.W=nn.Parameter(torch.rand(in_feats,out_feats))\n",
    "        # self.a=nn.Parameter(torch.rand(2*in_feats,1))\n",
    "        self.W = nn.Linear(in_feats, out_feats, bias=False)\n",
    "        self.a_fc = nn.Linear(out_feats * 2, 1, bias=False)\n",
    "        self.leakyrelu = nn.LeakyReLU()\n",
    "\n",
    "    def edge_attention(self, edges):\n",
    "        hiW = self.W(edges.dst[\"h\"])\n",
    "        hjW = self.W(edges.src[\"h\"])\n",
    "        h_cat = torch.cat([hiW, hjW], dim=1)\n",
    "        e = self.leakyrelu(self.a_fc(h_cat))\n",
    "        return {\"e\": e}\n",
    "\n",
    "    def forward(self, g: dgl.graph, h, get_attention=False):\n",
    "        with g.local_scope():\n",
    "            g=g.remove_self_loop().add_self_loop()\n",
    "            g.apply_edges(self.edge_attention)\n",
    "            e = g.edata[\"e\"]\n",
    "            alpha = edge_softmax(g, e)\n",
    "            g.edata[\"alpha\"] = alpha\n",
    "            hW = self.W(h)\n",
    "\n",
    "            g.ndata[\"hW\"] = hW\n",
    "            g.update_all(fn.u_mul_e(\"hW\", \"alpha\", \"m\"), fn.sum(\"m\", \"hN\"))\n",
    "            hN = g.ndata[\"hN\"]\n",
    "\n",
    "            if get_attention:\n",
    "                return hN, alpha\n",
    "            else:\n",
    "                return hN"
   ]
  },
  {
   "cell_type": "code",
   "execution_count": 42,
   "metadata": {},
   "outputs": [
    {
     "data": {
      "image/png": "[encoded data removed]",
      "text/plain": [
       "<Figure size 200x200 with 1 Axes>"
      ]
     },
     "metadata": {},
     "output_type": "display_data"
    }
   ],
   "source": [
    "# src = torch.tensor([0, 1, 1, 2, 2, 4])\n",
    "# dst = torch.tensor([2, 0, 2, 3, 4, 3])\n",
    "# h = torch.ones((5, 8))\n",
    "\n",
    "# g = dgl.graph((src, dst))\n",
    "# g = dgl.add_self_loop(g)\n",
    "# g.ndata[\"h\"] = h\n",
    "# g\n",
    "\n",
    "g = dgl.graph(([0, 0, 1, 2, 4, 4, 4, 5], [1, 2, 2, 3, 0, 2, 3, 1]))\n",
    "g.ndata[\"h\"] = torch.FloatTensor(\n",
    "    [\n",
    "        [0, 0, 0, 0],  # 0\n",
    "        [1, 1, 1, 1],  # 1\n",
    "        [2, 2, 2, 2],  # 2\n",
    "        [3, 3, 3, 3],  # 3\n",
    "        [4, 4, 4, 4],  # 4\n",
    "        [5, 5, 5, 5],  # 5\n",
    "    ]\n",
    ")\n",
    "g.edata[\"edge_attr\"] = torch.ones(g.num_edges())\n",
    "\n",
    "# g=g.remove_self_loop().add_self_loop()\n",
    "\n",
    "plt.figure(figsize=(2,2))\n",
    "nx.draw(dgl.to_networkx(g), with_labels=True)"
   ]
  },
  {
   "cell_type": "code",
   "execution_count": 43,
   "metadata": {},
   "outputs": [
    {
     "name": "stdout",
     "output_type": "stream",
     "text": [
      "Parameter containing:\n",
      "tensor([[1., 1., 1., 1.],\n",
      "        [1., 1., 1., 1.],\n",
      "        [1., 1., 1., 1.]], requires_grad=True)\n",
      "Parameter containing:\n",
      "tensor([[1., 1., 1., 1., 1., 1.]], requires_grad=True)\n"
     ]
    }
   ],
   "source": [
    "in_feats=g.ndata['h'].shape[1]\n",
    "out_feats=3\n",
    "\n",
    "myGATConv = DGL_GATConv(in_feats,out_feats)\n",
    "torch.nn.init.ones_(myGATConv.W.weight)\n",
    "torch.nn.init.ones_(myGATConv.a_fc.weight)\n",
    "\n",
    "print(myGATConv.W.weight)\n",
    "print(myGATConv.a_fc.weight)"
   ]
  },
  {
   "cell_type": "code",
   "execution_count": 46,
   "metadata": {},
   "outputs": [
    {
     "name": "stdout",
     "output_type": "stream",
     "text": [
      "tensor([[16.0000, 16.0000, 16.0000],\n",
      "        [20.0000, 20.0000, 20.0000],\n",
      "        [16.0000, 16.0000, 16.0000],\n",
      "        [16.0000, 16.0000, 16.0000],\n",
      "        [16.0000, 16.0000, 16.0000],\n",
      "        [20.0000, 20.0000, 20.0000]])\n",
      "tensor([[8.7565e-27],\n",
      "        [1.4252e-21],\n",
      "        [2.3195e-16],\n",
      "        [3.7751e-11],\n",
      "        [1.0000e+00],\n",
      "        [1.0000e+00],\n",
      "        [9.9999e-01],\n",
      "        [1.0000e+00],\n",
      "        [1.4252e-21],\n",
      "        [1.4252e-21],\n",
      "        [3.7751e-11],\n",
      "        [6.1442e-06],\n",
      "        [1.0000e+00],\n",
      "        [1.0000e+00]])\n"
     ]
    }
   ],
   "source": [
    "with torch.no_grad():\n",
    "    out,attention=myGATConv(g, g.ndata['h'], get_attention=True)\n",
    "    print(out)\n",
    "    print(attention)"
   ]
  },
  {
   "cell_type": "code",
   "execution_count": null,
   "metadata": {},
   "outputs": [],
   "source": []
  },
  {
   "cell_type": "code",
   "execution_count": null,
   "metadata": {},
   "outputs": [],
   "source": []
  },
  {
   "cell_type": "markdown",
   "metadata": {},
   "source": [
    "#### 与dgl实现对比验证"
   ]
  },
  {
   "cell_type": "code",
   "execution_count": 33,
   "metadata": {},
   "outputs": [],
   "source": [
    "# Case 1: Homogeneous graph\n",
    "from dgl.nn import GATConv\n"
   ]
  },
  {
   "cell_type": "code",
   "execution_count": 34,
   "metadata": {},
   "outputs": [
    {
     "name": "stdout",
     "output_type": "stream",
     "text": [
      "Parameter containing:\n",
      "tensor([[1., 1., 1., 1.],\n",
      "        [1., 1., 1., 1.],\n",
      "        [1., 1., 1., 1.]], requires_grad=True)\n",
      "Parameter containing:\n",
      "tensor([[[1., 1., 1.]]], requires_grad=True)\n",
      "Parameter containing:\n",
      "tensor([[[1., 1., 1.]]], requires_grad=True)\n"
     ]
    }
   ],
   "source": [
    "gatconv = GATConv(in_feats,out_feats, num_heads=1)\n",
    "\n",
    "torch.nn.init.ones_(gatconv.fc.weight)\n",
    "torch.nn.init.ones_(gatconv.attn_l)\n",
    "torch.nn.init.ones_(gatconv.attn_r)\n",
    "\n",
    "print(gatconv.fc.weight)\n",
    "print(gatconv.attn_l)\n",
    "print(gatconv.attn_r)"
   ]
  },
  {
   "cell_type": "code",
   "execution_count": 39,
   "metadata": {},
   "outputs": [
    {
     "name": "stdout",
     "output_type": "stream",
     "text": [
      "tensor([[[16.0000, 16.0000, 16.0000]],\n",
      "\n",
      "        [[20.0000, 20.0000, 20.0000]],\n",
      "\n",
      "        [[16.0000, 16.0000, 16.0000]],\n",
      "\n",
      "        [[16.0000, 16.0000, 16.0000]],\n",
      "\n",
      "        [[16.0000, 16.0000, 16.0000]],\n",
      "\n",
      "        [[20.0000, 20.0000, 20.0000]]])\n",
      "tensor([[[8.7565e-27]],\n",
      "\n",
      "        [[1.4252e-21]],\n",
      "\n",
      "        [[2.3195e-16]],\n",
      "\n",
      "        [[3.7751e-11]],\n",
      "\n",
      "        [[1.0000e+00]],\n",
      "\n",
      "        [[1.0000e+00]],\n",
      "\n",
      "        [[9.9999e-01]],\n",
      "\n",
      "        [[1.0000e+00]],\n",
      "\n",
      "        [[1.4252e-21]],\n",
      "\n",
      "        [[1.4252e-21]],\n",
      "\n",
      "        [[3.7751e-11]],\n",
      "\n",
      "        [[6.1442e-06]],\n",
      "\n",
      "        [[1.0000e+00]],\n",
      "\n",
      "        [[1.0000e+00]]])\n"
     ]
    }
   ],
   "source": [
    "g_in=g.remove_self_loop().add_self_loop()\n",
    "with torch.no_grad():\n",
    "    out,attention=(gatconv(g_in, g_in.ndata['h'], get_attention=True))\n",
    "    print(out)\n",
    "    print(attention)"
   ]
  },
  {
   "cell_type": "code",
   "execution_count": 51,
   "metadata": {},
   "outputs": [],
   "source": [
    "# 完全相同捏\n",
    "# tensor([[16.0000, 16.0000, 16.0000],\n",
    "#         [20.0000, 20.0000, 20.0000],\n",
    "#         [16.0000, 16.0000, 16.0000],\n",
    "#         [16.0000, 16.0000, 16.0000],\n",
    "#         [16.0000, 16.0000, 16.0000],\n",
    "#         [20.0000, 20.0000, 20.0000]])\n",
    "# tensor([[8.7565e-27],\n",
    "#         [1.4252e-21],\n",
    "#         [2.3195e-16],\n",
    "#         [3.7751e-11],\n",
    "#         [1.0000e+00],\n",
    "#         [1.0000e+00],\n",
    "#         [9.9999e-01],\n",
    "#         [1.0000e+00],\n",
    "#         [1.4252e-21],\n",
    "#         [1.4252e-21],\n",
    "#         [3.7751e-11],\n",
    "#         [6.1442e-06],\n",
    "#         [1.0000e+00],\n",
    "#         [1.0000e+00]])"
   ]
  },
  {
   "cell_type": "code",
   "execution_count": null,
   "metadata": {},
   "outputs": [],
   "source": []
  },
  {
   "cell_type": "code",
   "execution_count": null,
   "metadata": {},
   "outputs": [],
   "source": []
  },
  {
   "cell_type": "code",
   "execution_count": null,
   "metadata": {},
   "outputs": [],
   "source": []
  },
  {
   "cell_type": "code",
   "execution_count": null,
   "metadata": {},
   "outputs": [],
   "source": []
  },
  {
   "cell_type": "code",
   "execution_count": null,
   "metadata": {},
   "outputs": [],
   "source": []
  },
  {
   "cell_type": "code",
   "execution_count": null,
   "metadata": {},
   "outputs": [],
   "source": []
  },
  {
   "cell_type": "code",
   "execution_count": null,
   "metadata": {},
   "outputs": [],
   "source": []
  },
  {
   "cell_type": "code",
   "execution_count": null,
   "metadata": {},
   "outputs": [],
   "source": []
  },
  {
   "cell_type": "code",
   "execution_count": null,
   "metadata": {},
   "outputs": [],
   "source": []
  },
  {
   "cell_type": "markdown",
   "metadata": {},
   "source": [
    "### SAGEConv\n",
    "$$\n",
    "\\begin{align}\\begin{aligned}\n",
    "h_{\\mathcal{N}(i)}^{(l+1)} &= \\mathrm{aggregate}\\left(\\{h_{j}^{l}, \\forall j \\in \\mathcal{N}(i) \\}\\right)\\\\\\\\\n",
    "h_{i}^{(l+1)} &= \\sigma \\left(W \\cdot \\mathrm{concat}(h_{i}^{l}, h_{\\mathcal{N}(i)}^{l+1}) \\right)\\\\\\\\\n",
    "h_{i}^{(l+1)} &= \\mathrm{norm}(h_{i}^{(l+1)})\\\\\\\\\n",
    "\\mathrm{norm}(v) &= \\frac{v}{\\max(\\lVert v \\rVert_p,\\epsilon)}\n",
    "\\end{aligned}\\end{align}\n",
    "$$\n",
    "\n",
    "If a weight tensor on each edge is provided, the aggregation becomes:\n",
    "$$\n",
    "h_{\\mathcal{N}(i)}^{(l+1)} = \\mathrm{aggregate}\n",
    "\\left(\\{e_{ji} h_{j}^{l}, \\forall j \\in \\mathcal{N}(i) \\}\\right)\n",
    "$$\n",
    "where $e_{ji}$ is the scalar weight on the edge from node $j$ to node $i$.\n",
    "    Please make sure that $e_{ji}$ is broadcastable with $h_j^{l}$.\n",
    "\n"
   ]
  },
  {
   "cell_type": "code",
   "execution_count": 300,
   "metadata": {
    "id": "PKgfXLyLVwus"
   },
   "outputs": [
    {
     "data": {
      "text/plain": [
       "Graph(num_nodes=5, num_edges=7,\n",
       "      ndata_schemes={'h': Scheme(shape=(5,), dtype=torch.float32)}\n",
       "      edata_schemes={'e': Scheme(shape=(), dtype=torch.float32)})"
      ]
     },
     "execution_count": 300,
     "metadata": {},
     "output_type": "execute_result"
    }
   ],
   "source": [
    "src = torch.tensor([0, 1, 1, 2, 2, 4, 1])\n",
    "dst = torch.tensor([2, 0, 2, 3, 4, 3, 3])\n",
    "h = torch.ones((5, 8))\n",
    "h = torch.FloatTensor(\n",
    "    [\n",
    "        [0, 0, 0, 0, 0],\n",
    "        [1, 1, 1, 1, 1],\n",
    "        [2, 2, 2, 2, 2],\n",
    "        [3, 3, 3, 3, 3],\n",
    "        [4, 4, 4, 4, 4],\n",
    "    ]\n",
    ")\n",
    "\n",
    "g = dgl.graph((src, dst))\n",
    "g.edata[\"e\"] = torch.ones(g.num_edges(), dtype=torch.float)\n",
    "g.ndata[\"h\"] = h\n",
    "# g = g.add_self_loop()\n",
    "\n",
    "in_feats = 5\n",
    "out_feats = 7\n",
    "g"
   ]
  },
  {
   "cell_type": "code",
   "execution_count": 301,
   "metadata": {},
   "outputs": [
    {
     "name": "stdout",
     "output_type": "stream",
     "text": [
      "tensor([1, 0, 2, 3, 1])\n"
     ]
    },
    {
     "data": {
      "image/png": "[encoded data removed]",
      "text/plain": [
       "<Figure size 200x200 with 1 Axes>"
      ]
     },
     "metadata": {},
     "output_type": "display_data"
    }
   ],
   "source": [
    "plt.figure(figsize=(2, 2))\n",
    "nx.draw(dgl.to_networkx(g), with_labels=True)\n",
    "print(g.in_degrees())"
   ]
  },
  {
   "attachments": {
    "5840edd5-428b-4f21-ac25-c0f984b72662.png": {
     "image/png": "[encoded data removed]"
    }
   },
   "cell_type": "markdown",
   "metadata": {},
   "source": [
    "由于DGL的消息传递机制，在msg_func中传入参数为edges，通过edges.src和.dst来获取边两端的节点。\n",
    "```python\n",
    "def get_neighbour(edges: dgl.udf.EdgeBatch):\n",
    "    hN = edges.src[\"h\"] # 邻居\n",
    "    hi = edges.dst[\"h\"] # 自身\n",
    "    h_cat = torch.cat([hi, hN], dim=1) #拼接\n",
    "    # 然而这么做，当某个节点没有输入边时，自己的特征也会被设置成0\n",
    "    return {\"h_cat\": h_cat}\n",
    "```\n",
    "当某个节点没有输入边时，比如上图的节点1，则在update时，msg_func中无法获取1节点自身的信息，便在reduce_func中自动将传入数据设为0。结果变为\n",
    "![image.png](attachment:5840edd5-428b-4f21-ac25-c0f984b72662.png)\n",
    "\n",
    "解决方式：\n",
    "\n",
    "- 1. 增加self_loop\n",
    "\n",
    "  2. [先汇聚再拼接](#先汇聚再拼接)\n",
    "\n",
    "     ```python\n",
    "       g.update_all(fn.copy_u('h','tmp'),fn.sum('tmp','hN')) # 先聚合邻居\n",
    "       hN=g.dstdata['hN']\n",
    "       h_cat=torch.cat([hi,hN],dim=1) # 再进行拼接\n",
    "       h_cat=relu(W(h_cat))\n",
    "       n=F.normalize(h_cat,dim=1)\n",
    "     ```\n",
    "     <br>\n",
    "     \n",
    "     \n",
    "      \n",
    "\n",
    "  3. [将W拆开](#将W拆开)     拆开成W_self与W_neighbour，shape都是（d,s），分别与hi，hN相乘，得到（n,s）, 之后相加。本质上是分块矩阵计算"
   ]
  },
  {
   "cell_type": "markdown",
   "metadata": {},
   "source": [
    "#### 先汇聚再拼接"
   ]
  },
  {
   "cell_type": "code",
   "execution_count": 302,
   "metadata": {},
   "outputs": [
    {
     "name": "stdout",
     "output_type": "stream",
     "text": [
      "tensor([[0.3780, 0.3780, 0.3780, 0.3780, 0.3780, 0.3780, 0.3780],\n",
      "        [0.3780, 0.3780, 0.3780, 0.3780, 0.3780, 0.3780, 0.3780],\n",
      "        [0.3780, 0.3780, 0.3780, 0.3780, 0.3780, 0.3780, 0.3780],\n",
      "        [0.3780, 0.3780, 0.3780, 0.3780, 0.3780, 0.3780, 0.3780],\n",
      "        [0.3780, 0.3780, 0.3780, 0.3780, 0.3780, 0.3780, 0.3780]],\n",
      "       grad_fn=<DivBackward0>)\n"
     ]
    }
   ],
   "source": [
    "W = nn.Linear(in_feats * 2, out_feats, bias=False)\n",
    "relu = nn.ReLU()\n",
    "nn.init.ones_(W.weight)\n",
    "\n",
    "with g.local_scope():\n",
    "    hi = g.ndata[\"h\"]\n",
    "    # zeros=torch.zeros_like(hi)\n",
    "    # hi=torch.cat([hi,zeros],dim=1)\n",
    "    g.update_all(fn.copy_u(\"h\", \"tmp\"), fn.sum(\"tmp\", \"hN\"))\n",
    "    hN = g.dstdata[\"hN\"]\n",
    "    h_cat = torch.cat([hi, hN], dim=1)\n",
    "    h_cat = relu(W(h_cat))\n",
    "    n = F.normalize(h_cat, dim=1)\n",
    "\n",
    "    print(n)"
   ]
  },
  {
   "cell_type": "markdown",
   "metadata": {},
   "source": [
    "#### 将W拆开"
   ]
  },
  {
   "cell_type": "code",
   "execution_count": 312,
   "metadata": {},
   "outputs": [],
   "source": [
    "class DGL_SAGEConv(nn.Module):\n",
    "    def __init__(self, in_feats, out_feats):\n",
    "        super(DGL_SAGEConv, self).__init__()\n",
    "        self.w_neighbour = nn.Linear(in_feats, out_feats, bias=False)\n",
    "        self.w_self = nn.Linear(in_feats, out_feats, bias=False)\n",
    "        torch.nn.init.ones_(self.w_neighbour.weight)\n",
    "        torch.nn.init.ones_(self.w_self.weight)\n",
    "\n",
    "    def forward(self, g: dgl.graph, h):\n",
    "        with g.local_scope():\n",
    "            g.srcdata[\"h\"] = h\n",
    "            g.update_all(fn.copy_u(\"h\", \"tmp\"), fn.sum(\"tmp\", \"hN\"))\n",
    "            h_N = g.dstdata[\"hN\"]\n",
    "            h_self = self.w_self(h)\n",
    "            h_neighbour = self.w_neighbour(h_N)\n",
    "            rst = F.relu(h_self + h_neighbour)\n",
    "\n",
    "            return F.normalize(rst, dim=1)"
   ]
  },
  {
   "cell_type": "code",
   "execution_count": 313,
   "metadata": {},
   "outputs": [],
   "source": [
    "mySAGEConv = DGL_SAGEConv(in_feats, out_feats)"
   ]
  },
  {
   "cell_type": "code",
   "execution_count": 314,
   "metadata": {},
   "outputs": [
    {
     "data": {
      "text/plain": [
       "tensor([[0.3780, 0.3780, 0.3780, 0.3780, 0.3780, 0.3780, 0.3780],\n",
       "        [0.3780, 0.3780, 0.3780, 0.3780, 0.3780, 0.3780, 0.3780],\n",
       "        [0.3780, 0.3780, 0.3780, 0.3780, 0.3780, 0.3780, 0.3780],\n",
       "        [0.3780, 0.3780, 0.3780, 0.3780, 0.3780, 0.3780, 0.3780],\n",
       "        [0.3780, 0.3780, 0.3780, 0.3780, 0.3780, 0.3780, 0.3780]],\n",
       "       grad_fn=<DivBackward0>)"
      ]
     },
     "execution_count": 314,
     "metadata": {},
     "output_type": "execute_result"
    }
   ],
   "source": [
    "mySAGEConv(g, h)"
   ]
  },
  {
   "cell_type": "code",
   "execution_count": null,
   "metadata": {},
   "outputs": [],
   "source": []
  },
  {
   "cell_type": "markdown",
   "metadata": {},
   "source": [
    "#### 与dgl实现对比验证"
   ]
  },
  {
   "cell_type": "code",
   "execution_count": 294,
   "metadata": {},
   "outputs": [
    {
     "name": "stdout",
     "output_type": "stream",
     "text": [
      "Parameter containing:\n",
      "tensor([[1., 1., 1., 1., 1.],\n",
      "        [1., 1., 1., 1., 1.],\n",
      "        [1., 1., 1., 1., 1.],\n",
      "        [1., 1., 1., 1., 1.],\n",
      "        [1., 1., 1., 1., 1.],\n",
      "        [1., 1., 1., 1., 1.],\n",
      "        [1., 1., 1., 1., 1.]], requires_grad=True)\n",
      "Parameter containing:\n",
      "tensor([[1., 1., 1., 1., 1.],\n",
      "        [1., 1., 1., 1., 1.],\n",
      "        [1., 1., 1., 1., 1.],\n",
      "        [1., 1., 1., 1., 1.],\n",
      "        [1., 1., 1., 1., 1.],\n",
      "        [1., 1., 1., 1., 1.],\n",
      "        [1., 1., 1., 1., 1.]], requires_grad=True)\n"
     ]
    }
   ],
   "source": [
    "from dgl.nn import SAGEConv\n",
    "\n",
    "sageconv = SAGEConv(\n",
    "    in_feats,\n",
    "    out_feats,\n",
    "    aggregator_type=\"mean\",\n",
    "    bias=False,\n",
    "    activation=relu,\n",
    "    norm=F.normalize,\n",
    ")\n",
    "\n",
    "nn.init.ones_(sageconv.fc_neigh.weight)\n",
    "nn.init.ones_(sageconv.fc_self.weight)\n",
    "print(sageconv.fc_neigh.weight)\n",
    "print(sageconv.fc_self.weight)"
   ]
  },
  {
   "cell_type": "code",
   "execution_count": 295,
   "metadata": {},
   "outputs": [
    {
     "data": {
      "text/plain": [
       "tensor([[0.3780, 0.3780, 0.3780, 0.3780, 0.3780, 0.3780, 0.3780],\n",
       "        [0.3780, 0.3780, 0.3780, 0.3780, 0.3780, 0.3780, 0.3780],\n",
       "        [0.3780, 0.3780, 0.3780, 0.3780, 0.3780, 0.3780, 0.3780],\n",
       "        [0.3780, 0.3780, 0.3780, 0.3780, 0.3780, 0.3780, 0.3780],\n",
       "        [0.3780, 0.3780, 0.3780, 0.3780, 0.3780, 0.3780, 0.3780]],\n",
       "       grad_fn=<DivBackward0>)"
      ]
     },
     "execution_count": 295,
     "metadata": {},
     "output_type": "execute_result"
    }
   ],
   "source": [
    "sageconv(g, h)"
   ]
  },
  {
   "cell_type": "code",
   "execution_count": null,
   "metadata": {},
   "outputs": [],
   "source": [
    "# 一样一样\n",
    "# tensor([[0.3780, 0.3780, 0.3780, 0.3780, 0.3780, 0.3780, 0.3780],\n",
    "#         [0.3780, 0.3780, 0.3780, 0.3780, 0.3780, 0.3780, 0.3780],\n",
    "#         [0.3780, 0.3780, 0.3780, 0.3780, 0.3780, 0.3780, 0.3780],\n",
    "#         [0.3780, 0.3780, 0.3780, 0.3780, 0.3780, 0.3780, 0.3780],\n",
    "#         [0.3780, 0.3780, 0.3780, 0.3780, 0.3780, 0.3780, 0.3780]],\n",
    "#        grad_fn=<DivBackward0>)"
   ]
  },
  {
   "cell_type": "code",
   "execution_count": null,
   "metadata": {},
   "outputs": [],
   "source": []
  }
 ],
 "metadata": {
  "colab": {
   "provenance": []
  },
  "kernelspec": {
   "display_name": "GML",
   "language": "python",
   "name": "gml"
  },
  "language_info": {
   "codemirror_mode": {
    "name": "ipython",
    "version": 3
   },
   "file_extension": ".py",
   "mimetype": "text/x-python",
   "name": "python",
   "nbconvert_exporter": "python",
   "pygments_lexer": "ipython3",
   "version": "3.8.19"
  }
 },
 "nbformat": 4,
 "nbformat_minor": 4
}
