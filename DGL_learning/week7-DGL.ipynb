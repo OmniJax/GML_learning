{
 "cells": [
  {
   "cell_type": "code",
   "execution_count": 1,
   "id": "f9668b35-a531-49d6-9186-ca3679b07cf0",
   "metadata": {},
   "outputs": [],
   "source": [
    "import os\n",
    "\n",
    "import dgl\n",
    "import dgl.data\n",
    "import dgl.function as fn\n",
    "import dgl.nn.functional as dF\n",
    "import matplotlib.pyplot as plt\n",
    "import networkx as nx\n",
    "import torch\n",
    "import torch.nn as nn\n",
    "import torch.nn.functional as F\n",
    "\n",
    "os.environ[\"KMP_DUPLICATE_LIB_OK\"] = \"TRUE\""
   ]
  },
  {
   "cell_type": "markdown",
   "id": "f745ecc9-3cb2-4de5-ac10-a8193dc83305",
   "metadata": {},
   "source": [
    "# 节点分类"
   ]
  },
  {
   "cell_type": "markdown",
   "id": "951fa731-fb2e-49ea-aac5-5845d0083228",
   "metadata": {},
   "source": [
    "## 数据集"
   ]
  },
  {
   "cell_type": "code",
   "execution_count": 2,
   "id": "5df9140d-9e07-4e37-9bec-9a5ded00722e",
   "metadata": {},
   "outputs": [
    {
     "name": "stdout",
     "output_type": "stream",
     "text": [
      "  NumNodes: 2708\n",
      "  NumEdges: 10556\n",
      "  NumFeats: 1433\n",
      "  NumClasses: 7\n",
      "  NumTrainingSamples: 140\n",
      "  NumValidationSamples: 500\n",
      "  NumTestSamples: 1000\n",
      "Done loading data from cached files.\n"
     ]
    }
   ],
   "source": [
    "dataset = dgl.data.CoraGraphDataset(\"./\")"
   ]
  },
  {
   "cell_type": "code",
   "execution_count": 3,
   "id": "128cc756-df16-4396-b55f-058a452d2416",
   "metadata": {},
   "outputs": [
    {
     "name": "stdout",
     "output_type": "stream",
     "text": [
      "n of categories:  7\n",
      "n of graph 1\n"
     ]
    }
   ],
   "source": [
    "print(\"n of categories: \", dataset.num_classes)\n",
    "print(\"n of graph\", len(dataset))"
   ]
  },
  {
   "cell_type": "code",
   "execution_count": 14,
   "id": "9887fb06-7508-4805-b9e2-5dac80283c8f",
   "metadata": {},
   "outputs": [
    {
     "name": "stdout",
     "output_type": "stream",
     "text": [
      "1433 7\n"
     ]
    }
   ],
   "source": [
    "g = dataset[0]\n",
    "in_feats = g.ndata[\"feat\"].shape[1]\n",
    "out_feats = dataset.num_classes\n",
    "print(in_feats, out_feats)"
   ]
  },
  {
   "cell_type": "code",
   "execution_count": null,
   "id": "b767036c-3187-45a6-92a3-9b4d1721d78e",
   "metadata": {},
   "outputs": [],
   "source": []
  },
  {
   "cell_type": "code",
   "execution_count": null,
   "id": "5f26438c-4a22-4e44-8ab5-4ef3e140ce01",
   "metadata": {},
   "outputs": [],
   "source": []
  },
  {
   "cell_type": "markdown",
   "id": "b20469b5-ac2e-4763-affd-08bfec7e6841",
   "metadata": {
    "jp-MarkdownHeadingCollapsed": true
   },
   "source": [
    "### 测试图"
   ]
  },
  {
   "cell_type": "code",
   "execution_count": 181,
   "id": "591554b7-314e-41a5-8ccf-fa6d8a1abbff",
   "metadata": {},
   "outputs": [
    {
     "data": {
      "image/png": "[encoded data removed]",
      "text/plain": [
       "<Figure size 200x200 with 1 Axes>"
      ]
     },
     "metadata": {},
     "output_type": "display_data"
    }
   ],
   "source": [
    "src = torch.tensor([0, 1, 1, 2, 2, 4])\n",
    "dst = torch.tensor([2, 0, 2, 3, 4, 3])\n",
    "h = torch.rand((5, 8))\n",
    "\n",
    "g = dgl.graph((src, dst))\n",
    "g.ndata[\"h\"] = h\n",
    "edge_weight = torch.ones(g.num_edges())  # 给各个边赋格权重\n",
    "g.edata[\"edge_weight\"] = edge_weight\n",
    "plt.figure(figsize=(2, 2))\n",
    "nx.draw(dgl.to_networkx(g), with_labels=True)\n",
    "\n",
    "\n",
    "in_feats = h.shape[1]\n",
    "out_feats = 6"
   ]
  },
  {
   "cell_type": "code",
   "execution_count": null,
   "id": "f4ca0f0f-0576-47d7-ba41-d09d9ec4477f",
   "metadata": {},
   "outputs": [],
   "source": []
  },
  {
   "cell_type": "markdown",
   "id": "c7e1e91e-8a0e-4d54-b15e-0b1b5fe182eb",
   "metadata": {},
   "source": [
    "## GraphConv\n",
    "Mathematically it is defined as follows:\n",
    "\n",
    "$$\n",
    "  h_i^{(l+1)} = \\sigma(b^{(l)} + \\sum_{j\\in\\mathcal{N}(i)}\\frac{1}{c_{ji}}h_j^{(l)}W^{(l)})\n",
    "$$\n",
    "where $\\mathcal{N}(i)$ is the set of neighbors of node $i$, \n",
    "$c_{ji}$ is the product of the square root of node degrees\n",
    "$(i.e.,  c_{ji} = \\sqrt{|\\mathcal{N}(j)|}\\sqrt{|\\mathcal{N}(i)|})$,\n",
    "and $\\sigma$ is an activation function.\n",
    "\n",
    "If a weight tensor on each edge is provided, the weighted graph convolution is defined as:\n",
    "\n",
    "$$\n",
    "  h_i^{(l+1)} = \\sigma(b^{(l)} + \\sum_{j\\in\\mathcal{N}(i)}\\frac{e_{ji}}{c_{ji}}h_j^{(l)}W^{(l)})\n",
    "$$\n",
    "where $e_{ji}$is the scalar weight on the edge from node $j$ to node $i$.\n",
    "This is NOT equivalent to the weighted graph convolutional network formulation in the paper.\n",
    "\n",
    "To customize the normalization term :$c_{ji}$, one can first set ``norm='none'`` for\n",
    "the model, and send the pre-normalized :$e_{ji}$ to the forward computation. We provide\n",
    ":class:`~dgl.nn.pytorch.EdgeWeightNorm` to normalize scalar edge weight following the GCN paper."
   ]
  },
  {
   "cell_type": "code",
   "execution_count": 85,
   "id": "8b1f3966-f6f1-48df-b0f6-2f85ef92fccf",
   "metadata": {},
   "outputs": [],
   "source": [
    "# 自定义GraphConv\n",
    "class myGraphConv(nn.Module):\n",
    "    def __init__(self, in_feats, out_feats):\n",
    "        super(myGraphConv, self).__init__()\n",
    "        self.w = nn.Linear(in_feats, out_feats, bias=False)\n",
    "        self.bias = nn.Parameter(torch.Tensor(out_feats))  # 定义tensor类型的bias\n",
    "\n",
    "        self.reset_parameters()\n",
    "\n",
    "    def reset_parameters(self):\n",
    "        nn.init.xavier_uniform_(self.w.weight)\n",
    "        nn.init.zeros_(self.bias)\n",
    "\n",
    "    def forward(self, g: dgl.DGLGraph, x):\n",
    "        with g.local_scope():\n",
    "            # 确保自身特征能有迭代\n",
    "            g = dgl.remove_self_loop(g)\n",
    "            g = dgl.add_self_loop(g)\n",
    "\n",
    "            # norm='both'，cij考虑src的出度和dst的入度\n",
    "            out_deg = g.out_degrees().pow(-0.5)\n",
    "            in_deg = g.in_degrees().pow(-0.5)\n",
    "\n",
    "            g.srcdata[\"out_deg\"] = out_deg\n",
    "            g.srcdata[\"in_deg\"] = in_deg\n",
    "\n",
    "            h = self.w(x)\n",
    "            g.srcdata[\"h\"] = h\n",
    "\n",
    "            g.update_all(message_func=self.message, reduce_func=fn.sum(\"hN\", \"hN\"))\n",
    "            hN = g.dstdata[\"hN\"] + self.bias\n",
    "\n",
    "            return hN\n",
    "\n",
    "    def message(self, edges: dgl.udf.EdgeBatch):\n",
    "        d_j = edges.src[\"out_deg\"].view(-1, 1)\n",
    "        d_i = edges.dst[\"in_deg\"].view(-1, 1)\n",
    "        h_j = edges.src[\"h\"]\n",
    "\n",
    "        hN = d_i * d_j * h_j\n",
    "        return {\"hN\": hN}"
   ]
  },
  {
   "cell_type": "code",
   "execution_count": 87,
   "id": "ee53b076-5538-4ee3-a2f9-a9f786c67f49",
   "metadata": {},
   "outputs": [],
   "source": [
    "# myGraphConv(in_feats,out_feats)(g,g.ndata['feat'])"
   ]
  },
  {
   "cell_type": "code",
   "execution_count": null,
   "id": "8e71646a-fb11-4c41-8dbc-bb33356a4de1",
   "metadata": {},
   "outputs": [],
   "source": []
  },
  {
   "cell_type": "markdown",
   "id": "5a4017cc-116a-489d-a87e-11ad5ac9e7cd",
   "metadata": {},
   "source": [
    "## GCN"
   ]
  },
  {
   "cell_type": "code",
   "execution_count": 88,
   "id": "b972f5a4-8b96-4b1b-b745-4b696920d9a3",
   "metadata": {},
   "outputs": [],
   "source": [
    "# 自定义GCN模型\n",
    "class myGCN(nn.Module):\n",
    "    def __init__(self, in_feats, out_feats):\n",
    "        super(myGCN, self).__init__()\n",
    "        self.conv1 = myGraphConv(in_feats, in_feats)\n",
    "        self.conv2 = myGraphConv(in_feats, out_feats)\n",
    "\n",
    "    def forward(self, g, x):\n",
    "        h = self.conv1(g, x)\n",
    "        h = F.relu(h)\n",
    "        h = self.conv2(g, h)\n",
    "        return h"
   ]
  },
  {
   "cell_type": "code",
   "execution_count": null,
   "id": "ffbfe71f-c667-441f-a277-940fa4de879f",
   "metadata": {},
   "outputs": [],
   "source": []
  },
  {
   "cell_type": "markdown",
   "id": "cc6851c3-e243-4b26-a3c4-1a726d9904c1",
   "metadata": {},
   "source": [
    "### 训练和测试"
   ]
  },
  {
   "cell_type": "code",
   "execution_count": 113,
   "id": "fa1eae20-6000-4e59-9dd6-9e4c1a760760",
   "metadata": {},
   "outputs": [],
   "source": [
    "# 训练\n",
    "def train():\n",
    "    model.train()\n",
    "    optimzier.zero_grad()\n",
    "\n",
    "    features = g.ndata[\"feat\"]\n",
    "    labels = g.ndata[\"label\"]\n",
    "    train_mask = g.ndata[\"train_mask\"]\n",
    "\n",
    "    logits = model(g, features)\n",
    "    loss = criterion(logits[train_mask], labels[train_mask])\n",
    "\n",
    "    loss.backward()\n",
    "    optimzier.step()\n",
    "\n",
    "    return loss.detach()\n",
    "\n",
    "\n",
    "# 测试\n",
    "def test():\n",
    "    model.eval()\n",
    "    with torch.no_grad():\n",
    "        features = g.ndata[\"feat\"]\n",
    "        labels = g.ndata[\"label\"]\n",
    "        train_mask = g.ndata[\"train_mask\"]\n",
    "        val_mask = g.ndata[\"val_mask\"]\n",
    "        test_mask = g.ndata[\"test_mask\"]\n",
    "\n",
    "        logits = model(g, features)\n",
    "        pred = logits.argmax(1)\n",
    "\n",
    "        train_acc = (pred[train_mask] == labels[train_mask]).float().mean().item()\n",
    "        test_acc = (pred[test_mask] == labels[test_mask]).float().mean().item()\n",
    "        val_acc = (pred[val_mask] == labels[val_mask]).float().mean().item()\n",
    "\n",
    "    return train_acc, test_acc, val_acc"
   ]
  },
  {
   "cell_type": "code",
   "execution_count": 115,
   "id": "e17b1f3e-1bcf-4fdd-8438-eca4d2194e66",
   "metadata": {},
   "outputs": [],
   "source": [
    "def visualize_curve(train_acc, test_acc, val_acc):\n",
    "    if train_acc is not None:\n",
    "        plt.plot(train_acc, label=\"train\")\n",
    "    if val_acc is not None:\n",
    "        plt.plot(val_acc, label=\"val\")\n",
    "    if test_acc is not None:\n",
    "        plt.plot(test_acc, label=\"test\")\n",
    "    plt.legend()\n",
    "    plt.show()"
   ]
  },
  {
   "cell_type": "code",
   "execution_count": null,
   "id": "fdafa152-a609-485e-9f34-42f71d0dd081",
   "metadata": {},
   "outputs": [],
   "source": []
  },
  {
   "cell_type": "code",
   "execution_count": 116,
   "id": "529403c0-93ba-402b-832c-1f24179d1ea8",
   "metadata": {},
   "outputs": [],
   "source": [
    "device = \"cuda\"\n",
    "model = myGCN(in_feats, out_feats).to(device)\n",
    "g = g.to(device)\n",
    "\n",
    "optimzier = torch.optim.Adam(model.parameters(), lr=0.001)\n",
    "criterion = F.cross_entropy"
   ]
  },
  {
   "cell_type": "code",
   "execution_count": null,
   "id": "61c5dd94-6db3-47ca-93b5-91088ebd66d2",
   "metadata": {},
   "outputs": [],
   "source": []
  },
  {
   "cell_type": "code",
   "execution_count": 117,
   "id": "2932fe62-7192-4717-ab11-ba8dd6491014",
   "metadata": {},
   "outputs": [
    {
     "name": "stdout",
     "output_type": "stream",
     "text": [
      "Epoch: 000, loss: 1.9460,         train_acc: 0.829, val_acc: 0.532, test_acc: 0.539\n",
      "Epoch: 010, loss: 1.8009,         train_acc: 0.957, val_acc: 0.690, test_acc: 0.725\n",
      "Epoch: 020, loss: 1.5633,         train_acc: 0.971, val_acc: 0.726, test_acc: 0.753\n",
      "Epoch: 030, loss: 1.2453,         train_acc: 0.986, val_acc: 0.774, test_acc: 0.786\n",
      "Epoch: 040, loss: 0.8965,         train_acc: 0.986, val_acc: 0.778, test_acc: 0.799\n",
      "Epoch: 050, loss: 0.5931,         train_acc: 0.986, val_acc: 0.786, test_acc: 0.809\n",
      "Epoch: 060, loss: 0.3788,         train_acc: 0.986, val_acc: 0.786, test_acc: 0.812\n",
      "Epoch: 070, loss: 0.2448,         train_acc: 0.986, val_acc: 0.788, test_acc: 0.814\n",
      "Epoch: 080, loss: 0.1641,         train_acc: 1.000, val_acc: 0.780, test_acc: 0.809\n",
      "Epoch: 090, loss: 0.1151,         train_acc: 1.000, val_acc: 0.784, test_acc: 0.804\n",
      "Epoch: 100, loss: 0.0846,         train_acc: 1.000, val_acc: 0.788, test_acc: 0.799\n"
     ]
    }
   ],
   "source": [
    "train_accs, test_accs, val_accs = [], [], []\n",
    "\n",
    "for e in range(101):\n",
    "    loss = train()\n",
    "\n",
    "    if e % 10 == 0:\n",
    "        train_acc, test_acc, val_acc = test()\n",
    "        train_accs.append(train_acc)\n",
    "        test_accs.append(test_acc)\n",
    "        val_accs.append(val_acc)\n",
    "        print(\n",
    "            f\"Epoch: {e:03d}, loss: {loss:.4f}, \\\n",
    "        train_acc: {train_acc:.3f}, val_acc: {val_acc:.3f}, test_acc: {test_acc:.3f}\"\n",
    "        )"
   ]
  },
  {
   "cell_type": "code",
   "execution_count": 118,
   "id": "e378afcc-5434-4c41-97a8-fa6684077bd3",
   "metadata": {},
   "outputs": [
    {
     "data": {
      "image/png": "[encoded data removed]",
      "text/plain": [
       "<Figure size 640x480 with 1 Axes>"
      ]
     },
     "metadata": {},
     "output_type": "display_data"
    }
   ],
   "source": [
    "visualize_curve(train_accs, test_accs, val_accs)"
   ]
  },
  {
   "cell_type": "code",
   "execution_count": null,
   "id": "ee15eda5-833a-46dd-9150-8b36e202b278",
   "metadata": {},
   "outputs": [],
   "source": []
  },
  {
   "cell_type": "code",
   "execution_count": null,
   "id": "fdd524b2-35e7-40c0-8740-0fedc2e125f5",
   "metadata": {},
   "outputs": [],
   "source": []
  },
  {
   "cell_type": "code",
   "execution_count": null,
   "id": "9ec5e33f-aa44-49ff-a4fb-01b205d41c25",
   "metadata": {},
   "outputs": [],
   "source": []
  },
  {
   "cell_type": "code",
   "execution_count": null,
   "id": "02ee1387-4dc5-4fd4-92ed-a45588b6f9ab",
   "metadata": {},
   "outputs": [],
   "source": []
  },
  {
   "cell_type": "markdown",
   "id": "e7840025-b285-42f7-af63-1e742cadaeb3",
   "metadata": {},
   "source": [
    "# 连接预测"
   ]
  },
  {
   "cell_type": "markdown",
   "id": "d2d7d96e-c249-4bc1-abc5-1dec69ee3c98",
   "metadata": {},
   "source": [
    "## 数据集"
   ]
  },
  {
   "cell_type": "code",
   "execution_count": 37,
   "id": "cbd5fa6a-2bea-4554-99eb-5bb73d8759f3",
   "metadata": {},
   "outputs": [
    {
     "name": "stdout",
     "output_type": "stream",
     "text": [
      "  NumNodes: 2708\n",
      "  NumEdges: 10556\n",
      "  NumFeats: 1433\n",
      "  NumClasses: 7\n",
      "  NumTrainingSamples: 140\n",
      "  NumValidationSamples: 500\n",
      "  NumTestSamples: 1000\n",
      "Done loading data from cached files.\n"
     ]
    }
   ],
   "source": [
    "dataset = dgl.data.CoraGraphDataset(\"./\")"
   ]
  },
  {
   "cell_type": "markdown",
   "id": "89325f8d-241c-4d96-81bf-6e09bda8a1b3",
   "metadata": {},
   "source": [
    "### 准备边"
   ]
  },
  {
   "cell_type": "code",
   "execution_count": 113,
   "id": "d1280bfb-1645-46eb-8195-9a0ed89d64aa",
   "metadata": {},
   "outputs": [
    {
     "name": "stdout",
     "output_type": "stream",
     "text": [
      "训练集正样本边个数： 8444\n",
      "训练集负样本边个数： 8444\n",
      "测试集正样本边个数： 2112\n",
      "测试集负样本边个数： 2112\n",
      "1433 7\n",
      "Graph(num_nodes=2708, num_edges=8444,\n",
      "      ndata_schemes={'train_mask': Scheme(shape=(), dtype=torch.bool), 'label': Scheme(shape=(), dtype=torch.int64), 'val_mask': Scheme(shape=(), dtype=torch.bool), 'test_mask': Scheme(shape=(), dtype=torch.bool), 'feat': Scheme(shape=(1433,), dtype=torch.float32)}\n",
      "      edata_schemes={})\n"
     ]
    }
   ],
   "source": [
    "g = dataset[0]\n",
    "num_nodes = g.num_nodes()\n",
    "num_edges = g.num_edges()\n",
    "\n",
    "num_train_edges = int(num_edges * 0.8)\n",
    "num_test_edges = num_edges - num_train_edges\n",
    "\n",
    "\n",
    "u, v = g.edges()\n",
    "eids = torch.arange(num_edges)\n",
    "\n",
    "# 正边\n",
    "idx = torch.randperm(num_edges)\n",
    "train_u_pos, train_v_pos = u[idx[:num_train_edges]], v[idx[:num_train_edges]]\n",
    "test_u_pos, test_v_pos = u[idx[num_train_edges:]], v[idx[num_train_edges:]]\n",
    "\n",
    "# 负边\n",
    "edge_index = torch.cat([u.view(1, -1), v.view(1, -1)], dim=0)\n",
    "adj_coo = torch.sparse_coo_tensor(\n",
    "    indices=edge_index, values=torch.ones(num_edges), size=(num_nodes, num_nodes)\n",
    ")\n",
    "adj = adj_coo.to_dense()\n",
    "adj_neg = 1 - adj - torch.eye(num_nodes)\n",
    "\n",
    "u_neg, v_neg = torch.where(adj_neg == 1)\n",
    "\n",
    "idx = torch.randperm(num_edges)\n",
    "train_u_neg, train_v_neg = u_neg[idx[:num_train_edges]], v_neg[idx[:num_train_edges]]\n",
    "test_u_neg, test_v_neg = u_neg[idx[num_train_edges:]], v_neg[idx[num_train_edges:]]\n",
    "\n",
    "\n",
    "print(\"训练集正样本边个数：\", len(train_u_pos))\n",
    "print(\"训练集负样本边个数：\", len(train_u_neg))\n",
    "print(\"测试集正样本边个数：\", len(test_u_pos))\n",
    "print(\"测试集负样本边个数：\", len(test_u_neg))\n",
    "g = dataset[0]\n",
    "in_feats = g.ndata[\"feat\"].shape[1]\n",
    "out_feats = dataset.num_classes\n",
    "print(in_feats, out_feats)\n",
    "\n",
    "\n",
    "# 移除测试边\n",
    "train_g = dgl.remove_edges(g, idx[num_train_edges:])\n",
    "print(train_g)\n",
    "\n",
    "\n",
    "train_g_pos = dgl.graph((train_u_pos, train_v_pos), num_nodes=g.num_nodes())\n",
    "train_g_neg = dgl.graph((train_u_neg, train_v_neg), num_nodes=g.num_nodes())\n",
    "\n",
    "test_g_pos = dgl.graph((test_u_pos, test_v_pos), num_nodes=g.num_nodes())\n",
    "test_g_neg = dgl.graph((test_u_neg, test_v_neg), num_nodes=g.num_nodes())"
   ]
  },
  {
   "cell_type": "code",
   "execution_count": null,
   "id": "e4855f7b-c8ee-4c1d-97d2-c9473f56ba01",
   "metadata": {},
   "outputs": [],
   "source": []
  },
  {
   "cell_type": "code",
   "execution_count": null,
   "id": "a0a80b5c-6734-4f11-b2e6-57510e150449",
   "metadata": {},
   "outputs": [],
   "source": []
  },
  {
   "cell_type": "code",
   "execution_count": null,
   "id": "ce6405ad-7b22-45d0-a21d-647ba9543798",
   "metadata": {},
   "outputs": [],
   "source": []
  },
  {
   "cell_type": "code",
   "execution_count": null,
   "id": "8b85a800-b099-4a81-8ef6-4503a287f722",
   "metadata": {},
   "outputs": [],
   "source": []
  },
  {
   "cell_type": "code",
   "execution_count": null,
   "id": "07ea41a3-1110-4971-bf20-8f2904ffb989",
   "metadata": {},
   "outputs": [],
   "source": []
  },
  {
   "cell_type": "markdown",
   "id": "a0181f5c-4431-4068-a9df-7b6e027b5a2b",
   "metadata": {},
   "source": [
    "## GATConv"
   ]
  },
  {
   "cell_type": "code",
   "execution_count": 47,
   "id": "a32d04bb-7921-47a6-97f2-44106c0da309",
   "metadata": {},
   "outputs": [],
   "source": [
    "from dgl.nn.functional import edge_softmax\n",
    "\n",
    "\n",
    "class myGATConv(nn.Module):\n",
    "    def __init__(self, in_feats, out_feats):\n",
    "        super(myGATConv, self).__init__()\n",
    "        # self.W=nn.Parameter(torch.rand(in_feats,out_feats))\n",
    "        # self.a=nn.Parameter(torch.rand(2*in_feats,1))\n",
    "        self.W = nn.Linear(in_feats, out_feats, bias=False)\n",
    "        self.a_fc = nn.Linear(out_feats * 2, 1, bias=False)\n",
    "        self.leakyrelu = nn.LeakyReLU()\n",
    "\n",
    "    def edge_attention(self, edges):\n",
    "        hiW = self.W(edges.dst[\"h\"])\n",
    "        hjW = self.W(edges.src[\"h\"])\n",
    "        h_cat = torch.cat([hiW, hjW], dim=1)\n",
    "        e = self.leakyrelu(self.a_fc(h_cat))\n",
    "        return {\"e\": e}\n",
    "\n",
    "    def forward(self, g: dgl.graph, h, get_attention=False):\n",
    "        with g.local_scope():\n",
    "            g = g.remove_self_loop().add_self_loop()\n",
    "            g.ndata[\"h\"] = h\n",
    "            g.apply_edges(self.edge_attention)\n",
    "            e = g.edata[\"e\"]\n",
    "            alpha = edge_softmax(g, e)\n",
    "            g.edata[\"alpha\"] = alpha\n",
    "            hW = self.W(h)\n",
    "\n",
    "            g.ndata[\"hW\"] = hW\n",
    "            g.update_all(fn.u_mul_e(\"hW\", \"alpha\", \"m\"), fn.sum(\"m\", \"hN\"))\n",
    "            hN = g.ndata[\"hN\"]\n",
    "\n",
    "            if get_attention:\n",
    "                return hN, alpha\n",
    "            else:\n",
    "                return hN"
   ]
  },
  {
   "cell_type": "markdown",
   "id": "a4db6cef-ab8f-4e10-b87a-3453b1f7fce1",
   "metadata": {},
   "source": [
    "## GAT\n",
    "用于提取特征，提取出的特征传入给MLPPredictor来分类"
   ]
  },
  {
   "cell_type": "code",
   "execution_count": 48,
   "id": "e0b6773c-6b22-4829-9b47-bf12dbb4246a",
   "metadata": {},
   "outputs": [],
   "source": [
    "# 自定义GCN模型\n",
    "class myGAT(nn.Module):\n",
    "    def __init__(self, in_feats, out_feats):\n",
    "        super(myGAT, self).__init__()\n",
    "        self.conv1 = myGATConv(in_feats, in_feats)\n",
    "        self.conv2 = myGATConv(in_feats, out_feats)\n",
    "\n",
    "    def forward(self, g, x):\n",
    "        h = self.conv1(g, x)\n",
    "        h = F.relu(h)\n",
    "        h = self.conv2(g, h)\n",
    "        return h"
   ]
  },
  {
   "cell_type": "markdown",
   "id": "fac707e5-ae82-4189-9c74-2e80a48be8ab",
   "metadata": {},
   "source": [
    "### MLPPredictor"
   ]
  },
  {
   "cell_type": "code",
   "execution_count": 49,
   "id": "54afffc9-8172-4c4c-91e3-167616aedae5",
   "metadata": {},
   "outputs": [],
   "source": [
    "class MLPPredictor(nn.Module):\n",
    "    def __init__(self, n_feats):\n",
    "        super(MLPPredictor, self).__init__()\n",
    "        self.w1 = nn.Linear(n_feats * 2, n_feats)\n",
    "        self.w2 = nn.Linear(n_feats, 1)\n",
    "\n",
    "    def forward(self, g: dgl.DGLGraph, h):\n",
    "        with g.local_scope():\n",
    "            g.ndata[\"h\"] = h\n",
    "            g.apply_edges(self.apply_edges)\n",
    "            return g.edata[\"score\"]\n",
    "\n",
    "    def apply_edges(self, edges):\n",
    "        h1 = edges.src[\"h\"]\n",
    "        h2 = edges.src[\"h\"]\n",
    "        h = torch.cat([h1, h2], dim=1)\n",
    "\n",
    "        h = self.w2(F.relu(self.w1(h)))\n",
    "\n",
    "        return {\"score\": h}"
   ]
  },
  {
   "cell_type": "markdown",
   "id": "414ec48d-13f4-482c-9796-b91ba73c2413",
   "metadata": {},
   "source": [
    "#### 训练和测试"
   ]
  },
  {
   "cell_type": "code",
   "execution_count": 50,
   "id": "f2780b8c-516a-4a57-b50d-ee24493a6433",
   "metadata": {},
   "outputs": [],
   "source": [
    "from sklearn.metrics import roc_auc_score\n",
    "\n",
    "\n",
    "def compute_loss(pos_score, neg_score):\n",
    "    scores = torch.cat([pos_score, neg_score])\n",
    "    labels = torch.cat(\n",
    "        [torch.ones(pos_score.shape[0]), torch.zeros(neg_score.shape[0])]\n",
    "    )\n",
    "    return F.binary_cross_entropy_with_logits(scores, labels)\n",
    "\n",
    "\n",
    "def compute_auc(pos_score, neg_score):\n",
    "    scores = torch.cat([pos_score, neg_score])\n",
    "    labels = torch.cat(\n",
    "        [torch.ones(pos_score.shape[0]), torch.zeros(neg_score.shape[0])]\n",
    "    ).numpy()\n",
    "    return roc_auc_score(labels, scores)"
   ]
  },
  {
   "cell_type": "code",
   "execution_count": null,
   "id": "600be1fe-db25-4ac4-afb2-2cad7d194bfc",
   "metadata": {},
   "outputs": [],
   "source": []
  },
  {
   "cell_type": "code",
   "execution_count": 183,
   "id": "a0f0004f-d527-4a51-9ad0-d51b3fe2515b",
   "metadata": {},
   "outputs": [],
   "source": [
    "import itertools\n",
    "\n",
    "device = \"cuda\"\n",
    "train_g = train_g.to(device)\n",
    "\n",
    "train_g_pos = train_g_pos.to(device)\n",
    "train_g_neg = train_g_neg.to(device)\n",
    "\n",
    "\n",
    "model = myGAT(in_feats, 32).to(device)\n",
    "predictor = MLPPredictor(32).to(device)\n"
   ]
  },
  {
   "cell_type": "code",
   "execution_count": 184,
   "id": "02bb9e49-0b3c-4a3f-82ce-25b44f4a8810",
   "metadata": {},
   "outputs": [],
   "source": [
    "optimizer = torch.optim.Adam(\n",
    "    itertools.chain(model.parameters(), predictor.parameters()), lr=0.01\n",
    ")"
   ]
  },
  {
   "cell_type": "code",
   "execution_count": 185,
   "id": "aaeab4ff-e0db-4318-af67-f2a7023b474a",
   "metadata": {},
   "outputs": [],
   "source": [
    "def train():\n",
    "    h = model(train_g, train_g.ndata[\"feat\"])\n",
    "    pos_score = predictor(train_g_pos, h)\n",
    "    neg_score = predictor(train_g_neg, h)\n",
    "    scores = torch.cat([pos_score, neg_score]).squeeze().cuda()\n",
    "    labels = torch.cat(\n",
    "        [\n",
    "            torch.ones(pos_score.shape[0]),\n",
    "            torch.zeros(neg_score.shape[0]),\n",
    "        ]\n",
    "    ).cuda()\n",
    "    loss = F.binary_cross_entropy_with_logits(scores, labels)\n",
    "\n",
    "    optimizer.zero_grad()\n",
    "    loss.backward()\n",
    "    optimizer.step()\n",
    "\n",
    "    return loss.item()\n",
    "\n",
    "\n",
    "def test():\n",
    "    model.eval()\n",
    "    with torch.no_grad():\n",
    "        h = model(train_g, train_g.ndata[\"feat\"]).cuda()\n",
    "        pos_score = predictor(train_g_pos.to(device), h).cpu()\n",
    "        neg_score = predictor(train_g_neg.to(device), h).cpu()\n",
    "\n",
    "        # print(\"AUC\", compute_auc(pos_score, neg_score))\n",
    "        return compute_auc(pos_score, neg_score)"
   ]
  },
  {
   "cell_type": "code",
   "execution_count": 186,
   "id": "bcc1fe8e-1e3f-4742-aef8-d8330a74e060",
   "metadata": {},
   "outputs": [
    {
     "name": "stdout",
     "output_type": "stream",
     "text": [
      "epoch 0, loss: 0.697182, AUC: 0.999109\n",
      "epoch 10, loss: 0.016028, AUC: 0.999274\n",
      "epoch 20, loss: 0.026334, AUC: 0.999168\n",
      "epoch 30, loss: 0.024987, AUC: 0.998944\n",
      "epoch 40, loss: 0.014972, AUC: 0.998399\n",
      "epoch 50, loss: 0.034451, AUC: 0.997176\n",
      "epoch 60, loss: 0.010519, AUC: 0.999127\n",
      "epoch 70, loss: 0.007718, AUC: 0.999247\n",
      "epoch 80, loss: 0.006616, AUC: 0.999306\n",
      "epoch 90, loss: 0.005921, AUC: 0.999490\n",
      "epoch 100, loss: 0.005579, AUC: 0.999229\n"
     ]
    }
   ],
   "source": [
    "for e in range(101):\n",
    "    loss = train()\n",
    "    if e % 10 == 0:\n",
    "        print(f\"epoch {e}, loss: {loss:.6f}, AUC: {test():.6f}\")"
   ]
  },
  {
   "cell_type": "code",
   "execution_count": null,
   "id": "bb4aab68-4083-46ae-8c94-7c3402788993",
   "metadata": {},
   "outputs": [],
   "source": []
  },
  {
   "cell_type": "code",
   "execution_count": null,
   "id": "c932aeed-1235-4a32-80d8-14b2b2942020",
   "metadata": {},
   "outputs": [],
   "source": []
  },
  {
   "cell_type": "code",
   "execution_count": null,
   "id": "dd6799d5-9f14-4757-b0d0-edd1d0774a6b",
   "metadata": {},
   "outputs": [],
   "source": []
  },
  {
   "cell_type": "code",
   "execution_count": null,
   "id": "7cfd7969-abf1-43e4-9a3c-7ded3f74da3b",
   "metadata": {},
   "outputs": [],
   "source": []
  },
  {
   "cell_type": "code",
   "execution_count": null,
   "id": "c40d23bb-45d2-4cac-83f0-73664c4c6734",
   "metadata": {},
   "outputs": [],
   "source": []
  },
  {
   "cell_type": "code",
   "execution_count": null,
   "id": "05fd3c9b-e86e-40a9-80a3-08417bd5a4c9",
   "metadata": {},
   "outputs": [],
   "source": []
  }
 ],
 "metadata": {
  "kernelspec": {
   "display_name": "GML",
   "language": "python",
   "name": "gml"
  },
  "language_info": {
   "codemirror_mode": {
    "name": "ipython",
    "version": 3
   },
   "file_extension": ".py",
   "mimetype": "text/x-python",
   "name": "python",
   "nbconvert_exporter": "python",
   "pygments_lexer": "ipython3",
   "version": "3.8.19"
  }
 },
 "nbformat": 4,
 "nbformat_minor": 5
}
