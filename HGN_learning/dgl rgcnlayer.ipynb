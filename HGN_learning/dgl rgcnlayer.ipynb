{
 "cells": [
  {
   "cell_type": "code",
   "execution_count": 3,
   "id": "1c35cba8-9a54-41b9-ba17-5e0c602e95c1",
   "metadata": {},
   "outputs": [],
   "source": [
    "import dgl\n",
    "import dgl.function as fn\n",
    "import dgl.nn as dglnn\n",
    "import openhgnn\n",
    "import torch\n",
    "import torch.nn as nn\n",
    "import torch.nn.functional as F\n",
    "from dgl import DGLGraph"
   ]
  },
  {
   "cell_type": "markdown",
   "id": "22100012-d2bd-43c4-87db-d8dae09f910c",
   "metadata": {},
   "source": [
    "$$\n",
    "h_i^{(l+1)} = \\sigma(\\sum_{r\\in\\mathcal{R}}\n",
    "\\sum_{j\\in\\mathcal{N}^r(i)}e_{j,i}W_r^{(l)}h_j^{(l)}+W_0^{(l)}h_i^{(l)})\n",
    "$$"
   ]
  },
  {
   "cell_type": "code",
   "execution_count": 4,
   "id": "7fd97c86-fd66-4821-9eb4-444c09f24af5",
   "metadata": {},
   "outputs": [],
   "source": [
    "class RGCNLayer(nn.Module):\n",
    "    def __init__(\n",
    "        self,\n",
    "        in_feat,\n",
    "        out_feat,\n",
    "        num_rels,\n",
    "        regularizer=None,\n",
    "        num_bases=None,\n",
    "        bias=True,\n",
    "        activation=None,\n",
    "        self_loop=True,\n",
    "        dropout=0.0,\n",
    "        layer_norm=False,\n",
    "    ):\n",
    "        super(RGCNLayer, self).__init__()\n",
    "        if self.num_bases <= 0 or self.num_bases > self.num_rels:\n",
    "            self.num_bases = self.num_rels\n",
    "\n",
    "        self.linear_r = dglnn.TypedLinear(\n",
    "            in_feat, out_feat, num_rels, regularizer, num_bases\n",
    "        )\n",
    "        self.bias = bias\n",
    "        self.activation = activation\n",
    "        self.self_loop = self_loop\n",
    "        self.layer_norm = layer_norm\n",
    "\n",
    "        # bias\n",
    "        if self.bias:\n",
    "            self.h_bias = nn.Parameter(torch.Tensor(out_feat))\n",
    "            nn.init.zeros_(self.h_bias)\n",
    "\n",
    "        # layer norm\n",
    "        if self.layer_norm:\n",
    "            self.layer_norm_weight = nn.LayerNorm(out_feat, elementwise_affine=True)\n",
    "\n",
    "        # weight for self loop\n",
    "        if self.self_loop:\n",
    "            self.loop_weight = nn.Parameter(torch.Tensor(in_feat, out_feat))\n",
    "            nn.init.xavier_uniform_(\n",
    "                self.loop_weight, gain=nn.init.calculate_gain(\"relu\")\n",
    "            )\n",
    "\n",
    "        self.dropout = nn.Dropout(dropout)\n",
    "\n",
    "        def message(self, edges: dgl.udf.EdgeBatch):\n",
    "            m = self.linear_r(edges.src[\"h\"], edges.data[\"etype\"])\n",
    "            if \"norm\" in edges.data:\n",
    "                m = m * edges.data[\"norm\"]\n",
    "            return {\"m\": m}\n",
    "\n",
    "        def forward(self, g: dgl.DGLGraph, feat, etypes, norm=None):\n",
    "            with g.local_scope():\n",
    "                g.srcdata[\"h\"] = feat\n",
    "                if norm is not None:\n",
    "                    g.edata[\"norm\"] = norm\n",
    "                g.update_all(self.message, fn.sum(\"m\", \"h\"))\n",
    "                h = g.dstdata[\"h\"]\n",
    "                if self.layer_norm:\n",
    "                    h = self.layer_norm_weight(h)\n",
    "                if self.bias:\n",
    "                    h = h + self.h_bias\n",
    "                if self.self_loop:\n",
    "                    h = h + feat[: g.num_dst_nodes()] @ self.loop_weight\n",
    "                if self.activation:\n",
    "                    h = self.activation(h)\n",
    "                h = self.dropout(h)\n",
    "                return h"
   ]
  },
  {
   "cell_type": "code",
   "execution_count": null,
   "id": "12c97fe9-d197-489d-a36c-e264ccba178c",
   "metadata": {},
   "outputs": [],
   "source": []
  },
  {
   "cell_type": "code",
   "execution_count": null,
   "id": "130d503a-a76e-4fec-8099-ca8c126c8a0e",
   "metadata": {},
   "outputs": [],
   "source": []
  },
  {
   "cell_type": "code",
   "execution_count": null,
   "id": "d4315233-2802-40ba-a84a-cf70a9c20023",
   "metadata": {},
   "outputs": [],
   "source": []
  },
  {
   "cell_type": "code",
   "execution_count": null,
   "id": "62b10a7a-4d9d-4278-a5c3-96fabd01cb82",
   "metadata": {},
   "outputs": [],
   "source": []
  }
 ],
 "metadata": {
  "kernelspec": {
   "display_name": "GML",
   "language": "python",
   "name": "gml"
  },
  "language_info": {
   "codemirror_mode": {
    "name": "ipython",
    "version": 3
   },
   "file_extension": ".py",
   "mimetype": "text/x-python",
   "name": "python",
   "nbconvert_exporter": "python",
   "pygments_lexer": "ipython3",
   "version": "3.9.19"
  },
  "widgets": {
   "application/vnd.jupyter.widget-state+json": {
    "state": {},
    "version_major": 2,
    "version_minor": 0
   }
  }
 },
 "nbformat": 4,
 "nbformat_minor": 5
}
