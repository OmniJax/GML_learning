{
 "cells": [
  {
   "cell_type": "code",
   "execution_count": 1,
   "id": "cfc88e12-9df1-496e-b4dd-a61de00288c7",
   "metadata": {},
   "outputs": [],
   "source": [
    "import dgl\n",
    "import dgl.nn as dglnn\n",
    "import torch\n",
    "import torch.nn as nn\n",
    "import torch.nn.functional as F"
   ]
  },
  {
   "cell_type": "code",
   "execution_count": 2,
   "id": "ce9da732-1b90-4188-8970-14909935fb84",
   "metadata": {},
   "outputs": [],
   "source": [
    "n_users = 1000\n",
    "n_items = 500\n",
    "\n",
    "n_follows = 3000\n",
    "n_clicks = 5000\n",
    "n_dislikes = 500\n",
    "\n",
    "n_hetero_features = 10\n",
    "n_max_clicks = 10\n",
    "n_user_classes = 5"
   ]
  },
  {
   "cell_type": "code",
   "execution_count": 3,
   "id": "6075c8da-eb05-4e15-9aa6-404886f83cad",
   "metadata": {},
   "outputs": [],
   "source": [
    "# 关注边\n",
    "torch.manual_seed(8)\n",
    "follow_src = torch.randint(0, n_users, (n_follows,))\n",
    "follow_dst = torch.randint(0, n_users, (n_follows,))\n",
    "# (follow_dst==follow_src).sum()\n",
    "\n",
    "# 点击边\n",
    "click_src = torch.randint(0, n_users, (n_clicks,))\n",
    "click_dst = torch.randint(0, n_items, (n_clicks,))\n",
    "\n",
    "# 不喜欢边\n",
    "dislike_src = torch.randint(0, n_users, (n_dislikes,))\n",
    "dislike_dst = torch.randint(0, n_items, (n_dislikes,))"
   ]
  },
  {
   "cell_type": "code",
   "execution_count": 4,
   "id": "703a4a42-a24c-4b28-a9db-ab3ac8c97cbf",
   "metadata": {},
   "outputs": [],
   "source": [
    "hg = dgl.heterograph(\n",
    "    {\n",
    "        (\"user\", \"follow\", \"user\"): (follow_src, follow_dst),\n",
    "        # (\"user\", \"followed-by\", \"user\"): (follow_dst, follow_src),\n",
    "        (\"user\", \"click\", \"item\"): (click_src, click_dst),\n",
    "        # (\"item\", \"clicked-by\", \"user\"): (click_dst, click_src),\n",
    "        (\"user\", \"dislike\", \"item\"): (dislike_src, dislike_dst),\n",
    "        # (\"item\", \"disliked-by\", \"user\"): (dislike_dst, dislike_src),\n",
    "    }\n",
    ")\n",
    "# 节点特征\n",
    "hg.nodes[\"user\"].data[\"feat\"] = torch.randn(n_users, n_hetero_features)\n",
    "hg.nodes[\"item\"].data[\"feat\"] = torch.randn(n_items, n_hetero_features)\n",
    "hg.nodes[\"user\"].data[\"label\"] = torch.randint(0, n_user_classes, (n_users,))\n",
    "hg.nodes[\"user\"].data[\"train_mask\"] = torch.ones(n_users).bernoulli(0.6)\n",
    "\n",
    "# 边特征\n",
    "hg.edges[\"click\"].data[\"label\"] = torch.randint(1, n_max_clicks, (n_clicks,))\n",
    "hg.edges[\"click\"].data[\"train_mask\"] = torch.ones(n_clicks).bernoulli(0.6)"
   ]
  },
  {
   "cell_type": "code",
   "execution_count": 5,
   "id": "44e17858-0d0a-4822-a6dc-56255defe2d2",
   "metadata": {},
   "outputs": [
    {
     "name": "stdout",
     "output_type": "stream",
     "text": [
      "n of nodes(user, item) 1500\n",
      "n of edges(click, like, follow) 8500\n",
      "[('user', 'click', 'item'), ('user', 'dislike', 'item'), ('user', 'follow', 'user')]\n"
     ]
    }
   ],
   "source": [
    "print(\"n of nodes(user, item)\", hg.num_nodes())\n",
    "print(\"n of edges(click, like, follow)\", hg.num_edges())\n",
    "print(hg.canonical_etypes)"
   ]
  },
  {
   "cell_type": "code",
   "execution_count": 6,
   "id": "d19b2cfc-731f-4dc9-b007-cdb7d6a3fb09",
   "metadata": {},
   "outputs": [
    {
     "name": "stdout",
     "output_type": "stream",
     "text": [
      "('user', 'click', 'item')\n",
      "('user', 'dislike', 'item')\n",
      "('user', 'follow', 'user')\n",
      "\n",
      "metagraph\n",
      "[('user', 'item'), ('user', 'item'), ('user', 'user')]\n",
      "['user', 'item']\n"
     ]
    }
   ],
   "source": [
    "for relation in hg.canonical_etypes:\n",
    "    stype, etype, dtype = relation\n",
    "    print(relation)\n",
    "print(\"\\nmetagraph\")\n",
    "print(hg.metagraph().edges())\n",
    "print(hg.metagraph().nodes())"
   ]
  },
  {
   "cell_type": "markdown",
   "id": "277da470-7eda-404b-b2a0-5b862b466c78",
   "metadata": {},
   "source": [
    "hg[relation]  是一个子图（二分图），结构与dgl.graph类似\n",
    "\n",
    "```python\n",
    "outputs = {nty : [] for nty in g.dsttypes}\n",
    "# Apply sub-modules on their associating relation graphs in parallel\n",
    "for relation in g.canonical_etypes:\n",
    "    stype, etype, dtype = relation\n",
    "    dstdata = relation_submodule(g[relation], ...)\n",
    "    outputs[dtype].append(dstdata)\n",
    "\n",
    "# Aggregate the results for each destination node type\n",
    "rsts = {}\n",
    "for ntype, ntype_outputs in outputs.items():\n",
    "    if len(ntype_outputs) != 0:\n",
    "        rsts[ntype] = aggregate(ntype_outputs)\n",
    "return rsts\n",
    "```"
   ]
  },
  {
   "cell_type": "code",
   "execution_count": null,
   "id": "86a9c602-7aa7-4ca2-a032-2c3e04bced8e",
   "metadata": {},
   "outputs": [],
   "source": []
  },
  {
   "cell_type": "code",
   "execution_count": null,
   "id": "834ce69d-fc79-4e1e-aea2-25a3fbbc9a08",
   "metadata": {},
   "outputs": [],
   "source": []
  },
  {
   "cell_type": "code",
   "execution_count": 44,
   "id": "173ff9e0-fa5f-4ae5-9df8-dd281b8d40f2",
   "metadata": {},
   "outputs": [],
   "source": [
    "class RGCN(nn.Module):\n",
    "    def __init__(self, in_feats, hid_feats, out_feats, rel_names):\n",
    "        super(RGCN, self).__init__()\n",
    "        self.conv1 = dglnn.HeteroGraphConv(\n",
    "            {rel: dgl.nn.GraphConv(in_feats, hid_feats) for rel in rel_names},\n",
    "            aggregate=\"sum\",\n",
    "        )\n",
    "        self.conv2 = dglnn.HeteroGraphConv(\n",
    "            {rel: dgl.nn.GraphConv(hid_feats, out_feats) for rel in rel_names},\n",
    "            aggregate=\"sum\",\n",
    "        )\n",
    "\n",
    "    def forward(self, graph, inputs):\n",
    "        h = self.conv1(graph, inputs)\n",
    "        h = {k: F.relu(v) for k, v in h.items()}\n",
    "        h = self.conv2(graph, h)\n",
    "        return h"
   ]
  },
  {
   "cell_type": "code",
   "execution_count": 88,
   "id": "98a27594-d82e-4cba-8e67-19719a2536e2",
   "metadata": {},
   "outputs": [],
   "source": [
    "model = RGCN(\n",
    "    in_feats=n_hetero_features,\n",
    "    hid_feats=20,\n",
    "    out_feats=n_user_classes,\n",
    "    rel_names=hg.canonical_etypes,\n",
    ")"
   ]
  },
  {
   "cell_type": "code",
   "execution_count": 89,
   "id": "4506cb9c-859d-4063-8fae-fb23170e23e0",
   "metadata": {},
   "outputs": [],
   "source": [
    "node_features = {\n",
    "    \"user\": hg.nodes[\"user\"].data[\"feat\"],\n",
    "    \"item\": hg.nodes[\"item\"].data[\"feat\"],\n",
    "}"
   ]
  },
  {
   "cell_type": "code",
   "execution_count": 90,
   "id": "a1a0ad45-4a2a-4904-86d6-35227b7b5df8",
   "metadata": {},
   "outputs": [
    {
     "data": {
      "text/plain": [
       "{'item': tensor([[-0.0485,  0.5714,  0.2532,  0.0848,  0.0388],\n",
       "         [-0.2480,  0.8053,  0.4096, -0.7093,  0.0435],\n",
       "         [-0.1727,  0.2233,  0.3161, -0.1636,  0.3206],\n",
       "         ...,\n",
       "         [ 0.0509,  0.1758,  0.4099,  0.5674,  0.1094],\n",
       "         [-0.0782,  0.7114,  0.4468,  0.6578,  0.6673],\n",
       "         [-0.3112,  0.2152, -0.0139, -0.5720,  0.7135]], grad_fn=<SumBackward1>),\n",
       " 'user': tensor([[-0.1323,  0.0412,  0.3033,  0.2523, -0.3688],\n",
       "         [-0.1384,  0.2469, -0.0149, -0.1189, -0.2292],\n",
       "         [ 0.0182,  0.4845,  0.0886,  0.3176, -0.2345],\n",
       "         ...,\n",
       "         [-0.1964,  0.3309, -0.1619,  0.1969, -0.3511],\n",
       "         [-0.1551,  0.1830, -0.0325,  0.0985, -0.1261],\n",
       "         [-0.3409,  0.2595, -0.3088,  0.3672, -0.3658]], grad_fn=<SumBackward1>)}"
      ]
     },
     "execution_count": 90,
     "metadata": {},
     "output_type": "execute_result"
    }
   ],
   "source": [
    "# 特征字典\n",
    "h_dict = model(hg, node_features)\n",
    "h_dict"
   ]
  },
  {
   "cell_type": "code",
   "execution_count": null,
   "id": "ede5afef-6fd9-43d9-8b0b-9b3ee96ffb0a",
   "metadata": {},
   "outputs": [],
   "source": []
  },
  {
   "cell_type": "code",
   "execution_count": 91,
   "id": "abc4fc1a-b055-489d-aa73-048d5d733893",
   "metadata": {},
   "outputs": [],
   "source": [
    "optimzer=torch.optim.Adam(model.parameters(),lr=0.01)"
   ]
  },
  {
   "cell_type": "code",
   "execution_count": 92,
   "id": "45f660ec-a0de-4d32-a135-ef6800f446f9",
   "metadata": {},
   "outputs": [],
   "source": [
    "\n",
    "loss_list = []\n",
    "train_score_list = []"
   ]
  },
  {
   "cell_type": "code",
   "execution_count": 94,
   "id": "f3ec45e9-23b0-4965-a716-379838d6214e",
   "metadata": {
    "scrolled": true
   },
   "outputs": [
    {
     "name": "stdout",
     "output_type": "stream",
     "text": [
      "0 loss: 1.2283493280410767   train_acc: 0.47154471278190613\n",
      "10 loss: 1.227639079093933   train_acc: 0.46991869807243347\n",
      "20 loss: 1.227152943611145   train_acc: 0.46341463923454285\n",
      "30 loss: 1.226840853691101   train_acc: 0.46341463923454285\n",
      "40 loss: 1.226580023765564   train_acc: 0.4731707274913788\n",
      "50 loss: 1.2264413833618164   train_acc: 0.46666666865348816\n",
      "60 loss: 1.2263177633285522   train_acc: 0.4682926833629608\n",
      "70 loss: 1.226258397102356   train_acc: 0.46341463923454285\n",
      "80 loss: 1.2261302471160889   train_acc: 0.46666666865348816\n",
      "90 loss: 1.2260348796844482   train_acc: 0.46666666865348816\n",
      "100 loss: 1.225939393043518   train_acc: 0.46991869807243347\n",
      "110 loss: 1.2259249687194824   train_acc: 0.46991869807243347\n",
      "120 loss: 1.2258765697479248   train_acc: 0.46991869807243347\n",
      "130 loss: 1.2258265018463135   train_acc: 0.46991869807243347\n",
      "140 loss: 1.225786805152893   train_acc: 0.47154471278190613\n",
      "150 loss: 1.225785255432129   train_acc: 0.47479674220085144\n",
      "160 loss: 1.2257505655288696   train_acc: 0.4764227569103241\n",
      "170 loss: 1.225681185722351   train_acc: 0.4731707274913788\n",
      "180 loss: 1.2254465818405151   train_acc: 0.4731707274913788\n",
      "190 loss: 1.2251665592193604   train_acc: 0.46991869807243347\n",
      "200 loss: 1.2249481678009033   train_acc: 0.47479674220085144\n",
      "210 loss: 1.2246613502502441   train_acc: 0.47479674220085144\n",
      "220 loss: 1.2244477272033691   train_acc: 0.47154471278190613\n",
      "230 loss: 1.2242265939712524   train_acc: 0.4731707274913788\n",
      "240 loss: 1.2244398593902588   train_acc: 0.4682926833629608\n",
      "250 loss: 1.2239741086959839   train_acc: 0.4731707274913788\n",
      "260 loss: 1.2238017320632935   train_acc: 0.46991869807243347\n",
      "270 loss: 1.2236659526824951   train_acc: 0.4682926833629608\n",
      "280 loss: 1.223587155342102   train_acc: 0.46991869807243347\n",
      "290 loss: 1.2234735488891602   train_acc: 0.4682926833629608\n",
      "300 loss: 1.2233741283416748   train_acc: 0.4682926833629608\n",
      "310 loss: 1.223293662071228   train_acc: 0.4731707274913788\n",
      "320 loss: 1.2232491970062256   train_acc: 0.46991869807243347\n",
      "330 loss: 1.2230547666549683   train_acc: 0.46991869807243347\n",
      "340 loss: 1.2226951122283936   train_acc: 0.46666666865348816\n",
      "350 loss: 1.2226043939590454   train_acc: 0.4682926833629608\n",
      "360 loss: 1.2225744724273682   train_acc: 0.46666666865348816\n",
      "370 loss: 1.2224589586257935   train_acc: 0.4650406539440155\n",
      "380 loss: 1.222450613975525   train_acc: 0.46341463923454285\n",
      "390 loss: 1.2224469184875488   train_acc: 0.46341463923454285\n",
      "400 loss: 1.222421407699585   train_acc: 0.4617886245250702\n",
      "410 loss: 1.2223987579345703   train_acc: 0.4650406539440155\n",
      "420 loss: 1.2224515676498413   train_acc: 0.46341463923454285\n",
      "430 loss: 1.2223750352859497   train_acc: 0.46016260981559753\n",
      "440 loss: 1.2224185466766357   train_acc: 0.4617886245250702\n",
      "450 loss: 1.2223914861679077   train_acc: 0.4650406539440155\n",
      "460 loss: 1.2223782539367676   train_acc: 0.4617886245250702\n",
      "470 loss: 1.2223542928695679   train_acc: 0.4650406539440155\n",
      "480 loss: 1.222333550453186   train_acc: 0.46341463923454285\n",
      "490 loss: 1.222365140914917   train_acc: 0.46666666865348816\n",
      "500 loss: 1.222353219985962   train_acc: 0.46666666865348816\n"
     ]
    }
   ],
   "source": [
    "for e in range(501):\n",
    "    \n",
    "    model.train()\n",
    "    \n",
    "    logits=model(hg,node_features)['user']\n",
    "    labels=hg.nodes['user'].data['label']\n",
    "    \n",
    "    train_mask=hg.nodes['user'].data['train_mask'].bool()\n",
    "    \n",
    "    loss=F.cross_entropy(logits[train_mask],labels[train_mask])\n",
    "    \n",
    "    optimzer.zero_grad()\n",
    "    loss.backward()\n",
    "    optimzer.step()\n",
    "    \n",
    "    pred=logits.argmax(1)\n",
    "    train_acc = (pred[train_mask] == labels[train_mask]).float().mean().item()\n",
    "    train_score_list.append(train_acc)\n",
    "    loss_list.append(loss.item())\n",
    "\n",
    "    if e%10 ==0:\n",
    "        print(e,'loss:',loss.item(),'  train_acc:',train_acc)"
   ]
  },
  {
   "cell_type": "code",
   "execution_count": 107,
   "id": "9296afe5-b650-4c29-af91-7f1d3cbe1091",
   "metadata": {},
   "outputs": [
    {
     "data": {
      "text/plain": [
       "{'_TYPE': tensor([0, 0, 0,  ..., 1, 1, 1]), '_ID': tensor([  0,   1,   2,  ..., 497, 498, 499])}"
      ]
     },
     "execution_count": 107,
     "metadata": {},
     "output_type": "execute_result"
    }
   ],
   "source": [
    "hg['user',:,'item'].edata\n"
   ]
  },
  {
   "cell_type": "code",
   "execution_count": 101,
   "id": "cbc21573-e839-4c52-afbf-0dfd8a65cc5d",
   "metadata": {},
   "outputs": [
    {
     "data": {
      "text/plain": [
       "'_TYPE'"
      ]
     },
     "execution_count": 101,
     "metadata": {},
     "output_type": "execute_result"
    }
   ],
   "source": []
  },
  {
   "cell_type": "code",
   "execution_count": null,
   "id": "0ab60157-6088-4a85-8dfb-c93366ae0bc7",
   "metadata": {},
   "outputs": [],
   "source": []
  },
  {
   "cell_type": "code",
   "execution_count": null,
   "id": "3a45e69a-1760-4a23-ac9e-6db93ffbdfdb",
   "metadata": {},
   "outputs": [],
   "source": []
  }
 ],
 "metadata": {
  "kernelspec": {
   "display_name": "GML",
   "language": "python",
   "name": "gml"
  },
  "language_info": {
   "codemirror_mode": {
    "name": "ipython",
    "version": 3
   },
   "file_extension": ".py",
   "mimetype": "text/x-python",
   "name": "python",
   "nbconvert_exporter": "python",
   "pygments_lexer": "ipython3",
   "version": "3.9.19"
  },
  "widgets": {
   "application/vnd.jupyter.widget-state+json": {
    "state": {},
    "version_major": 2,
    "version_minor": 0
   }
  }
 },
 "nbformat": 4,
 "nbformat_minor": 5
}
