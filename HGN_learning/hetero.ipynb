{
 "cells": [
  {
   "cell_type": "code",
   "execution_count": 1,
   "id": "cfc88e12-9df1-496e-b4dd-a61de00288c7",
   "metadata": {},
   "outputs": [],
   "source": [
    "import dgl\n",
    "import torch"
   ]
  },
  {
   "cell_type": "code",
   "execution_count": 5,
   "id": "ce9da732-1b90-4188-8970-14909935fb84",
   "metadata": {},
   "outputs": [],
   "source": [
    "n_users = 1000\n",
    "n_items = 500\n",
    "\n",
    "n_follows = 3000\n",
    "n_clicks = 5000\n",
    "n_dislikes = 500\n",
    "\n",
    "n_hetero_features = 10\n",
    "n_max_clicks = 10\n",
    "n_user_classes = 5"
   ]
  },
  {
   "cell_type": "code",
   "execution_count": 73,
   "id": "6075c8da-eb05-4e15-9aa6-404886f83cad",
   "metadata": {},
   "outputs": [],
   "source": [
    "# 关注边\n",
    "torch.manual_seed(8)\n",
    "follow_src = torch.randint(0, n_users, (n_follows,))\n",
    "follow_dst = torch.randint(0, n_users, (n_follows,))\n",
    "# (follow_dst==follow_src).sum()\n",
    "\n",
    "# 点击边\n",
    "click_src = torch.randint(0, n_users, (n_clicks,))\n",
    "click_dst = torch.randint(0, n_items, (n_clicks,))\n",
    "\n",
    "# 不喜欢边\n",
    "dislike_src = torch.randint(0, n_users, (n_dislikes,))\n",
    "dislike_dst = torch.randint(0, n_items, (n_dislikes,))"
   ]
  },
  {
   "cell_type": "code",
   "execution_count": 323,
   "id": "703a4a42-a24c-4b28-a9db-ab3ac8c97cbf",
   "metadata": {},
   "outputs": [],
   "source": [
    "hg = dgl.heterograph(\n",
    "    {\n",
    "        (\"user\", \"follow\", \"user\"): (follow_src, follow_dst),\n",
    "        # (\"user\", \"followed-by\", \"user\"): (follow_dst, follow_src),\n",
    "        (\"user\", \"click\", \"item\"): (click_src, click_dst),\n",
    "        # (\"item\", \"clicked-by\", \"user\"): (click_dst, click_src),\n",
    "        (\"user\", \"dislike\", \"item\"): (dislike_src, dislike_dst),\n",
    "        # (\"item\", \"disliked-by\", \"user\"): (dislike_dst, dislike_src),\n",
    "    }\n",
    ")\n",
    "# 节点特征\n",
    "hg.nodes[\"user\"].data[\"feat\"] = torch.randn(n_users, n_hetero_features)\n",
    "hg.nodes[\"item\"].data[\"feat\"] = torch.randn(n_items, n_hetero_features)\n",
    "hg.nodes[\"user\"].data[\"label\"] = torch.randint(0, n_user_classes, (n_users,))\n",
    "hg.nodes[\"user\"].data[\"train_mask\"] = torch.ones(n_users).bernoulli(0.6)\n",
    "\n",
    "# 边特征\n",
    "hg.edges[\"click\"].data[\"label\"] = torch.randint(1, n_max_clicks, (n_clicks,))\n",
    "hg.edges[\"click\"].data[\"train_mask\"] = torch.ones(n_clicks).bernoulli(0.6)"
   ]
  },
  {
   "cell_type": "code",
   "execution_count": 324,
   "id": "44e17858-0d0a-4822-a6dc-56255defe2d2",
   "metadata": {},
   "outputs": [
    {
     "name": "stdout",
     "output_type": "stream",
     "text": [
      "n of nodes(user, item) 1500\n",
      "n of edges(click, like, follow) 8500\n",
      "[('user', 'click', 'item'), ('user', 'dislike', 'item'), ('user', 'follow', 'user')]\n"
     ]
    }
   ],
   "source": [
    "print(\"n of nodes(user, item)\", hg.num_nodes())\n",
    "print(\"n of edges(click, like, follow)\", hg.num_edges())\n",
    "print(hg.canonical_etypes)"
   ]
  },
  {
   "cell_type": "code",
   "execution_count": 325,
   "id": "d19b2cfc-731f-4dc9-b007-cdb7d6a3fb09",
   "metadata": {},
   "outputs": [
    {
     "name": "stdout",
     "output_type": "stream",
     "text": [
      "('user', 'click', 'item')\n",
      "('user', 'dislike', 'item')\n",
      "('user', 'follow', 'user')\n",
      "\n",
      "metagraph\n",
      "[('user', 'item'), ('user', 'item'), ('user', 'user')]\n",
      "['user', 'item']\n"
     ]
    }
   ],
   "source": [
    "for relation in hg.canonical_etypes:\n",
    "    stype,etype,dtype=relation\n",
    "    print(relation)\n",
    "print('\\nmetagraph')\n",
    "print(hg.metagraph().edges())\n",
    "print(hg.metagraph().nodes())"
   ]
  },
  {
   "cell_type": "markdown",
   "id": "277da470-7eda-404b-b2a0-5b862b466c78",
   "metadata": {},
   "source": [
    "hg[relation]  是一个子图（二分图），结构与dgl.graph类似\n",
    "\n",
    "```python\n",
    "outputs = {nty : [] for nty in g.dsttypes}\n",
    "# Apply sub-modules on their associating relation graphs in parallel\n",
    "for relation in g.canonical_etypes:\n",
    "    stype, etype, dtype = relation\n",
    "    dstdata = relation_submodule(g[relation], ...)\n",
    "    outputs[dtype].append(dstdata)\n",
    "\n",
    "# Aggregate the results for each destination node type\n",
    "rsts = {}\n",
    "for ntype, ntype_outputs in outputs.items():\n",
    "    if len(ntype_outputs) != 0:\n",
    "        rsts[ntype] = aggregate(ntype_outputs)\n",
    "return rsts\n",
    "```"
   ]
  },
  {
   "cell_type": "code",
   "execution_count": null,
   "id": "86a9c602-7aa7-4ca2-a032-2c3e04bced8e",
   "metadata": {},
   "outputs": [],
   "source": []
  },
  {
   "cell_type": "code",
   "execution_count": null,
   "id": "834ce69d-fc79-4e1e-aea2-25a3fbbc9a08",
   "metadata": {},
   "outputs": [],
   "source": []
  },
  {
   "cell_type": "code",
   "execution_count": null,
   "id": "173ff9e0-fa5f-4ae5-9df8-dd281b8d40f2",
   "metadata": {},
   "outputs": [],
   "source": []
  },
  {
   "cell_type": "code",
   "execution_count": null,
   "id": "98a27594-d82e-4cba-8e67-19719a2536e2",
   "metadata": {},
   "outputs": [],
   "source": []
  },
  {
   "cell_type": "code",
   "execution_count": null,
   "id": "53b833d5-1628-4087-a37a-ba31cc8b7b43",
   "metadata": {},
   "outputs": [],
   "source": []
  }
 ],
 "metadata": {
  "kernelspec": {
   "display_name": "GML",
   "language": "python",
   "name": "gml"
  },
  "language_info": {
   "codemirror_mode": {
    "name": "ipython",
    "version": 3
   },
   "file_extension": ".py",
   "mimetype": "text/x-python",
   "name": "python",
   "nbconvert_exporter": "python",
   "pygments_lexer": "ipython3",
   "version": "3.9.19"
  },
  "widgets": {
   "application/vnd.jupyter.widget-state+json": {
    "state": {},
    "version_major": 2,
    "version_minor": 0
   }
  }
 },
 "nbformat": 4,
 "nbformat_minor": 5
}
