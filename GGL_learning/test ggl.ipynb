{
 "cells": [
  {
   "cell_type": "code",
   "execution_count": 1,
   "id": "0c905793-d4b2-4967-8c12-77d7f84611c6",
   "metadata": {},
   "outputs": [
    {
     "name": "stderr",
     "output_type": "stream",
     "text": [
      "Using PyTorch backend.\n"
     ]
    },
    {
     "name": "stdout",
     "output_type": "stream",
     "text": [
      "====================================================================================================\n",
      "Gammagl Global Config Info:\n",
      "    TLX_BACKEND: torch\n",
      "    DATASET_ROOT: C:\\Users\\mi\\.ggl\\datasets\n",
      "====================================================================================================\n"
     ]
    }
   ],
   "source": [
    "import gammagl.transforms as T\n",
    "import tensorlayerx as tlx\n",
    "from gammagl.datasets import Planetoid\n",
    "from gammagl.layers.conv import GCNConv"
   ]
  },
  {
   "cell_type": "code",
   "execution_count": null,
   "id": "2240b5a7-221c-4922-bff9-bfb1c065cad5",
   "metadata": {},
   "outputs": [],
   "source": []
  },
  {
   "cell_type": "code",
   "execution_count": null,
   "id": "f3c5f959-e654-44f6-8427-1bae0de90804",
   "metadata": {},
   "outputs": [],
   "source": []
  },
  {
   "cell_type": "code",
   "execution_count": 37,
   "id": "7697ca8d-6d36-4107-9aac-a2615d3d1c40",
   "metadata": {},
   "outputs": [],
   "source": [
    "dataset = Planetoid(root=\"./data\", name=\"Cora\", transform=T.NormalizeFeatures())"
   ]
  },
  {
   "cell_type": "code",
   "execution_count": null,
   "id": "5a7b90e0-060c-4a26-b4cb-ddbb4870188c",
   "metadata": {},
   "outputs": [],
   "source": []
  },
  {
   "cell_type": "code",
   "execution_count": 87,
   "id": "8260a8e9-e738-4986-a2d7-c0aedd5d1bff",
   "metadata": {},
   "outputs": [],
   "source": [
    "class GCN(tlx.nn.Module):\n",
    "    def __init__(self, in_feats, hid_feats, out_feats):\n",
    "        super().__init__()\n",
    "        self.conv1 = GCNConv(in_feats, hid_feats)\n",
    "        self.conv2 = GCNConv(hid_feats, out_feats)\n",
    "        self.relu = tlx.ReLU()\n",
    "\n",
    "    def forward(self, x, edge_index):\n",
    "        x = self.conv1(x, edge_index)\n",
    "        x = self.relu(x)\n",
    "        x = self.conv2(x, edge_index)\n",
    "        return x"
   ]
  },
  {
   "cell_type": "code",
   "execution_count": 88,
   "id": "a968f6a4-ba53-4587-a311-db7994ce12bd",
   "metadata": {},
   "outputs": [
    {
     "name": "stdout",
     "output_type": "stream",
     "text": [
      "[TLX] Linear  linear_16: 16 No Activation\n",
      "[TLX] Linear  linear_17: 7 No Activation\n"
     ]
    }
   ],
   "source": [
    "model = GCN(dataset.num_features, 16, dataset.num_classes)"
   ]
  },
  {
   "cell_type": "code",
   "execution_count": null,
   "id": "d16118d0-f993-4842-9468-c65946aef360",
   "metadata": {},
   "outputs": [],
   "source": []
  },
  {
   "cell_type": "code",
   "execution_count": 89,
   "id": "67a8f7ba-800a-4516-b39e-7fd3e0c653a1",
   "metadata": {},
   "outputs": [
    {
     "name": "stdout",
     "output_type": "stream",
     "text": [
      "<class 'gammagl.datasets.planetoid.Planetoid'>\n",
      "<class 'gammagl.data.graph.Graph'>\n"
     ]
    }
   ],
   "source": [
    "print(type(dataset))\n",
    "print(type(dataset[0]))"
   ]
  },
  {
   "cell_type": "code",
   "execution_count": 90,
   "id": "8fb5976c-e541-45e4-a904-4f6b37970a2e",
   "metadata": {},
   "outputs": [
    {
     "data": {
      "text/plain": [
       "Graph(edge_index=[2, 10556], x=[2708, 1433], y=[2708], train_mask=[2708], val_mask=[2708], test_mask=[2708])"
      ]
     },
     "execution_count": 90,
     "metadata": {},
     "output_type": "execute_result"
    }
   ],
   "source": [
    "data = dataset[0]\n",
    "data"
   ]
  },
  {
   "cell_type": "code",
   "execution_count": 92,
   "id": "30a8866e-6b60-4fc1-817b-324fa92cbaa2",
   "metadata": {
    "scrolled": true
   },
   "outputs": [
    {
     "name": "stdout",
     "output_type": "stream",
     "text": [
      "0.015068531036376953\n",
      "0.006627872120589018\n",
      "0.003203995293006301\n",
      "0.0018103520851582289\n",
      "0.0011818408966064453\n",
      "0.0008583818562328815\n",
      "0.0006686152773909271\n",
      "0.000544812239240855\n",
      "0.00045719227637164295\n",
      "0.0003915383422281593\n",
      "0.00034033306292258203\n",
      "0.00029931816970929503\n",
      "0.00026571890339255333\n",
      "0.00023778971808496863\n",
      "0.00021426868624985218\n",
      "0.0001942425296874717\n",
      "0.0001770384405972436\n",
      "0.000162104784976691\n",
      "0.00014907443255651742\n",
      "0.00013763805327471346\n"
     ]
    }
   ],
   "source": [
    "import torch\n",
    "import torch.nn.functional as F\n",
    "\n",
    "data = dataset[0]\n",
    "optimizer = torch.optim.Adam(model.parameters(), lr=0.01)\n",
    "\n",
    "for epoch in range(200):\n",
    "    pred = model(data.x, data.edge_index)\n",
    "    loss = F.cross_entropy(pred[data.train_mask], data.y[data.train_mask])\n",
    "\n",
    "    # Backpropagation\n",
    "    optimizer.zero_grad()\n",
    "    loss.backward()\n",
    "    optimizer.step()\n",
    "    if epoch % 10 == 0:\n",
    "        print(loss.detach().item())"
   ]
  },
  {
   "cell_type": "code",
   "execution_count": null,
   "id": "4c9964de-dbae-48d7-be1c-ecc262ae4d70",
   "metadata": {},
   "outputs": [],
   "source": []
  },
  {
   "cell_type": "code",
   "execution_count": null,
   "id": "d16be24e-55e4-4be3-a24d-ba399269cc6f",
   "metadata": {},
   "outputs": [],
   "source": []
  }
 ],
 "metadata": {
  "kernelspec": {
   "display_name": "GML",
   "language": "python",
   "name": "gml"
  },
  "language_info": {
   "codemirror_mode": {
    "name": "ipython",
    "version": 3
   },
   "file_extension": ".py",
   "mimetype": "text/x-python",
   "name": "python",
   "nbconvert_exporter": "python",
   "pygments_lexer": "ipython3",
   "version": "3.9.19"
  },
  "widgets": {
   "application/vnd.jupyter.widget-state+json": {
    "state": {},
    "version_major": 2,
    "version_minor": 0
   }
  }
 },
 "nbformat": 4,
 "nbformat_minor": 5
}
