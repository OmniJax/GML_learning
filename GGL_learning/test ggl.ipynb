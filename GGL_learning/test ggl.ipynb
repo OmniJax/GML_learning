{
 "cells": [
  {
   "cell_type": "code",
   "execution_count": 1,
   "id": "0c905793-d4b2-4967-8c12-77d7f84611c6",
   "metadata": {},
   "outputs": [
    {
     "name": "stderr",
     "output_type": "stream",
     "text": [
      "Using PyTorch backend.\n"
     ]
    },
    {
     "name": "stdout",
     "output_type": "stream",
     "text": [
      "====================================================================================================\n",
      "Gammagl Global Config Info:\n",
      "    TLX_BACKEND: torch\n",
      "    DATASET_ROOT: C:\\Users\\mi\\.ggl\\datasets\n",
      "====================================================================================================\n"
     ]
    }
   ],
   "source": [
    "import gammagl.transforms as T\n",
    "import tensorlayerx as tlx\n",
    "from gammagl.datasets import Planetoid\n",
    "from gammagl.layers.conv import GCNConv"
   ]
  },
  {
   "cell_type": "code",
   "execution_count": null,
   "id": "2240b5a7-221c-4922-bff9-bfb1c065cad5",
   "metadata": {},
   "outputs": [],
   "source": []
  },
  {
   "cell_type": "code",
   "execution_count": null,
   "id": "f3c5f959-e654-44f6-8427-1bae0de90804",
   "metadata": {},
   "outputs": [],
   "source": []
  },
  {
   "cell_type": "code",
   "execution_count": 2,
   "id": "7697ca8d-6d36-4107-9aac-a2615d3d1c40",
   "metadata": {},
   "outputs": [],
   "source": [
    "dataset = Planetoid(root=\"./data\", name=\"Cora\", transform=T.NormalizeFeatures())"
   ]
  },
  {
   "cell_type": "code",
   "execution_count": null,
   "id": "5a7b90e0-060c-4a26-b4cb-ddbb4870188c",
   "metadata": {},
   "outputs": [],
   "source": []
  },
  {
   "cell_type": "code",
   "execution_count": 3,
   "id": "8260a8e9-e738-4986-a2d7-c0aedd5d1bff",
   "metadata": {},
   "outputs": [],
   "source": [
    "class GCN(tlx.nn.Module):\n",
    "    def __init__(self, in_feats, hid_feats, out_feats):\n",
    "        super().__init__()\n",
    "        self.conv1 = GCNConv(in_feats, hid_feats)\n",
    "        self.conv2 = GCNConv(hid_feats, out_feats)\n",
    "        self.relu = tlx.ReLU()\n",
    "\n",
    "    def forward(self, x, edge_index):\n",
    "        x = self.conv1(x, edge_index)\n",
    "        x = self.relu(x)\n",
    "        x = self.conv2(x, edge_index)\n",
    "        return x"
   ]
  },
  {
   "cell_type": "code",
   "execution_count": 4,
   "id": "a968f6a4-ba53-4587-a311-db7994ce12bd",
   "metadata": {},
   "outputs": [
    {
     "name": "stdout",
     "output_type": "stream",
     "text": [
      "[TLX] Linear  linear_1: 16 No Activation\n",
      "[TLX] Linear  linear_2: 7 No Activation\n"
     ]
    }
   ],
   "source": [
    "model = GCN(dataset.num_features, 16, dataset.num_classes)"
   ]
  },
  {
   "cell_type": "code",
   "execution_count": null,
   "id": "d16118d0-f993-4842-9468-c65946aef360",
   "metadata": {},
   "outputs": [],
   "source": []
  },
  {
   "cell_type": "code",
   "execution_count": 5,
   "id": "67a8f7ba-800a-4516-b39e-7fd3e0c653a1",
   "metadata": {},
   "outputs": [
    {
     "name": "stdout",
     "output_type": "stream",
     "text": [
      "<class 'gammagl.datasets.planetoid.Planetoid'>\n",
      "<class 'gammagl.data.graph.Graph'>\n"
     ]
    }
   ],
   "source": [
    "print(type(dataset))\n",
    "print(type(dataset[0]))"
   ]
  },
  {
   "cell_type": "code",
   "execution_count": 8,
   "id": "8fb5976c-e541-45e4-a904-4f6b37970a2e",
   "metadata": {},
   "outputs": [
    {
     "data": {
      "text/plain": [
       "Graph(edge_index=[2, 10556], x=[2708, 1433], y=[2708], train_mask=[2708], val_mask=[2708], test_mask=[2708])"
      ]
     },
     "execution_count": 8,
     "metadata": {},
     "output_type": "execute_result"
    }
   ],
   "source": [
    "data = dataset[0]\n",
    "data"
   ]
  },
  {
   "cell_type": "code",
   "execution_count": 9,
   "id": "30a8866e-6b60-4fc1-817b-324fa92cbaa2",
   "metadata": {},
   "outputs": [
    {
     "name": "stdout",
     "output_type": "stream",
     "text": [
      "0.016058268025517464\n",
      "0.0073593053966760635\n",
      "0.00366101018153131\n",
      "0.00209645158611238\n",
      "0.0013734978856518865\n",
      "0.000995747046545148\n",
      "0.0007729133358225226\n",
      "0.0006273755570873618\n",
      "0.0005246467189863324\n",
      "0.00044786621583625674\n",
      "0.0003881828743033111\n",
      "0.0003404758754186332\n",
      "0.0003015416150446981\n",
      "0.00026923572295345366\n",
      "0.00024207636306528002\n",
      "0.00021900089632254094\n",
      "0.00019921416242141277\n",
      "0.00018208214896731079\n",
      "0.00016713661898393184\n",
      "0.00015404692385345697\n"
     ]
    }
   ],
   "source": [
    "import torch\n",
    "import torch.nn.functional as F\n",
    "\n",
    "data = dataset[0]\n",
    "optimizer = torch.optim.Adam(model.parameters(), lr=0.01)\n",
    "\n",
    "for epoch in range(200):\n",
    "    pred = model(data.x, data.edge_index)\n",
    "    loss = F.cross_entropy(pred[data.train_mask], data.y[data.train_mask])\n",
    "\n",
    "    # Backpropagation\n",
    "    optimizer.zero_grad()\n",
    "    loss.backward()\n",
    "    optimizer.step()\n",
    "    if epoch % 10 == 0:\n",
    "        print(loss.detach().item())"
   ]
  },
  {
   "cell_type": "code",
   "execution_count": 10,
   "id": "4c9964de-dbae-48d7-be1c-ecc262ae4d70",
   "metadata": {},
   "outputs": [
    {
     "data": {
      "text/plain": [
       "Graph(edge_index=[2, 10556], x=[2708, 1433], y=[2708], train_mask=[2708], val_mask=[2708], test_mask=[2708])"
      ]
     },
     "execution_count": 10,
     "metadata": {},
     "output_type": "execute_result"
    }
   ],
   "source": [
    "data"
   ]
  },
  {
   "cell_type": "code",
   "execution_count": 11,
   "id": "d16be24e-55e4-4be3-a24d-ba399269cc6f",
   "metadata": {},
   "outputs": [
    {
     "name": "stdout",
     "output_type": "stream",
     "text": [
      "[TLX] Linear  linear_3: 5 No Activation\n"
     ]
    }
   ],
   "source": [
    "gcn = GCNConv(1433, 5)"
   ]
  },
  {
   "cell_type": "code",
   "execution_count": 13,
   "id": "7c90d46c-a409-41d9-b8e1-b91c885bb40b",
   "metadata": {},
   "outputs": [
    {
     "name": "stderr",
     "output_type": "stream",
     "text": [
      "E:\\Anacodna3\\envs\\GML\\lib\\site-packages\\tensorlayerx\\backend\\ops\\torch_backend.py:1631: UserWarning: To copy construct from a tensor, it is recommended to use sourceTensor.clone().detach() or sourceTensor.clone().detach().requires_grad_(True), rather than torch.tensor(sourceTensor).\n",
      "  segment_ids = torch.tensor(segment_ids, dtype=torch.int64)\n"
     ]
    },
    {
     "data": {
      "text/plain": [
       "tensor([[ 1.1427e-02,  2.9385e-03,  3.1481e-03, -1.0216e-03,  8.4412e-03],\n",
       "        [-3.3739e-03, -5.7997e-03,  7.3305e-04,  3.1416e-03,  2.2286e-02],\n",
       "        [-6.7120e-04, -4.8504e-03, -6.0399e-03, -3.4293e-03,  3.0480e-03],\n",
       "        ...,\n",
       "        [ 4.3892e-02, -1.1945e-03, -6.2690e-03, -8.9860e-03,  4.6436e-03],\n",
       "        [-7.0577e-03, -1.1329e-02,  2.6357e-03, -8.7571e-03, -1.1319e-05],\n",
       "        [ 2.1782e-03, -1.1109e-02,  5.2946e-03, -6.9725e-03,  7.2902e-03]],\n",
       "       grad_fn=<AddBackward0>)"
      ]
     },
     "execution_count": 13,
     "metadata": {},
     "output_type": "execute_result"
    }
   ],
   "source": [
    "gcn(data.x, data.edge_index)"
   ]
  },
  {
   "cell_type": "code",
   "execution_count": null,
   "id": "7121e237-9242-4a4b-99ea-3d5d94b44086",
   "metadata": {},
   "outputs": [],
   "source": []
  },
  {
   "cell_type": "code",
   "execution_count": 18,
   "id": "8ab8e873-afc6-428c-9a00-a13e7a5e204d",
   "metadata": {},
   "outputs": [
    {
     "name": "stdout",
     "output_type": "stream",
     "text": [
      "[TLX] Linear  linear_5: 1433 int\n"
     ]
    }
   ],
   "source": [
    "lin = tlx.layers.Linear(1433, 5, W_init=\"xavier_uniform\", b_init=None)"
   ]
  },
  {
   "cell_type": "code",
   "execution_count": 19,
   "id": "742072fc-e776-46d1-b3b9-5c1ea2e31b35",
   "metadata": {},
   "outputs": [
    {
     "ename": "TypeError",
     "evalue": "'int' object is not callable",
     "output_type": "error",
     "traceback": [
      "\u001b[1;31m---------------------------------------------------------------------------\u001b[0m",
      "\u001b[1;31mTypeError\u001b[0m                                 Traceback (most recent call last)",
      "Cell \u001b[1;32mIn[19], line 1\u001b[0m\n\u001b[1;32m----> 1\u001b[0m \u001b[43mlin\u001b[49m\u001b[43m(\u001b[49m\u001b[43mdata\u001b[49m\u001b[38;5;241;43m.\u001b[39;49m\u001b[43mx\u001b[49m\u001b[43m)\u001b[49m\n",
      "File \u001b[1;32mE:\\Anacodna3\\envs\\GML\\lib\\site-packages\\tensorlayerx\\nn\\core\\core_torch.py:123\u001b[0m, in \u001b[0;36mModule._call_impl_tlx\u001b[1;34m(self, *input, **kwargs)\u001b[0m\n\u001b[0;32m    118\u001b[0m             \u001b[38;5;28;01mraise\u001b[39;00m \u001b[38;5;167;01mException\u001b[39;00m(\u001b[38;5;124m\"\u001b[39m\u001b[38;5;124mparameter name [\u001b[39m\u001b[38;5;132;01m{}\u001b[39;00m\u001b[38;5;124m] have be been used. \u001b[39m\u001b[38;5;124m\"\u001b[39m\n\u001b[0;32m    119\u001b[0m                             \u001b[38;5;124m\"\u001b[39m\u001b[38;5;124mIn training, the name of layer can\u001b[39m\u001b[38;5;124m'\u001b[39m\u001b[38;5;124mt be same.\u001b[39m\u001b[38;5;124m\"\u001b[39m\n\u001b[0;32m    120\u001b[0m                             \u001b[38;5;124m\"\u001b[39m\u001b[38;5;124mPlease check the layers name\u001b[39m\u001b[38;5;124m\"\u001b[39m\u001b[38;5;241m.\u001b[39mformat(name))\n\u001b[0;32m    121\u001b[0m     \u001b[38;5;28mself\u001b[39m\u001b[38;5;241m.\u001b[39m_check \u001b[38;5;241m=\u001b[39m \u001b[38;5;28;01mTrue\u001b[39;00m\n\u001b[1;32m--> 123\u001b[0m result \u001b[38;5;241m=\u001b[39m \u001b[38;5;28mself\u001b[39m\u001b[38;5;241m.\u001b[39m_call_impl(\u001b[38;5;241m*\u001b[39m\u001b[38;5;28minput\u001b[39m, \u001b[38;5;241m*\u001b[39m\u001b[38;5;241m*\u001b[39mkwargs)\n\u001b[0;32m    124\u001b[0m \u001b[38;5;28;01mreturn\u001b[39;00m result\n",
      "File \u001b[1;32mE:\\Anacodna3\\envs\\GML\\lib\\site-packages\\torch\\nn\\modules\\module.py:1527\u001b[0m, in \u001b[0;36mModule._call_impl\u001b[1;34m(self, *args, **kwargs)\u001b[0m\n\u001b[0;32m   1522\u001b[0m \u001b[38;5;66;03m# If we don't have any hooks, we want to skip the rest of the logic in\u001b[39;00m\n\u001b[0;32m   1523\u001b[0m \u001b[38;5;66;03m# this function, and just call forward.\u001b[39;00m\n\u001b[0;32m   1524\u001b[0m \u001b[38;5;28;01mif\u001b[39;00m \u001b[38;5;129;01mnot\u001b[39;00m (\u001b[38;5;28mself\u001b[39m\u001b[38;5;241m.\u001b[39m_backward_hooks \u001b[38;5;129;01mor\u001b[39;00m \u001b[38;5;28mself\u001b[39m\u001b[38;5;241m.\u001b[39m_backward_pre_hooks \u001b[38;5;129;01mor\u001b[39;00m \u001b[38;5;28mself\u001b[39m\u001b[38;5;241m.\u001b[39m_forward_hooks \u001b[38;5;129;01mor\u001b[39;00m \u001b[38;5;28mself\u001b[39m\u001b[38;5;241m.\u001b[39m_forward_pre_hooks\n\u001b[0;32m   1525\u001b[0m         \u001b[38;5;129;01mor\u001b[39;00m _global_backward_pre_hooks \u001b[38;5;129;01mor\u001b[39;00m _global_backward_hooks\n\u001b[0;32m   1526\u001b[0m         \u001b[38;5;129;01mor\u001b[39;00m _global_forward_hooks \u001b[38;5;129;01mor\u001b[39;00m _global_forward_pre_hooks):\n\u001b[1;32m-> 1527\u001b[0m     \u001b[38;5;28;01mreturn\u001b[39;00m forward_call(\u001b[38;5;241m*\u001b[39margs, \u001b[38;5;241m*\u001b[39m\u001b[38;5;241m*\u001b[39mkwargs)\n\u001b[0;32m   1529\u001b[0m \u001b[38;5;28;01mtry\u001b[39;00m:\n\u001b[0;32m   1530\u001b[0m     result \u001b[38;5;241m=\u001b[39m \u001b[38;5;28;01mNone\u001b[39;00m\n",
      "File \u001b[1;32mE:\\Anacodna3\\envs\\GML\\lib\\site-packages\\tensorlayerx\\nn\\layers\\linear\\base_linear.py:112\u001b[0m, in \u001b[0;36mLinear.forward\u001b[1;34m(self, inputs)\u001b[0m\n\u001b[0;32m    109\u001b[0m z \u001b[38;5;241m=\u001b[39m tlx\u001b[38;5;241m.\u001b[39mops\u001b[38;5;241m.\u001b[39mlinear(inputs, \u001b[38;5;28mself\u001b[39m\u001b[38;5;241m.\u001b[39mweights, \u001b[38;5;28mself\u001b[39m\u001b[38;5;241m.\u001b[39mbiases)\n\u001b[0;32m    111\u001b[0m \u001b[38;5;28;01mif\u001b[39;00m \u001b[38;5;28mself\u001b[39m\u001b[38;5;241m.\u001b[39mact_init_flag:\n\u001b[1;32m--> 112\u001b[0m     z \u001b[38;5;241m=\u001b[39m \u001b[38;5;28;43mself\u001b[39;49m\u001b[38;5;241;43m.\u001b[39;49m\u001b[43mact\u001b[49m\u001b[43m(\u001b[49m\u001b[43mz\u001b[49m\u001b[43m)\u001b[49m\n\u001b[0;32m    114\u001b[0m \u001b[38;5;28;01mif\u001b[39;00m \u001b[38;5;129;01mnot\u001b[39;00m \u001b[38;5;28mself\u001b[39m\u001b[38;5;241m.\u001b[39m_nodes_fixed \u001b[38;5;129;01mand\u001b[39;00m \u001b[38;5;28mself\u001b[39m\u001b[38;5;241m.\u001b[39m_build_graph:\n\u001b[0;32m    115\u001b[0m     \u001b[38;5;28mself\u001b[39m\u001b[38;5;241m.\u001b[39m_add_node(inputs, z)\n",
      "\u001b[1;31mTypeError\u001b[0m: 'int' object is not callable"
     ]
    }
   ],
   "source": [
    "lin(data.x)"
   ]
  },
  {
   "cell_type": "code",
   "execution_count": null,
   "id": "9ddeba19-ee6d-4188-b0cb-c4136a6b1178",
   "metadata": {},
   "outputs": [],
   "source": []
  }
 ],
 "metadata": {
  "kernelspec": {
   "display_name": "GML",
   "language": "python",
   "name": "gml"
  },
  "language_info": {
   "codemirror_mode": {
    "name": "ipython",
    "version": 3
   },
   "file_extension": ".py",
   "mimetype": "text/x-python",
   "name": "python",
   "nbconvert_exporter": "python",
   "pygments_lexer": "ipython3",
   "version": "3.9.19"
  },
  "widgets": {
   "application/vnd.jupyter.widget-state+json": {
    "state": {},
    "version_major": 2,
    "version_minor": 0
   }
  }
 },
 "nbformat": 4,
 "nbformat_minor": 5
}
