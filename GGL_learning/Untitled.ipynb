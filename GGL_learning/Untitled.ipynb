{
 "cells": [
  {
   "cell_type": "code",
   "execution_count": 1,
   "id": "a06cc957-27a1-4539-9f40-7ca884305cec",
   "metadata": {},
   "outputs": [
    {
     "name": "stderr",
     "output_type": "stream",
     "text": [
      "Using PyTorch backend.\n"
     ]
    },
    {
     "name": "stdout",
     "output_type": "stream",
     "text": [
      "====================================================================================================\n",
      "Gammagl Global Config Info:\n",
      "    TLX_BACKEND: torch\n",
      "    DATASET_ROOT: C:\\Users\\mi\\.ggl\\datasets\n",
      "====================================================================================================\n"
     ]
    }
   ],
   "source": [
    "import matplotlib.pyplot as plt\n",
    "import torch\n",
    "\n",
    "import networkx as nx\n",
    "import tensorlayerx as tlx\n",
    "from gammagl.data import Graph"
   ]
  },
  {
   "cell_type": "code",
   "execution_count": 2,
   "id": "a3e3322f-1f02-4848-87d2-29b658edf37b",
   "metadata": {},
   "outputs": [],
   "source": [
    "edge_index = tlx.convert_to_tensor([[0, 1, 1, 2], [1, 0, 2, 1]])\n",
    "x = tlx.eye(3)"
   ]
  },
  {
   "cell_type": "code",
   "execution_count": 3,
   "id": "1bef228a-eb7a-4b94-ba54-961753d9e135",
   "metadata": {},
   "outputs": [],
   "source": [
    "g = Graph(x=x, edge_index=edge_index)"
   ]
  },
  {
   "cell_type": "code",
   "execution_count": 4,
   "id": "74b8ce34-fc3e-49d9-bc7b-ebade8fc340a",
   "metadata": {},
   "outputs": [
    {
     "data": {
      "image/png": "[encoded data removed]",
      "text/plain": [
       "<Figure size 200x200 with 1 Axes>"
      ]
     },
     "metadata": {},
     "output_type": "display_data"
    }
   ],
   "source": [
    "from torch_geometric.utils import to_networkx\n",
    "\n",
    "plt.figure(figsize=(2, 2))\n",
    "nx.draw(to_networkx(g), with_labels=True)"
   ]
  },
  {
   "cell_type": "code",
   "execution_count": 5,
   "id": "deddcd26-3622-4614-a8a0-8330fc23af5c",
   "metadata": {},
   "outputs": [
    {
     "name": "stdout",
     "output_type": "stream",
     "text": [
      "tensor([[0, 1, 1, 2],\n",
      "        [1, 0, 2, 1]])\n",
      "tensor([[1., 0., 0.],\n",
      "        [0., 1., 0.],\n",
      "        [0., 0., 1.]])\n"
     ]
    }
   ],
   "source": [
    "print(edge_index)\n",
    "print(x)"
   ]
  },
  {
   "cell_type": "code",
   "execution_count": 6,
   "id": "681ca9a4-5238-4d7f-b22f-29b076c64f4e",
   "metadata": {},
   "outputs": [
    {
     "data": {
      "text/plain": [
       "tensor([[1., 0., 0.],\n",
       "        [0., 1., 0.],\n",
       "        [0., 1., 0.],\n",
       "        [0., 0., 1.]])"
      ]
     },
     "execution_count": 6,
     "metadata": {},
     "output_type": "execute_result"
    }
   ],
   "source": [
    "tlx.gather(x,edge_index[0])"
   ]
  },
  {
   "cell_type": "markdown",
   "id": "26a5f15e-f2de-4ee5-98bd-7a002605f467",
   "metadata": {},
   "source": [
    "## GCN\n",
    "$$\n",
    "\\mathbf{x}_i^{(k)} = \\sum_{j \\in \\mathcal{N}(i) \\cup \\{ i \\}} \\frac{1}{\\sqrt{\\deg(i)} \\cdot \\sqrt{\\deg(j)}} \\cdot \\left( \\mathbf{\\Theta}^{\\top} \\cdot \\mathbf{x}_j^{(k-1)} \\right),\n",
    "$$"
   ]
  },
  {
   "cell_type": "code",
   "execution_count": 7,
   "id": "da3e69eb-f349-4084-a43f-a52ed54abab5",
   "metadata": {},
   "outputs": [],
   "source": [
    "from gammagl.layers.conv import MessagePassing\n",
    "from gammagl.utils import add_self_loops, degree"
   ]
  },
  {
   "cell_type": "code",
   "execution_count": 23,
   "id": "2f7750c2-2857-4883-89e8-ad0152e81b28",
   "metadata": {},
   "outputs": [],
   "source": [
    "class GCNConv(MessagePassing):\n",
    "    def __init__(self, in_feats, out_feats):\n",
    "        super().__init__()\n",
    "        self.lin = tlx.layers.Linear(5)\n",
    "\n",
    "    def forward(self, x, edge_index):\n",
    "        edge_index, edge_attr = add_self_loops(edge_index, num_nodes=x.shape[0])\n",
    "        print('so far so good')\n",
    "        x = self.lin(x)\n",
    "\n",
    "        in_deg = degree(edge_index[1], num_nodes=x.shape[0]).pow(-0.5)\n",
    "        out_deg = degree(edge_index[0], num_nodes=x.shape[0]).pow(-0.5)\n",
    "\n",
    "        deg_i = in_deg[edge_index[1]]\n",
    "        deg_j = out_deg[edge_index[0]]\n",
    "        norm = deg_i * deg_j\n",
    "        \n",
    "        self.propagate(x,edge_index,norm=norm)\n",
    "\n",
    "    def message(self,x_j,edge_index,norm):\n",
    "        \n",
    "        "
   ]
  },
  {
   "cell_type": "code",
   "execution_count": 24,
   "id": "c4aaf405-5500-4b8a-b78a-551a29d4bc86",
   "metadata": {},
   "outputs": [
    {
     "name": "stdout",
     "output_type": "stream",
     "text": [
      "[TLX] Linear  linear_8: 5 No Activation\n"
     ]
    }
   ],
   "source": [
    "model=GCNConv(3,4)\n"
   ]
  },
  {
   "cell_type": "code",
   "execution_count": 25,
   "id": "1d855cb3-3f2c-4b17-a8fd-57ba66b3b464",
   "metadata": {},
   "outputs": [
    {
     "name": "stdout",
     "output_type": "stream",
     "text": [
      "so far so good\n"
     ]
    },
    {
     "name": "stderr",
     "output_type": "stream",
     "text": [
      "E:\\Anacodna3\\envs\\GML\\lib\\site-packages\\tensorlayerx\\backend\\ops\\torch_backend.py:1631: UserWarning: To copy construct from a tensor, it is recommended to use sourceTensor.clone().detach() or sourceTensor.clone().detach().requires_grad_(True), rather than torch.tensor(sourceTensor).\n",
      "  segment_ids = torch.tensor(segment_ids, dtype=torch.int64)\n"
     ]
    },
    {
     "ename": "TypeError",
     "evalue": "Required parameter x_j is empty.",
     "output_type": "error",
     "traceback": [
      "\u001b[1;31m---------------------------------------------------------------------------\u001b[0m",
      "\u001b[1;31mTypeError\u001b[0m                                 Traceback (most recent call last)",
      "Cell \u001b[1;32mIn[25], line 1\u001b[0m\n\u001b[1;32m----> 1\u001b[0m \u001b[43mmodel\u001b[49m\u001b[43m(\u001b[49m\u001b[43mx\u001b[49m\u001b[43m,\u001b[49m\u001b[43medge_index\u001b[49m\u001b[43m)\u001b[49m\n",
      "File \u001b[1;32mE:\\Anacodna3\\envs\\GML\\lib\\site-packages\\tensorlayerx\\nn\\core\\core_torch.py:123\u001b[0m, in \u001b[0;36mModule._call_impl_tlx\u001b[1;34m(self, *input, **kwargs)\u001b[0m\n\u001b[0;32m    118\u001b[0m             \u001b[38;5;28;01mraise\u001b[39;00m \u001b[38;5;167;01mException\u001b[39;00m(\u001b[38;5;124m\"\u001b[39m\u001b[38;5;124mparameter name [\u001b[39m\u001b[38;5;132;01m{}\u001b[39;00m\u001b[38;5;124m] have be been used. \u001b[39m\u001b[38;5;124m\"\u001b[39m\n\u001b[0;32m    119\u001b[0m                             \u001b[38;5;124m\"\u001b[39m\u001b[38;5;124mIn training, the name of layer can\u001b[39m\u001b[38;5;124m'\u001b[39m\u001b[38;5;124mt be same.\u001b[39m\u001b[38;5;124m\"\u001b[39m\n\u001b[0;32m    120\u001b[0m                             \u001b[38;5;124m\"\u001b[39m\u001b[38;5;124mPlease check the layers name\u001b[39m\u001b[38;5;124m\"\u001b[39m\u001b[38;5;241m.\u001b[39mformat(name))\n\u001b[0;32m    121\u001b[0m     \u001b[38;5;28mself\u001b[39m\u001b[38;5;241m.\u001b[39m_check \u001b[38;5;241m=\u001b[39m \u001b[38;5;28;01mTrue\u001b[39;00m\n\u001b[1;32m--> 123\u001b[0m result \u001b[38;5;241m=\u001b[39m \u001b[38;5;28mself\u001b[39m\u001b[38;5;241m.\u001b[39m_call_impl(\u001b[38;5;241m*\u001b[39m\u001b[38;5;28minput\u001b[39m, \u001b[38;5;241m*\u001b[39m\u001b[38;5;241m*\u001b[39mkwargs)\n\u001b[0;32m    124\u001b[0m \u001b[38;5;28;01mreturn\u001b[39;00m result\n",
      "File \u001b[1;32mE:\\Anacodna3\\envs\\GML\\lib\\site-packages\\torch\\nn\\modules\\module.py:1527\u001b[0m, in \u001b[0;36mModule._call_impl\u001b[1;34m(self, *args, **kwargs)\u001b[0m\n\u001b[0;32m   1522\u001b[0m \u001b[38;5;66;03m# If we don't have any hooks, we want to skip the rest of the logic in\u001b[39;00m\n\u001b[0;32m   1523\u001b[0m \u001b[38;5;66;03m# this function, and just call forward.\u001b[39;00m\n\u001b[0;32m   1524\u001b[0m \u001b[38;5;28;01mif\u001b[39;00m \u001b[38;5;129;01mnot\u001b[39;00m (\u001b[38;5;28mself\u001b[39m\u001b[38;5;241m.\u001b[39m_backward_hooks \u001b[38;5;129;01mor\u001b[39;00m \u001b[38;5;28mself\u001b[39m\u001b[38;5;241m.\u001b[39m_backward_pre_hooks \u001b[38;5;129;01mor\u001b[39;00m \u001b[38;5;28mself\u001b[39m\u001b[38;5;241m.\u001b[39m_forward_hooks \u001b[38;5;129;01mor\u001b[39;00m \u001b[38;5;28mself\u001b[39m\u001b[38;5;241m.\u001b[39m_forward_pre_hooks\n\u001b[0;32m   1525\u001b[0m         \u001b[38;5;129;01mor\u001b[39;00m _global_backward_pre_hooks \u001b[38;5;129;01mor\u001b[39;00m _global_backward_hooks\n\u001b[0;32m   1526\u001b[0m         \u001b[38;5;129;01mor\u001b[39;00m _global_forward_hooks \u001b[38;5;129;01mor\u001b[39;00m _global_forward_pre_hooks):\n\u001b[1;32m-> 1527\u001b[0m     \u001b[38;5;28;01mreturn\u001b[39;00m forward_call(\u001b[38;5;241m*\u001b[39margs, \u001b[38;5;241m*\u001b[39m\u001b[38;5;241m*\u001b[39mkwargs)\n\u001b[0;32m   1529\u001b[0m \u001b[38;5;28;01mtry\u001b[39;00m:\n\u001b[0;32m   1530\u001b[0m     result \u001b[38;5;241m=\u001b[39m \u001b[38;5;28;01mNone\u001b[39;00m\n",
      "Cell \u001b[1;32mIn[23], line 18\u001b[0m, in \u001b[0;36mGCNConv.forward\u001b[1;34m(self, x, edge_index)\u001b[0m\n\u001b[0;32m     15\u001b[0m deg_j \u001b[38;5;241m=\u001b[39m out_deg[edge_index[\u001b[38;5;241m0\u001b[39m]]\n\u001b[0;32m     16\u001b[0m norm \u001b[38;5;241m=\u001b[39m deg_i \u001b[38;5;241m*\u001b[39m deg_j\n\u001b[1;32m---> 18\u001b[0m \u001b[38;5;28;43mself\u001b[39;49m\u001b[38;5;241;43m.\u001b[39;49m\u001b[43mpropagate\u001b[49m\u001b[43m(\u001b[49m\u001b[43mx\u001b[49m\u001b[43m,\u001b[49m\u001b[43medge_index\u001b[49m\u001b[43m,\u001b[49m\u001b[43mnorm\u001b[49m\u001b[38;5;241;43m=\u001b[39;49m\u001b[43mnorm\u001b[49m\u001b[43m)\u001b[49m\n",
      "File \u001b[1;32mE:\\Anacodna3\\envs\\GML\\lib\\site-packages\\gammagl-0.4.0-py3.9-win-amd64.egg\\gammagl\\layers\\conv\\message_passing.py:144\u001b[0m, in \u001b[0;36mMessagePassing.propagate\u001b[1;34m(self, x, edge_index, aggr, fuse_kernel, **kwargs)\u001b[0m\n\u001b[0;32m    141\u001b[0m     kwargs[\u001b[38;5;124m'\u001b[39m\u001b[38;5;124mnum_nodes\u001b[39m\u001b[38;5;124m'\u001b[39m] \u001b[38;5;241m=\u001b[39m x\u001b[38;5;241m.\u001b[39mshape[\u001b[38;5;241m0\u001b[39m]\n\u001b[0;32m    143\u001b[0m coll_dict \u001b[38;5;241m=\u001b[39m \u001b[38;5;28mself\u001b[39m\u001b[38;5;241m.\u001b[39m__collect__(x, edge_index, aggr, kwargs)\n\u001b[1;32m--> 144\u001b[0m msg_kwargs \u001b[38;5;241m=\u001b[39m \u001b[38;5;28;43mself\u001b[39;49m\u001b[38;5;241;43m.\u001b[39;49m\u001b[43minspector\u001b[49m\u001b[38;5;241;43m.\u001b[39;49m\u001b[43mdistribute\u001b[49m\u001b[43m(\u001b[49m\u001b[38;5;124;43m'\u001b[39;49m\u001b[38;5;124;43mmessage\u001b[39;49m\u001b[38;5;124;43m'\u001b[39;49m\u001b[43m,\u001b[49m\u001b[43m \u001b[49m\u001b[43mcoll_dict\u001b[49m\u001b[43m)\u001b[49m\n\u001b[0;32m    145\u001b[0m \u001b[38;5;28;01mif\u001b[39;00m fuse_kernel:\n\u001b[0;32m    146\u001b[0m     x \u001b[38;5;241m=\u001b[39m \u001b[38;5;28mself\u001b[39m\u001b[38;5;241m.\u001b[39mmessage_aggregate(\u001b[38;5;241m*\u001b[39m\u001b[38;5;241m*\u001b[39mmsg_kwargs)\n",
      "File \u001b[1;32mE:\\Anacodna3\\envs\\GML\\lib\\site-packages\\gammagl-0.4.0-py3.9-win-amd64.egg\\gammagl\\utils\\inspector.py:104\u001b[0m, in \u001b[0;36mInspector.distribute\u001b[1;34m(self, func_name, kwargs)\u001b[0m\n\u001b[0;32m    102\u001b[0m \u001b[38;5;28;01mif\u001b[39;00m data \u001b[38;5;129;01mis\u001b[39;00m inspect\u001b[38;5;241m.\u001b[39mParameter\u001b[38;5;241m.\u001b[39mempty:\n\u001b[0;32m    103\u001b[0m     \u001b[38;5;28;01mif\u001b[39;00m param\u001b[38;5;241m.\u001b[39mdefault \u001b[38;5;129;01mis\u001b[39;00m inspect\u001b[38;5;241m.\u001b[39mParameter\u001b[38;5;241m.\u001b[39mempty:\n\u001b[1;32m--> 104\u001b[0m         \u001b[38;5;28;01mraise\u001b[39;00m \u001b[38;5;167;01mTypeError\u001b[39;00m(\u001b[38;5;124mf\u001b[39m\u001b[38;5;124m'\u001b[39m\u001b[38;5;124mRequired parameter \u001b[39m\u001b[38;5;132;01m{\u001b[39;00mkey\u001b[38;5;132;01m}\u001b[39;00m\u001b[38;5;124m is empty.\u001b[39m\u001b[38;5;124m'\u001b[39m)\n\u001b[0;32m    105\u001b[0m     data \u001b[38;5;241m=\u001b[39m param\u001b[38;5;241m.\u001b[39mdefault\n\u001b[0;32m    106\u001b[0m out[key] \u001b[38;5;241m=\u001b[39m data\n",
      "\u001b[1;31mTypeError\u001b[0m: Required parameter x_j is empty."
     ]
    }
   ],
   "source": [
    "model(x,edge_index)"
   ]
  },
  {
   "cell_type": "code",
   "execution_count": null,
   "id": "e032b2bc-4428-43c2-b7a3-656b24460457",
   "metadata": {},
   "outputs": [],
   "source": [
    "self.linear = tlx.layers.Linear(out_features=out_channels,\n",
    "                                        in_features=in_channels,\n",
    "                                        W_init='xavier_uniform',\n",
    "                                        b_init=None)"
   ]
  },
  {
   "cell_type": "code",
   "execution_count": 22,
   "id": "41ddad47-9846-4635-a402-1018283e113e",
   "metadata": {},
   "outputs": [
    {
     "name": "stdout",
     "output_type": "stream",
     "text": [
      "[TLX] Linear  linear_7: 4 No Activation\n"
     ]
    },
    {
     "data": {
      "text/plain": [
       "tensor([[ 0.0065,  0.0086, -0.0309,  0.0336],\n",
       "        [ 0.0064,  0.0366,  0.0004,  0.0149],\n",
       "        [-0.0152, -0.0258, -0.0013,  0.0080]], grad_fn=<AddmmBackward0>)"
      ]
     },
     "execution_count": 22,
     "metadata": {},
     "output_type": "execute_result"
    }
   ],
   "source": [
    "lin=tlx.layers.Linear(out_features=4,in_features=3)\n",
    "x = tlx.eye(3)\n",
    "lin(x)"
   ]
  },
  {
   "cell_type": "code",
   "execution_count": null,
   "id": "386b3cdb-f763-43cc-b208-ed6013e6c19d",
   "metadata": {},
   "outputs": [],
   "source": []
  },
  {
   "cell_type": "code",
   "execution_count": null,
   "id": "7b7442cf-af34-405b-b803-c723a2a20985",
   "metadata": {},
   "outputs": [],
   "source": []
  },
  {
   "cell_type": "markdown",
   "id": "9cd24e93-8077-4b99-a12f-9a96abb729e2",
   "metadata": {},
   "source": [
    "## example"
   ]
  },
  {
   "cell_type": "code",
   "execution_count": 16,
   "id": "2559068e-da66-43fc-b13a-0bb2884cb859",
   "metadata": {},
   "outputs": [],
   "source": [
    "import tensorlayerx as tlx\n",
    "from gammagl.layers.conv import MessagePassing\n",
    "from gammagl.utils import add_self_loops, degree\n",
    "from gammagl.mpops import unsorted_segment_sum\n",
    "\n",
    "class GCNConv(MessagePassing):\n",
    "    def __init__(self, in_channels, out_channels, add_bias):\n",
    "        super().__init__()\n",
    "        self.lin = tlx.layers.Linear(in_channels, out_channels)\n",
    "\n",
    "    def forward(self, x, edge_index):\n",
    "        # x has shape [N, in_channels]\n",
    "        # edge_index has shape [2, E]\n",
    "\n",
    "        # Step 1: Add self-loops to the adjacency matrix.\n",
    "        edge_index, _ = add_self_loops(edge_index, num_nodes=x.shape[0])\n",
    "\n",
    "        # Step 2: Linearly transform node feature matrix.\n",
    "        x = self.lin(x)\n",
    "\n",
    "        # Step 3: Compute edge weight.\n",
    "        src, dst = edge_index[0], edge_index[1]\n",
    "        edge_weight = tlx.ones(shape=(edge_index.shape[1], 1))\n",
    "        deg = degree(dst, num_nodes=x.shape[0])\n",
    "        deg_inv_sqrt = tlx.pow(deg, -0.5)\n",
    "        weights = tlx.ops.gather(deg_inv_sqrt, src) * tlx.reshape(edge_weight, (-1,)) * tlx.ops.gather(deg_inv_sqrt, dst)\n",
    "\n",
    "        # Step 4-5: Start propagating messages.\n",
    "        return self.propagate(x, edge_index, edge_weight=weights, num_nodes=x.shape[0], aggr_type='sum')\n",
    "\n",
    "    def message(self, x, edge_index, edge_weight):\n",
    "        msg = tlx.gather(x, edge_index[0, :])\n",
    "        return msg * edge_weight"
   ]
  },
  {
   "cell_type": "code",
   "execution_count": 17,
   "id": "9afb542b-6c3d-464d-a585-76691d192e06",
   "metadata": {},
   "outputs": [
    {
     "name": "stdout",
     "output_type": "stream",
     "text": [
      "[TLX] Linear  linear_4: 3 int\n"
     ]
    }
   ],
   "source": [
    "gcn=GCNConv(3,4,add_bias=False)"
   ]
  },
  {
   "cell_type": "code",
   "execution_count": 18,
   "id": "4ed8a0fb-a564-4240-a708-efcbd2cf71b0",
   "metadata": {},
   "outputs": [
    {
     "ename": "TypeError",
     "evalue": "'int' object is not callable",
     "output_type": "error",
     "traceback": [
      "\u001b[1;31m---------------------------------------------------------------------------\u001b[0m",
      "\u001b[1;31mTypeError\u001b[0m                                 Traceback (most recent call last)",
      "Cell \u001b[1;32mIn[18], line 1\u001b[0m\n\u001b[1;32m----> 1\u001b[0m \u001b[43mgcn\u001b[49m\u001b[43m(\u001b[49m\u001b[43mx\u001b[49m\u001b[43m,\u001b[49m\u001b[43medge_index\u001b[49m\u001b[43m)\u001b[49m\n",
      "File \u001b[1;32mE:\\Anacodna3\\envs\\GML\\lib\\site-packages\\tensorlayerx\\nn\\core\\core_torch.py:123\u001b[0m, in \u001b[0;36mModule._call_impl_tlx\u001b[1;34m(self, *input, **kwargs)\u001b[0m\n\u001b[0;32m    118\u001b[0m             \u001b[38;5;28;01mraise\u001b[39;00m \u001b[38;5;167;01mException\u001b[39;00m(\u001b[38;5;124m\"\u001b[39m\u001b[38;5;124mparameter name [\u001b[39m\u001b[38;5;132;01m{}\u001b[39;00m\u001b[38;5;124m] have be been used. \u001b[39m\u001b[38;5;124m\"\u001b[39m\n\u001b[0;32m    119\u001b[0m                             \u001b[38;5;124m\"\u001b[39m\u001b[38;5;124mIn training, the name of layer can\u001b[39m\u001b[38;5;124m'\u001b[39m\u001b[38;5;124mt be same.\u001b[39m\u001b[38;5;124m\"\u001b[39m\n\u001b[0;32m    120\u001b[0m                             \u001b[38;5;124m\"\u001b[39m\u001b[38;5;124mPlease check the layers name\u001b[39m\u001b[38;5;124m\"\u001b[39m\u001b[38;5;241m.\u001b[39mformat(name))\n\u001b[0;32m    121\u001b[0m     \u001b[38;5;28mself\u001b[39m\u001b[38;5;241m.\u001b[39m_check \u001b[38;5;241m=\u001b[39m \u001b[38;5;28;01mTrue\u001b[39;00m\n\u001b[1;32m--> 123\u001b[0m result \u001b[38;5;241m=\u001b[39m \u001b[38;5;28mself\u001b[39m\u001b[38;5;241m.\u001b[39m_call_impl(\u001b[38;5;241m*\u001b[39m\u001b[38;5;28minput\u001b[39m, \u001b[38;5;241m*\u001b[39m\u001b[38;5;241m*\u001b[39mkwargs)\n\u001b[0;32m    124\u001b[0m \u001b[38;5;28;01mreturn\u001b[39;00m result\n",
      "File \u001b[1;32mE:\\Anacodna3\\envs\\GML\\lib\\site-packages\\torch\\nn\\modules\\module.py:1527\u001b[0m, in \u001b[0;36mModule._call_impl\u001b[1;34m(self, *args, **kwargs)\u001b[0m\n\u001b[0;32m   1522\u001b[0m \u001b[38;5;66;03m# If we don't have any hooks, we want to skip the rest of the logic in\u001b[39;00m\n\u001b[0;32m   1523\u001b[0m \u001b[38;5;66;03m# this function, and just call forward.\u001b[39;00m\n\u001b[0;32m   1524\u001b[0m \u001b[38;5;28;01mif\u001b[39;00m \u001b[38;5;129;01mnot\u001b[39;00m (\u001b[38;5;28mself\u001b[39m\u001b[38;5;241m.\u001b[39m_backward_hooks \u001b[38;5;129;01mor\u001b[39;00m \u001b[38;5;28mself\u001b[39m\u001b[38;5;241m.\u001b[39m_backward_pre_hooks \u001b[38;5;129;01mor\u001b[39;00m \u001b[38;5;28mself\u001b[39m\u001b[38;5;241m.\u001b[39m_forward_hooks \u001b[38;5;129;01mor\u001b[39;00m \u001b[38;5;28mself\u001b[39m\u001b[38;5;241m.\u001b[39m_forward_pre_hooks\n\u001b[0;32m   1525\u001b[0m         \u001b[38;5;129;01mor\u001b[39;00m _global_backward_pre_hooks \u001b[38;5;129;01mor\u001b[39;00m _global_backward_hooks\n\u001b[0;32m   1526\u001b[0m         \u001b[38;5;129;01mor\u001b[39;00m _global_forward_hooks \u001b[38;5;129;01mor\u001b[39;00m _global_forward_pre_hooks):\n\u001b[1;32m-> 1527\u001b[0m     \u001b[38;5;28;01mreturn\u001b[39;00m forward_call(\u001b[38;5;241m*\u001b[39margs, \u001b[38;5;241m*\u001b[39m\u001b[38;5;241m*\u001b[39mkwargs)\n\u001b[0;32m   1529\u001b[0m \u001b[38;5;28;01mtry\u001b[39;00m:\n\u001b[0;32m   1530\u001b[0m     result \u001b[38;5;241m=\u001b[39m \u001b[38;5;28;01mNone\u001b[39;00m\n",
      "Cell \u001b[1;32mIn[16], line 19\u001b[0m, in \u001b[0;36mGCNConv.forward\u001b[1;34m(self, x, edge_index)\u001b[0m\n\u001b[0;32m     16\u001b[0m edge_index, _ \u001b[38;5;241m=\u001b[39m add_self_loops(edge_index, num_nodes\u001b[38;5;241m=\u001b[39mx\u001b[38;5;241m.\u001b[39mshape[\u001b[38;5;241m0\u001b[39m])\n\u001b[0;32m     18\u001b[0m \u001b[38;5;66;03m# Step 2: Linearly transform node feature matrix.\u001b[39;00m\n\u001b[1;32m---> 19\u001b[0m x \u001b[38;5;241m=\u001b[39m \u001b[38;5;28;43mself\u001b[39;49m\u001b[38;5;241;43m.\u001b[39;49m\u001b[43mlin\u001b[49m\u001b[43m(\u001b[49m\u001b[43mx\u001b[49m\u001b[43m)\u001b[49m\n\u001b[0;32m     21\u001b[0m \u001b[38;5;66;03m# Step 3: Compute edge weight.\u001b[39;00m\n\u001b[0;32m     22\u001b[0m src, dst \u001b[38;5;241m=\u001b[39m edge_index[\u001b[38;5;241m0\u001b[39m], edge_index[\u001b[38;5;241m1\u001b[39m]\n",
      "File \u001b[1;32mE:\\Anacodna3\\envs\\GML\\lib\\site-packages\\tensorlayerx\\nn\\core\\core_torch.py:123\u001b[0m, in \u001b[0;36mModule._call_impl_tlx\u001b[1;34m(self, *input, **kwargs)\u001b[0m\n\u001b[0;32m    118\u001b[0m             \u001b[38;5;28;01mraise\u001b[39;00m \u001b[38;5;167;01mException\u001b[39;00m(\u001b[38;5;124m\"\u001b[39m\u001b[38;5;124mparameter name [\u001b[39m\u001b[38;5;132;01m{}\u001b[39;00m\u001b[38;5;124m] have be been used. \u001b[39m\u001b[38;5;124m\"\u001b[39m\n\u001b[0;32m    119\u001b[0m                             \u001b[38;5;124m\"\u001b[39m\u001b[38;5;124mIn training, the name of layer can\u001b[39m\u001b[38;5;124m'\u001b[39m\u001b[38;5;124mt be same.\u001b[39m\u001b[38;5;124m\"\u001b[39m\n\u001b[0;32m    120\u001b[0m                             \u001b[38;5;124m\"\u001b[39m\u001b[38;5;124mPlease check the layers name\u001b[39m\u001b[38;5;124m\"\u001b[39m\u001b[38;5;241m.\u001b[39mformat(name))\n\u001b[0;32m    121\u001b[0m     \u001b[38;5;28mself\u001b[39m\u001b[38;5;241m.\u001b[39m_check \u001b[38;5;241m=\u001b[39m \u001b[38;5;28;01mTrue\u001b[39;00m\n\u001b[1;32m--> 123\u001b[0m result \u001b[38;5;241m=\u001b[39m \u001b[38;5;28mself\u001b[39m\u001b[38;5;241m.\u001b[39m_call_impl(\u001b[38;5;241m*\u001b[39m\u001b[38;5;28minput\u001b[39m, \u001b[38;5;241m*\u001b[39m\u001b[38;5;241m*\u001b[39mkwargs)\n\u001b[0;32m    124\u001b[0m \u001b[38;5;28;01mreturn\u001b[39;00m result\n",
      "File \u001b[1;32mE:\\Anacodna3\\envs\\GML\\lib\\site-packages\\torch\\nn\\modules\\module.py:1527\u001b[0m, in \u001b[0;36mModule._call_impl\u001b[1;34m(self, *args, **kwargs)\u001b[0m\n\u001b[0;32m   1522\u001b[0m \u001b[38;5;66;03m# If we don't have any hooks, we want to skip the rest of the logic in\u001b[39;00m\n\u001b[0;32m   1523\u001b[0m \u001b[38;5;66;03m# this function, and just call forward.\u001b[39;00m\n\u001b[0;32m   1524\u001b[0m \u001b[38;5;28;01mif\u001b[39;00m \u001b[38;5;129;01mnot\u001b[39;00m (\u001b[38;5;28mself\u001b[39m\u001b[38;5;241m.\u001b[39m_backward_hooks \u001b[38;5;129;01mor\u001b[39;00m \u001b[38;5;28mself\u001b[39m\u001b[38;5;241m.\u001b[39m_backward_pre_hooks \u001b[38;5;129;01mor\u001b[39;00m \u001b[38;5;28mself\u001b[39m\u001b[38;5;241m.\u001b[39m_forward_hooks \u001b[38;5;129;01mor\u001b[39;00m \u001b[38;5;28mself\u001b[39m\u001b[38;5;241m.\u001b[39m_forward_pre_hooks\n\u001b[0;32m   1525\u001b[0m         \u001b[38;5;129;01mor\u001b[39;00m _global_backward_pre_hooks \u001b[38;5;129;01mor\u001b[39;00m _global_backward_hooks\n\u001b[0;32m   1526\u001b[0m         \u001b[38;5;129;01mor\u001b[39;00m _global_forward_hooks \u001b[38;5;129;01mor\u001b[39;00m _global_forward_pre_hooks):\n\u001b[1;32m-> 1527\u001b[0m     \u001b[38;5;28;01mreturn\u001b[39;00m forward_call(\u001b[38;5;241m*\u001b[39margs, \u001b[38;5;241m*\u001b[39m\u001b[38;5;241m*\u001b[39mkwargs)\n\u001b[0;32m   1529\u001b[0m \u001b[38;5;28;01mtry\u001b[39;00m:\n\u001b[0;32m   1530\u001b[0m     result \u001b[38;5;241m=\u001b[39m \u001b[38;5;28;01mNone\u001b[39;00m\n",
      "File \u001b[1;32mE:\\Anacodna3\\envs\\GML\\lib\\site-packages\\tensorlayerx\\nn\\layers\\linear\\base_linear.py:112\u001b[0m, in \u001b[0;36mLinear.forward\u001b[1;34m(self, inputs)\u001b[0m\n\u001b[0;32m    109\u001b[0m z \u001b[38;5;241m=\u001b[39m tlx\u001b[38;5;241m.\u001b[39mops\u001b[38;5;241m.\u001b[39mlinear(inputs, \u001b[38;5;28mself\u001b[39m\u001b[38;5;241m.\u001b[39mweights, \u001b[38;5;28mself\u001b[39m\u001b[38;5;241m.\u001b[39mbiases)\n\u001b[0;32m    111\u001b[0m \u001b[38;5;28;01mif\u001b[39;00m \u001b[38;5;28mself\u001b[39m\u001b[38;5;241m.\u001b[39mact_init_flag:\n\u001b[1;32m--> 112\u001b[0m     z \u001b[38;5;241m=\u001b[39m \u001b[38;5;28;43mself\u001b[39;49m\u001b[38;5;241;43m.\u001b[39;49m\u001b[43mact\u001b[49m\u001b[43m(\u001b[49m\u001b[43mz\u001b[49m\u001b[43m)\u001b[49m\n\u001b[0;32m    114\u001b[0m \u001b[38;5;28;01mif\u001b[39;00m \u001b[38;5;129;01mnot\u001b[39;00m \u001b[38;5;28mself\u001b[39m\u001b[38;5;241m.\u001b[39m_nodes_fixed \u001b[38;5;129;01mand\u001b[39;00m \u001b[38;5;28mself\u001b[39m\u001b[38;5;241m.\u001b[39m_build_graph:\n\u001b[0;32m    115\u001b[0m     \u001b[38;5;28mself\u001b[39m\u001b[38;5;241m.\u001b[39m_add_node(inputs, z)\n",
      "\u001b[1;31mTypeError\u001b[0m: 'int' object is not callable"
     ]
    }
   ],
   "source": [
    "gcn(x,edge_index)"
   ]
  },
  {
   "cell_type": "code",
   "execution_count": null,
   "id": "755f1c8f-999d-441d-877b-0ea7a3ac010b",
   "metadata": {},
   "outputs": [],
   "source": []
  },
  {
   "cell_type": "code",
   "execution_count": null,
   "id": "dcf3b7d3-570e-4745-868c-df2d4154e7bb",
   "metadata": {},
   "outputs": [],
   "source": []
  },
  {
   "cell_type": "code",
   "execution_count": 21,
   "id": "3ac59ec2-4826-4b7d-bb46-24d6918e343a",
   "metadata": {},
   "outputs": [
    {
     "name": "stdout",
     "output_type": "stream",
     "text": [
      "[TLX] Linear  linear_6: 5 No Activation\n"
     ]
    },
    {
     "name": "stderr",
     "output_type": "stream",
     "text": [
      "E:\\Anacodna3\\envs\\GML\\lib\\site-packages\\tensorlayerx\\backend\\ops\\torch_backend.py:1631: UserWarning: To copy construct from a tensor, it is recommended to use sourceTensor.clone().detach() or sourceTensor.clone().detach().requires_grad_(True), rather than torch.tensor(sourceTensor).\n",
      "  segment_ids = torch.tensor(segment_ids, dtype=torch.int64)\n"
     ]
    },
    {
     "data": {
      "text/plain": [
       "tensor([[ 0.2832,  0.1196,  0.3506,  0.3415, -0.1409],\n",
       "        [-0.1429, -0.8805, -0.6048, -0.0665, -0.9212],\n",
       "        [ 0.2832,  0.1196,  0.3506,  0.3415, -0.1409]], grad_fn=<AddBackward0>)"
      ]
     },
     "execution_count": 21,
     "metadata": {},
     "output_type": "execute_result"
    }
   ],
   "source": [
    "from gammagl.layers.conv import GCNConv\n",
    "gcn = GCNConv(3, 5)\n",
    "gcn(x, edge_index)\n"
   ]
  },
  {
   "cell_type": "code",
   "execution_count": null,
   "id": "71dd0722-cd1f-44f0-bd0a-221bc954d1a2",
   "metadata": {},
   "outputs": [],
   "source": []
  }
 ],
 "metadata": {
  "kernelspec": {
   "display_name": "GML",
   "language": "python",
   "name": "gml"
  },
  "language_info": {
   "codemirror_mode": {
    "name": "ipython",
    "version": 3
   },
   "file_extension": ".py",
   "mimetype": "text/x-python",
   "name": "python",
   "nbconvert_exporter": "python",
   "pygments_lexer": "ipython3",
   "version": "3.9.19"
  },
  "widgets": {
   "application/vnd.jupyter.widget-state+json": {
    "state": {},
    "version_major": 2,
    "version_minor": 0
   }
  }
 },
 "nbformat": 4,
 "nbformat_minor": 5
}
