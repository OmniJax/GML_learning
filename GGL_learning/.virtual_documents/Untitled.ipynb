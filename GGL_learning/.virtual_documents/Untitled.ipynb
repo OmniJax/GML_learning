import gammagl.transforms as T
import tensorlayerx as tlx
from gammagl.datasets import Planetoid
from gammagl.layers.conv import GCNConv








dataset = Planetoid(root="./data", name="Cora", transform=T.NormalizeFeatures())





class GCN(tlx.nn.Module):
    def __init__(self, in_feats, hid_feats, out_feats):
        super().__init__()
        self.conv1 = GCNConv(in_feats, hid_feats)
        self.conv2 = GCNConv(hid_feats, out_feats)
        self.relu = tlx.ReLU()

    def forward(self, x, edge_index):
        x = self.conv1(x, edge_index)
        x = self.relu(x)
        x = self.conv2(x, edge_index)
        return x


model = GCN(dataset.num_features, 16, dataset.num_classes)





print(type(dataset))
print(type(dataset[0]))


data = dataset[0]
data


import torch.nn.functional as F
import torch

data = dataset[0]
optimizer = torch.optim.Adam(model.parameters(), lr=0.01)

for epoch in range(200):
    pred = model(data.x, data.edge_index)
    loss = F.cross_entropy(pred[data.train_mask], data.y[data.train_mask])

    # Backpropagation
    optimizer.zero_grad()
    loss.backward()
    optimizer.step()
    if epoch%10==0:
        print(loss.detach().item())






