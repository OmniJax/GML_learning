{
 "cells": [
  {
   "cell_type": "markdown",
   "id": "640ac634-75f6-4465-ad1a-cd3973e665d3",
   "metadata": {},
   "source": [
    "$$\n",
    "\\mathbf{x}_v^{(\\ell + 1)} = f^{(\\ell + 1)}_{\\theta} \\left( \\mathbf{x}_v^{(\\ell)}, \\left\\{ \\mathbf{x}_w^{(\\ell)} : w \\in \\mathcal{N}(v) \\right\\} \\right)\n",
    "$$"
   ]
  },
  {
   "cell_type": "code",
   "execution_count": 1,
   "id": "0688b6eb-c1d9-4971-b377-66ac904cdcf0",
   "metadata": {},
   "outputs": [],
   "source": [
    "import torch\n",
    "from torch_geometric.data import Data\n",
    "# from torch_geometric.datasets import KarateClub"
   ]
  },
  {
   "attachments": {
    "5e74a4a1-3b41-484f-a869-69fa04fb4b9b.png": {
     "image/png": "[encoded data removed]"
    }
   },
   "cell_type": "markdown",
   "id": "e1b7abc4-9535-4a5b-b85a-f5c86c1f43c8",
   "metadata": {},
   "source": [
    "![image.png](attachment:5e74a4a1-3b41-484f-a869-69fa04fb4b9b.png)\n",
    "\n",
    "### 一种建图方式"
   ]
  },
  {
   "cell_type": "code",
   "execution_count": 3,
   "id": "d77b3c95-a5b7-478e-9ec5-5064365b85a2",
   "metadata": {},
   "outputs": [
    {
     "name": "stdout",
     "output_type": "stream",
     "text": [
      "tensor([[-1, -1],\n",
      "        [ 0,  0],\n",
      "        [ 1,  1]])\n",
      "tensor([[0, 1, 1, 2],\n",
      "        [1, 0, 2, 1]])\n"
     ]
    }
   ],
   "source": [
    "edge_index = torch.tensor([[0, 1, 1, 2], [1, 0, 2, 1]], dtype=torch.long)\n",
    "x = torch.tensor([[-1, -1], [0, 0], [1, 1]])\n",
    "data = Data(x=x, edge_index=edge_index)\n",
    "print(data.x)\n",
    "print(data.edge_index)"
   ]
  },
  {
   "cell_type": "markdown",
   "id": "523657c3-3bc2-4fee-815b-04ddefb9b6d0",
   "metadata": {},
   "source": [
    "### 另一种建图方式"
   ]
  },
  {
   "cell_type": "code",
   "execution_count": 36,
   "id": "05adaa8c-5fdc-4801-8e15-72f2e3dabfa5",
   "metadata": {},
   "outputs": [
    {
     "data": {
      "text/plain": [
       "Data(x=[3, 2], edge_index=[2, 3])"
      ]
     },
     "execution_count": 36,
     "metadata": {},
     "output_type": "execute_result"
    }
   ],
   "source": [
    "edge_index = torch.tensor([[0, 1], [1, 0], [1, 2]])\n",
    "# contiguous:相接\n",
    "data=Data(x=x,edge_index=edge_index.t().contiguous())\n",
    "data"
   ]
  },
  {
   "cell_type": "code",
   "execution_count": 37,
   "id": "5fba3e46-f48a-4733-9f85-24f9f206da42",
   "metadata": {},
   "outputs": [
    {
     "data": {
      "text/plain": [
       "True"
      ]
     },
     "execution_count": 37,
     "metadata": {},
     "output_type": "execute_result"
    }
   ],
   "source": [
    "# 检查边idx是否为{0，1，……，-1}\n",
    "data.validate()"
   ]
  },
  {
   "cell_type": "code",
   "execution_count": 38,
   "id": "cb1c45fd-583b-4427-90c4-a4d6e2e19421",
   "metadata": {},
   "outputs": [
    {
     "name": "stdout",
     "output_type": "stream",
     "text": [
      "x :\n",
      " tensor([[-1, -1],\n",
      "        [ 0,  0],\n",
      "        [ 1,  1]])\n",
      "edge_index :\n",
      " tensor([[0, 1, 1],\n",
      "        [1, 0, 2]])\n"
     ]
    }
   ],
   "source": [
    "for key,item in data:\n",
    "    print(key,':\\n',item)"
   ]
  },
  {
   "cell_type": "code",
   "execution_count": 39,
   "id": "ea6cc4b4-a8ac-4d40-8016-6bc12574cf03",
   "metadata": {},
   "outputs": [
    {
     "data": {
      "text/plain": [
       "False"
      ]
     },
     "execution_count": 39,
     "metadata": {},
     "output_type": "execute_result"
    }
   ],
   "source": [
    "# 无边特征\n",
    "data.edge_attr in data"
   ]
  },
  {
   "cell_type": "code",
   "execution_count": 41,
   "id": "770a67e7-374f-4767-9890-bf0820ca91f6",
   "metadata": {},
   "outputs": [
    {
     "name": "stdout",
     "output_type": "stream",
     "text": [
      "3\n",
      "0\n",
      "3\n",
      "2\n",
      "False\n",
      "False\n",
      "True\n"
     ]
    }
   ],
   "source": [
    "print(data.num_edges)\n",
    "print(data.num_edge_features)\n",
    "\n",
    "print(data.num_nodes)\n",
    "print(data.num_node_features)\n",
    "\n",
    "print(data.has_isolated_nodes()) # 孤立\n",
    "print(data.has_self_loops()) #\n",
    "print(data.is_directed()) # 有向图，如果两个节点互相有两个箭头，则变成无向"
   ]
  },
  {
   "cell_type": "code",
   "execution_count": 44,
   "id": "0889c4bb-511b-4bf3-8378-c9d7c8eab56f",
   "metadata": {},
   "outputs": [],
   "source": [
    "device=torch.device('cuda')\n",
    "data=data.to(device)"
   ]
  },
  {
   "cell_type": "code",
   "execution_count": 46,
   "id": "83d07475-f2d3-41c3-ab2d-1257116436e5",
   "metadata": {},
   "outputs": [
    {
     "name": "stdout",
     "output_type": "stream",
     "text": [
      "True\n"
     ]
    }
   ],
   "source": [
    "print(data.is_cuda)"
   ]
  },
  {
   "cell_type": "code",
   "execution_count": null,
   "id": "36b5810d-f32f-47db-ab2c-167ea5c4ce7a",
   "metadata": {},
   "outputs": [],
   "source": []
  },
  {
   "cell_type": "code",
   "execution_count": null,
   "id": "53f2214b-c751-4183-9571-c54390a3e195",
   "metadata": {},
   "outputs": [],
   "source": []
  }
 ],
 "metadata": {
  "kernelspec": {
   "display_name": "GML",
   "language": "python",
   "name": "gml"
  },
  "language_info": {
   "codemirror_mode": {
    "name": "ipython",
    "version": 3
   },
   "file_extension": ".py",
   "mimetype": "text/x-python",
   "name": "python",
   "nbconvert_exporter": "python",
   "pygments_lexer": "ipython3",
   "version": "3.8.19"
  }
 },
 "nbformat": 4,
 "nbformat_minor": 5
}
