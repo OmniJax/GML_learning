{
 "cells": [
  {
   "cell_type": "markdown",
   "id": "0231894a-4ce1-43db-8b3d-9e288916e464",
   "metadata": {},
   "source": [
    "## PYG"
   ]
  },
  {
   "cell_type": "markdown",
   "id": "76d5a826-daad-4abb-a30a-c39e79e721c5",
   "metadata": {
    "id": "AlNTfUPr23ZK"
   },
   "source": [
    "In this work, you will use the APIs of PyG and DGL to implement some basic functions."
   ]
  },
  {
   "cell_type": "markdown",
   "id": "940af027-6e64-49b8-9706-b31cde879535",
   "metadata": {
    "id": "JaQosFNq8NdN"
   },
   "source": [
    "You need to run the following commands to install the GNN libraries (Only CPU version)."
   ]
  },
  {
   "cell_type": "markdown",
   "id": "24dac730-cf0b-4a1d-897f-09f535dc466c",
   "metadata": {
    "id": "aDRLr_Ot6-gE"
   },
   "source": [
    "The most popular GNN models can be written as follows:\n",
    "\n",
    "$$\n",
    "h_i^{(l+1)}=\\sigma(b^{(l)}+\\sum_{j\\in\\mathcal{N}(i)}e_{ij}h_j^{(l)}W^{(l)})\n",
    "$$\n",
    "\n",
    "where $h_i^{(l+1)}$ is the output feature, $\\sigma$ is the activation function, $e_{ij}$ is the edge weight, $W^{(l)}$ is the learnable parameters, $b^{(l)\n",
    "}$ is the bias.\n",
    "\n",
    "First, you will use the PyTorch-Geometric(PyG) to implement this convolution layer."
   ]
  },
  {
   "cell_type": "code",
   "execution_count": 6,
   "id": "55dc05b0-f4dc-4d5f-80ec-0760bc9018b4",
   "metadata": {
    "id": "RAQfM5GS2qlv"
   },
   "outputs": [],
   "source": [
    "import torch\n",
    "import torch.nn as nn\n",
    "from torch_geometric.nn.conv import MessagePassing\n",
    "from torch_geometric.utils import scatter\n",
    "\n",
    "\n",
    "class PyG_conv(MessagePassing):\n",
    "    def __init__(self, in_channel, out_channel):\n",
    "        super(PyG_conv,self).__init__()\n",
    "        self.in_channel = in_channel\n",
    "        self.out_channel = out_channel\n",
    "        self.W = nn.Parameter(torch.ones((in_channel, out_channel)))\n",
    "        self.b = nn.Parameter(torch.ones(out_channel))\n",
    "\n",
    "    def forward(self, x, edge_index, edge_weight):\n",
    "        num_nodes = x.shape[0]\n",
    "        hw = x @ self.W\n",
    "        out = self.propagate(edge_index, hw=hw, edge_weight=edge_weight, num_nodes=num_nodes)\n",
    "        return out + self.b\n",
    "\n",
    "    def message(self, x, edge_weight, hw_j):\n",
    "        num_edge = hw_j.shape[0]\n",
    "        ehw = edge_weight.view(num_edge, -1) * hw_j\n",
    "\n",
    "        return ehw\n",
    "\n",
    "    def aggregate(self, ehw,num_nodes):\n",
    "        return scatter(ehw, edge_index[1], dim=0, dim_size=num_nodes, reduce=\"sum\")"
   ]
  },
  {
   "cell_type": "code",
   "execution_count": null,
   "id": "3b9ce765-c368-4985-91cf-3e4999ab9034",
   "metadata": {},
   "outputs": [],
   "source": []
  },
  {
   "cell_type": "code",
   "execution_count": null,
   "id": "f4e43923-c288-4ecf-96e6-72200a4f96f6",
   "metadata": {},
   "outputs": [],
   "source": []
  },
  {
   "cell_type": "markdown",
   "id": "8f1a0f5a-6ea5-4624-8d6a-cad83425d8f8",
   "metadata": {
    "id": "xmxHSrJkH_xe"
   },
   "source": [
    "You may run the following code to check the correctness."
   ]
  },
  {
   "cell_type": "code",
   "execution_count": 9,
   "id": "b4037e49-192f-4989-ad03-5635bbc1e550",
   "metadata": {
    "id": "ov24C3_hH-Sc"
   },
   "outputs": [
    {
     "name": "stdout",
     "output_type": "stream",
     "text": [
      "tensor([[17., 17., 17., 17.],\n",
      "        [ 1.,  1.,  1.,  1.],\n",
      "        [33., 33., 33., 33.],\n",
      "        [33., 33., 33., 33.],\n",
      "        [17., 17., 17., 17.]], grad_fn=<AddBackward0>)\n"
     ]
    }
   ],
   "source": [
    "import numpy as np\n",
    "\n",
    "edge_index = torch.tensor([[0, 1, 1, 2, 2, 4], [2, 0, 2, 3, 4, 3]])\n",
    "x = torch.ones((5, 8))\n",
    "edge_weight = 2 * torch.ones(6)\n",
    "conv = PyG_conv(8, 4)\n",
    "output = conv(x, edge_index, edge_weight)\n",
    "print(output)"
   ]
  },
  {
   "cell_type": "code",
   "execution_count": 17,
   "id": "45c224ea-b52d-480a-937e-8ff8be743eb3",
   "metadata": {},
   "outputs": [],
   "source": [
    "assert np.allclose(\n",
    "    output.detach().numpy(),\n",
    "    [\n",
    "        [17.0, 17.0, 17.0, 17.0],\n",
    "        [1.0, 1.0, 1.0, 1.0],\n",
    "        [33.0, 33.0, 33.0, 33.0],\n",
    "        [33.0, 33.0, 33.0, 33.0],\n",
    "        [17.0, 17.0, 17.0, 17.0],\n",
    "    ],\n",
    "),'不一样捏'"
   ]
  },
  {
   "cell_type": "markdown",
   "id": "38c6c825-44c2-42b1-b6b1-3b262f170a0d",
   "metadata": {},
   "source": [
    "完全一样捏"
   ]
  },
  {
   "cell_type": "code",
   "execution_count": null,
   "id": "d87db52a-0733-475a-94ed-d14383f21adf",
   "metadata": {},
   "outputs": [],
   "source": []
  }
 ],
 "metadata": {
  "kernelspec": {
   "display_name": "GML",
   "language": "python",
   "name": "gml"
  },
  "language_info": {
   "codemirror_mode": {
    "name": "ipython",
    "version": 3
   },
   "file_extension": ".py",
   "mimetype": "text/x-python",
   "name": "python",
   "nbconvert_exporter": "python",
   "pygments_lexer": "ipython3",
   "version": "3.8.19"
  }
 },
 "nbformat": 4,
 "nbformat_minor": 5
}
