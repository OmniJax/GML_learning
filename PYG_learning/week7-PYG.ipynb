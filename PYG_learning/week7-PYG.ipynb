{
 "cells": [
  {
   "cell_type": "code",
   "execution_count": 1,
   "id": "8ec6944b-ea0c-4b8b-97b9-ebbf6d9e13e0",
   "metadata": {},
   "outputs": [],
   "source": [
    "import os\n",
    "\n",
    "import matplotlib.pyplot as plt\n",
    "import networkx as nx\n",
    "import torch\n",
    "import torch.nn as nn\n",
    "import torch.nn.functional as F\n",
    "\n",
    "os.environ[\"KMP_DUPLICATE_LIB_OK\"] = \"TRUE\"\n",
    "\n",
    "from torch_geometric.data import Data\n",
    "from torch_geometric.nn import MessagePassing\n",
    "from torch_geometric.utils import add_self_loops, degree, remove_self_loops\n",
    "from torch_geometric.utils import softmax as edge_softmax\n",
    "from torch_geometric.utils import to_networkx\n",
    "from torch_scatter import scatter"
   ]
  },
  {
   "cell_type": "code",
   "execution_count": null,
   "id": "521b962f-f54e-4eab-8766-1ee372a9a30c",
   "metadata": {},
   "outputs": [],
   "source": []
  },
  {
   "cell_type": "markdown",
   "id": "f69b8750-c06e-487f-a6cc-424e57b98667",
   "metadata": {},
   "source": [
    "# Link prediction"
   ]
  },
  {
   "cell_type": "markdown",
   "id": "ae6b6149-be2b-49af-8b2b-e3d13c312568",
   "metadata": {},
   "source": [
    "## 数据集"
   ]
  },
  {
   "cell_type": "code",
   "execution_count": 3,
   "id": "1eca9dcc-bf8e-4af4-96eb-5bb5b336bec3",
   "metadata": {},
   "outputs": [],
   "source": [
    "import torch_geometric.transforms as T\n",
    "from torch_geometric.datasets import Planetoid\n",
    "from torch_geometric.transforms import NormalizeFeatures"
   ]
  },
  {
   "cell_type": "code",
   "execution_count": 3,
   "id": "c5f5ba63-134e-4f4f-923f-fbabe7c155d3",
   "metadata": {},
   "outputs": [
    {
     "name": "stdout",
     "output_type": "stream",
     "text": [
      "Dataset: CiteSeer():\n",
      "======================\n",
      "Number of graphs: 1\n",
      "Number of features: 3703\n",
      "Number of classes: 6\n"
     ]
    }
   ],
   "source": [
    "device = \"cuda\"\n",
    "transform = T.Compose(\n",
    "    [\n",
    "        T.NormalizeFeatures(),\n",
    "        T.ToDevice(device),\n",
    "        T.RandomLinkSplit(num_test=0.2, num_val=0, add_negative_train_samples=True),\n",
    "    ]\n",
    ")\n",
    "dataset = Planetoid(root=\"./data/Planetoid\", name=\"CiteSeer\", transform=transform)\n",
    "\n",
    "print(f\"Dataset: {dataset}:\")\n",
    "print(\"======================\")\n",
    "print(f\"Number of graphs: {len(dataset)}\")\n",
    "print(f\"Number of features: {dataset.num_features}\")\n",
    "print(f\"Number of classes: {dataset.num_classes}\")"
   ]
  },
  {
   "cell_type": "markdown",
   "id": "10f6fb84-7208-444a-99ac-5a4ca33ba8ce",
   "metadata": {},
   "source": [
    "不拆\n",
    "- Data(x=[3327, 3703], edge_index=[2, 9104], y=[3327], train_mask=[3327], val_mask=[3327], test_mask=[3327])\n",
    "\n",
    "\n",
    "拆但是不加负边\n",
    "- Data(x=[3327, 3703], edge_index=[2, 7284], y=[3327], train_mask=[3327], val_mask=[3327], test_mask=[3327], edge_label=[7284], edge_label_index=[2, 7284])\n",
    "- Data(x=[3327, 3703], edge_index=[2, 7284], y=[3327], train_mask=[3327], val_mask=[3327], test_mask=[3327], edge_label=[1820], edge_label_index=[2, 1820])\n",
    "- Data(x=[3327, 3703], edge_index=[2, 8194], y=[3327], train_mask=[3327], val_mask=[3327], test_mask=[3327], edge_label=[1820], edge_label_index=[2, 1820])\n",
    "\n",
    "\n",
    "拆且加负边\n",
    "- Data(x=[3327, 3703], edge_index=[2, 7284], y=[3327], train_mask=[3327], val_mask=[3327], test_mask=[3327], edge_label=[14568], edge_label_index=[2, 14568])\n",
    "- Data(x=[3327, 3703], edge_index=[2, 7284], y=[3327], train_mask=[3327], val_mask=[3327], test_mask=[3327], edge_label=[1820], edge_label_index=[2, 1820])\n",
    "- Data(x=[3327, 3703], edge_index=[2, 8194], y=[3327], train_mask=[3327], val_mask=[3327], test_mask=[3327], edge_label=[1820], edge_label_index=[2, 1820])\n",
    "\n",
    "\n",
    "\n",
    "\n",
    "edge_label=1/0 表示正边和负边<br>\n",
    "edge_index 是原始图的边<br>\n",
    "edge_label_index 是加上负边之后的边<br>\n",
    "\n",
    "```python\n",
    "positive edge:\n",
    " tensor([[1422,  205,   27,  ...,   83, 2126, 1558],\n",
    "        [2181,  783,  755,  ...,  584,  626, 2331]])\n",
    "        \n",
    "negative edge:\n",
    " tensor([[ 450, 1854, 3065,  ..., 2952,  529, 1468],\n",
    "        [1263, 2073,  909,  ...,  502, 1698, 3210]])\n",
    "```"
   ]
  },
  {
   "cell_type": "code",
   "execution_count": 4,
   "id": "48c7a4b2-1a64-4b60-b7dc-fd2362077006",
   "metadata": {},
   "outputs": [],
   "source": [
    "train_data, val_data, test_data = dataset[0]"
   ]
  },
  {
   "cell_type": "code",
   "execution_count": null,
   "id": "199ad3c7-41cb-426a-860b-9e9a69c217ce",
   "metadata": {
    "scrolled": true
   },
   "outputs": [],
   "source": []
  },
  {
   "cell_type": "code",
   "execution_count": null,
   "id": "8b5acdbf-8719-4573-a65a-be21e8bb4c76",
   "metadata": {},
   "outputs": [],
   "source": []
  },
  {
   "cell_type": "markdown",
   "id": "2a350eaf-60b8-4900-b7ac-486e85969b4e",
   "metadata": {},
   "source": [
    "## SAGEConv"
   ]
  },
  {
   "cell_type": "code",
   "execution_count": 5,
   "id": "404ae3a7-afbe-4c19-a50d-4680d23c22c9",
   "metadata": {},
   "outputs": [],
   "source": [
    "class mySAGEConv(MessagePassing):\n",
    "    def __init__(self, in_feats, out_feats):\n",
    "        super(mySAGEConv, self).__init__(aggr=\"mean\")\n",
    "        self.W = nn.Linear(2 * in_feats, out_feats, bias=False)\n",
    "\n",
    "        self.reset_parameters()\n",
    "\n",
    "    def reset_parameters(self):\n",
    "        nn.init.xavier_uniform_(self.W.weight)\n",
    "\n",
    "    def forward(self, x, edge_index):\n",
    "        hN = self.propagate(edge_index, x=x)\n",
    "        h_cat = torch.cat([x, hN], dim=1)\n",
    "\n",
    "        h = self.W(h_cat)\n",
    "        h = F.normalize(h, dim=1)\n",
    "        return h\n",
    "\n",
    "    def message(self, x_j, edge_index):\n",
    "        return x_j"
   ]
  },
  {
   "cell_type": "markdown",
   "id": "462ebbbf-3382-43da-8c1f-f9a88c46e259",
   "metadata": {},
   "source": [
    "## SAGE_LP"
   ]
  },
  {
   "cell_type": "code",
   "execution_count": 6,
   "id": "d99155a8-c731-4b1c-a861-0854d998b2c4",
   "metadata": {},
   "outputs": [],
   "source": [
    "class SAGE_LP(nn.Module):\n",
    "    def __init__(self, in_feats, hid_feats, out_feats):\n",
    "        super(SAGE_LP, self).__init__()\n",
    "        self.conv1 = mySAGEConv(in_feats, hid_feats)\n",
    "        self.conv2 = mySAGEConv(hid_feats, out_feats)\n",
    "\n",
    "        self.lin1 = nn.Linear(out_feats * 2, out_feats)\n",
    "        self.lin2 = nn.Linear(out_feats, 1)\n",
    "\n",
    "        self.reset_parameters()\n",
    "\n",
    "    def reset_parameters(self):\n",
    "        nn.init.xavier_uniform_(self.lin1.weight)\n",
    "        nn.init.xavier_uniform_(self.lin2.weight)\n",
    "\n",
    "    def encode(self, x, edge_index):\n",
    "        # encode 使用edge_index，使用原图的连接信息\n",
    "        x = self.conv1(x, edge_index).relu()\n",
    "        x = self.conv2(x, edge_index)\n",
    "        return x\n",
    "\n",
    "    def decode(self, h, edge_label_index):\n",
    "        # decode，使用edge_label_index，带有正负边的信息\n",
    "        src = h[edge_label_index[0]]\n",
    "        dst = h[edge_label_index[1]]\n",
    "\n",
    "        h = self.lin1(torch.cat([src, dst], dim=1)).relu()\n",
    "        h = self.lin2(h)\n",
    "        return h\n",
    "\n",
    "    def forward(self, x, edge_index, edge_label_index):\n",
    "        h = self.encode(x, edge_index)\n",
    "        return self.decode(h, edge_label_index)"
   ]
  },
  {
   "cell_type": "markdown",
   "id": "7c38257b-1b9e-4fbc-8948-acfc69503761",
   "metadata": {},
   "source": [
    "## 训练和测试"
   ]
  },
  {
   "cell_type": "code",
   "execution_count": 21,
   "id": "f75e2aa4-4afe-4236-9364-76a3907d8ccd",
   "metadata": {},
   "outputs": [],
   "source": [
    "from sklearn.metrics import (\n",
    "    accuracy_score,\n",
    "    f1_score,\n",
    "    precision_recall_curve,\n",
    "    roc_auc_score,\n",
    ")\n",
    "\n",
    "\n",
    "def test(data):\n",
    "    with torch.no_grad():\n",
    "        model.eval()\n",
    "        logits = model.forward(data.x, data.edge_index, data.edge_label_index).cpu()\n",
    "        labels = data.edge_label.int().cpu()\n",
    "\n",
    "        pred = logits > 0\n",
    "\n",
    "        acc = accuracy_score(pred, labels)\n",
    "        f1 = f1_score(pred, labels)\n",
    "        auc = roc_auc_score(labels, logits)\n",
    "\n",
    "        return acc, f1, auc\n",
    "\n",
    "\n",
    "def train():\n",
    "    model.train()\n",
    "    optimizer.zero_grad()\n",
    "    logits = model(\n",
    "        train_data.x, train_data.edge_index, train_data.edge_label_index\n",
    "    ).squeeze()\n",
    "    labels = train_data.edge_label\n",
    "\n",
    "    loss = criterion(logits, labels)\n",
    "    loss.backward()\n",
    "    optimizer.step()\n",
    "    return loss"
   ]
  },
  {
   "cell_type": "code",
   "execution_count": 12,
   "id": "40574506-8494-4638-b687-677843dc27b0",
   "metadata": {},
   "outputs": [],
   "source": [
    "in_feats = train_data.num_features\n",
    "hid_feats = 128\n",
    "out_feats = 64\n",
    "\n",
    "model = SAGE_LP(in_feats, hid_feats, out_feats).to(device)\n",
    "optimizer = torch.optim.Adam(model.parameters(), lr=0.01)\n",
    "criterion = F.binary_cross_entropy_with_logits"
   ]
  },
  {
   "cell_type": "code",
   "execution_count": null,
   "id": "a82a1b95-715d-493c-ad97-b0c597f9e841",
   "metadata": {},
   "outputs": [],
   "source": []
  },
  {
   "cell_type": "code",
   "execution_count": 13,
   "id": "0b9bfc0c-35cc-407b-8b2f-dd09c4e7ce4e",
   "metadata": {},
   "outputs": [
    {
     "name": "stdout",
     "output_type": "stream",
     "text": [
      "epoch 0, loss: 0.693185\n",
      "epoch 10, loss: 0.456254\n",
      "epoch 20, loss: 0.268845\n",
      "epoch 30, loss: 0.126901\n",
      "epoch 40, loss: 0.050405\n",
      "epoch 50, loss: 0.019919\n",
      "epoch 60, loss: 0.009175\n",
      "epoch 70, loss: 0.005214\n",
      "epoch 80, loss: 0.003485\n",
      "epoch 90, loss: 0.002584\n",
      "epoch 100, loss: 0.002045\n"
     ]
    }
   ],
   "source": [
    "for e in range(101):\n",
    "    loss = train()\n",
    "\n",
    "    if e % 10 == 0:\n",
    "        # print(f\"epoch {e}, loss: {loss:.6f}, AUC: {test():.6f}\")\n",
    "        print(f\"epoch {e}, loss: {loss:.6f}\")"
   ]
  },
  {
   "cell_type": "code",
   "execution_count": 22,
   "id": "881c2f19-e742-43b0-9d59-50971c9595cb",
   "metadata": {},
   "outputs": [
    {
     "name": "stdout",
     "output_type": "stream",
     "text": [
      "train: acc, f1, auc:  (1.0, 1.0, 1.0)\n"
     ]
    }
   ],
   "source": [
    "print(\"train: acc, f1, auc: \", test(train_data))"
   ]
  },
  {
   "cell_type": "code",
   "execution_count": 23,
   "id": "558f73d3-c8a1-4c47-a7f8-df4ee0e223ac",
   "metadata": {},
   "outputs": [
    {
     "name": "stdout",
     "output_type": "stream",
     "text": [
      "train: acc, f1, auc:  (0.7175824175824176, 0.7110736368746486, 0.7773101074749427)\n"
     ]
    }
   ],
   "source": [
    "print(\"train: acc, f1, auc: \", test(test_data))"
   ]
  },
  {
   "cell_type": "code",
   "execution_count": null,
   "id": "7dc6a23b-6cf6-48c3-9b1c-cf6b2da80e0c",
   "metadata": {},
   "outputs": [],
   "source": []
  },
  {
   "cell_type": "code",
   "execution_count": null,
   "id": "d965b901-237e-4126-8be1-661410f9c9f3",
   "metadata": {},
   "outputs": [],
   "source": []
  },
  {
   "cell_type": "code",
   "execution_count": null,
   "id": "516cc7ff-25f0-4622-bc54-c5937e6a56ea",
   "metadata": {},
   "outputs": [],
   "source": []
  },
  {
   "cell_type": "markdown",
   "id": "bde565d7-896b-4f46-a3fc-ab96d53fbd06",
   "metadata": {},
   "source": [
    "# Graph prediction"
   ]
  },
  {
   "cell_type": "markdown",
   "id": "92fa01f9-a81f-4a5b-973b-b69e1b6af9cc",
   "metadata": {},
   "source": [
    "## 数据集"
   ]
  },
  {
   "cell_type": "code",
   "execution_count": 16,
   "id": "6d7398c5-2108-4a6e-9764-ca06f212b24d",
   "metadata": {},
   "outputs": [],
   "source": [
    "import torch_geometric.transforms as T\n",
    "from torch_geometric.datasets import TUDataset\n",
    "from torch_geometric.transforms import NormalizeFeatures\n",
    "\n",
    "device = \"cuda\"\n",
    "transform = T.Compose([T.ToDevice(device)])\n",
    "dataset = TUDataset(root=\"./data/TUDataset\", name=\"MUTAG\", transform=transform)"
   ]
  },
  {
   "cell_type": "code",
   "execution_count": 17,
   "id": "f096a7dc-ece5-46b7-920f-dbec3ddb93a9",
   "metadata": {},
   "outputs": [
    {
     "name": "stdout",
     "output_type": "stream",
     "text": [
      "MUTAG(188)\n",
      "n of classes: 2\n",
      "n of graphs 188\n",
      "n of feature 7\n"
     ]
    }
   ],
   "source": [
    "print(dataset)\n",
    "print(\"n of classes:\", dataset.num_classes)\n",
    "print(\"n of graphs\", len(dataset))\n",
    "print(\"n of feature\", dataset.num_features)"
   ]
  },
  {
   "cell_type": "code",
   "execution_count": 26,
   "id": "0b06463f-80b6-4f73-9ca5-23d0b710e5d5",
   "metadata": {},
   "outputs": [
    {
     "name": "stdout",
     "output_type": "stream",
     "text": [
      "Number of training graphs: 150\n",
      "Number of test graphs: 38\n"
     ]
    }
   ],
   "source": [
    "# 打乱\n",
    "dataset.shuffle()\n",
    "\n",
    "num_train = int(len(dataset) * 0.8)\n",
    "train_dataset = dataset[:num_train]\n",
    "test_dataset = dataset[num_train:]\n",
    "\n",
    "print(f\"Number of training graphs: {len(train_dataset)}\")\n",
    "print(f\"Number of test graphs: {len(test_dataset)}\")"
   ]
  },
  {
   "cell_type": "code",
   "execution_count": 62,
   "id": "a4a6720e-966d-4b28-9171-eb9157840aaf",
   "metadata": {},
   "outputs": [
    {
     "name": "stdout",
     "output_type": "stream",
     "text": [
      "Step 1:\n",
      "=======\n",
      "Number of graphs in the current batch: 64\n",
      "DataBatch(edge_index=[2, 2578], x=[1165, 7], edge_attr=[2578, 4], y=[64], batch=[1165], ptr=[65])\n",
      "\n"
     ]
    }
   ],
   "source": [
    "from torch_geometric.loader import DataLoader\n",
    "\n",
    "train_loader = DataLoader(train_dataset, batch_size=64, shuffle=True)\n",
    "test_loader = DataLoader(test_dataset, batch_size=64, shuffle=True)\n",
    "\n",
    "\n",
    "for step, data_batch in enumerate(train_loader):\n",
    "    print(f\"Step {step + 1}:\")\n",
    "    print(\"=======\")\n",
    "    print(f\"Number of graphs in the current batch: {data_batch.num_graphs}\")\n",
    "    print(data_batch)\n",
    "    print()\n",
    "    break"
   ]
  },
  {
   "cell_type": "markdown",
   "id": "339c0021-e53d-4191-a27b-94798de5a92e",
   "metadata": {},
   "source": [
    "Dataloader中，每次迭代取到data_batch,data_bach.batch用于区分哪些点属于同一幅图"
   ]
  },
  {
   "cell_type": "code",
   "execution_count": null,
   "id": "7a5653cb-b826-4d9b-85c5-aadc64eccbd3",
   "metadata": {},
   "outputs": [],
   "source": []
  },
  {
   "cell_type": "markdown",
   "id": "58f72320-ad78-464a-9b95-281791967248",
   "metadata": {},
   "source": [
    "## GATConv"
   ]
  },
  {
   "cell_type": "code",
   "execution_count": 80,
   "id": "4675041c-a1ed-4cf4-a156-16020155f1a1",
   "metadata": {},
   "outputs": [],
   "source": [
    "class myGATConv(MessagePassing):\n",
    "    def __init__(self, in_feats, out_feats, edge_dim):\n",
    "        super(myGATConv, self).__init__()\n",
    "        self.w_node = nn.Linear(in_feats, out_feats, bias=False)\n",
    "        self.w_edge = nn.Linear(edge_dim, out_feats, bias=False)\n",
    "\n",
    "        self.a_self = nn.Linear(out_feats, 1, bias=False)\n",
    "        self.a_neih = nn.Linear(out_feats, 1, bias=False)\n",
    "        self.a_edge = nn.Linear(out_feats, 1, bias=False)\n",
    "        self.edge_dim = edge_dim\n",
    "\n",
    "        self.reset_parameters()\n",
    "\n",
    "    def reset_parameters(self):\n",
    "        torch.nn.init.xavier_uniform_(self.w_node.weight)\n",
    "        torch.nn.init.xavier_uniform_(self.w_edge.weight)\n",
    "        torch.nn.init.xavier_uniform_(self.a_self.weight)\n",
    "        torch.nn.init.xavier_uniform_(self.a_neih.weight)\n",
    "        torch.nn.init.xavier_uniform_(self.a_edge.weight)\n",
    "\n",
    "    def forward(self, x, edge_index, edge_attr, get_attention=False):\n",
    "        edge_index, edge_attr = remove_self_loops(edge_index, edge_attr)\n",
    "        edge_index, edge_attr = add_self_loops(\n",
    "            edge_index, edge_attr, num_nodes=x.shape[0], fill_value=\"mean\"\n",
    "        )\n",
    "\n",
    "        edge_attr = edge_attr.view(-1, self.edge_dim)\n",
    "\n",
    "        wx = self.w_node(x)\n",
    "        we = self.w_edge(edge_attr)\n",
    "        alpha = self.edge_updater(edge_index, we=we, wx=wx)\n",
    "        out = self.propagate(edge_index, wx=wx, alpha=alpha)\n",
    "\n",
    "        if get_attention:\n",
    "            return out, alpha\n",
    "        else:\n",
    "            return out\n",
    "\n",
    "    def message(self, wx_j, alpha):\n",
    "        return alpha * wx_j\n",
    "\n",
    "    def edge_update(self, edge_index, wx_i, wx_j, we):\n",
    "        e = self.a_neih(wx_j) + self.a_self(wx_i) + self.a_edge(we)\n",
    "        e = F.leaky_relu(e)\n",
    "        alpha = edge_softmax(e, edge_index[1])\n",
    "        return alpha"
   ]
  },
  {
   "cell_type": "markdown",
   "id": "2726f335-c7e5-4386-a683-14dcc7dc5ed4",
   "metadata": {},
   "source": [
    "## GAT"
   ]
  },
  {
   "cell_type": "code",
   "execution_count": 81,
   "id": "bb051aaa-54b8-454f-bf39-6f095e33bcb4",
   "metadata": {},
   "outputs": [],
   "source": [
    "edge_dim = dataset.num_edge_features\n",
    "in_feats = dataset.num_node_features\n",
    "out_feats = dataset.num_classes"
   ]
  },
  {
   "cell_type": "code",
   "execution_count": 101,
   "id": "710c7d91-0206-4377-b9b7-ce9bb862f40b",
   "metadata": {},
   "outputs": [],
   "source": [
    "from torch_geometric.nn import global_mean_pool\n",
    "\n",
    "\n",
    "class GAT(nn.Module):\n",
    "    def __init__(self, in_feats, hid_feats, out_feats, edge_dim):\n",
    "        super(GAT, self).__init__()\n",
    "        self.conv1 = myGATConv(in_feats, hid_feats, edge_dim)\n",
    "        self.conv2 = myGATConv(hid_feats, hid_feats, edge_dim)\n",
    "        self.lin = nn.Linear(hid_feats, out_feats)\n",
    "\n",
    "    def forward(self, x, edge_index, edge_attr, batch):\n",
    "        x = self.conv1(x, edge_index, edge_attr).relu()\n",
    "        x = self.conv2(x, edge_index, edge_attr)\n",
    "\n",
    "        x = global_mean_pool(x, batch)\n",
    "        x = F.dropout(x, training=self.training)\n",
    "        x = self.lin(x)\n",
    "        return x"
   ]
  },
  {
   "cell_type": "code",
   "execution_count": 127,
   "id": "937b5293-2f2f-4705-9a91-a624be42f89b",
   "metadata": {},
   "outputs": [],
   "source": [
    "model = GAT(in_feats, 32, out_feats, edge_dim).to(device)\n",
    "optimizer = torch.optim.Adam(model.parameters(), lr=0.01)\n",
    "criterion = torch.nn.CrossEntropyLoss().to(device)"
   ]
  },
  {
   "cell_type": "code",
   "execution_count": 128,
   "id": "2a8152d5-466a-4fa6-a854-44dfb4dc1552",
   "metadata": {},
   "outputs": [],
   "source": [
    "def train():\n",
    "    model.train()\n",
    "    for data_batch in train_loader:\n",
    "        optimizer.zero_grad()\n",
    "        logits = model(\n",
    "            data_batch.x, data_batch.edge_index, data_batch.edge_attr, data_batch.batch\n",
    "        )\n",
    "        loss = criterion(logits, data_batch.y)\n",
    "        loss.backward()\n",
    "        optimizer.step()\n",
    "    return loss\n",
    "\n",
    "\n",
    "def test(loader):\n",
    "    model.eval()\n",
    "    correct = 0\n",
    "    for data_batch in loader:\n",
    "        with torch.no_grad():\n",
    "            pred = model(\n",
    "                data_batch.x,\n",
    "                data_batch.edge_index,\n",
    "                data_batch.edge_attr,\n",
    "                data_batch.batch,\n",
    "            ).argmax(dim=1)\n",
    "            correct+=(pred==data_batch.y).sum().item()\n",
    "\n",
    "    return correct / len(loader.dataset)\n",
    "        \n"
   ]
  },
  {
   "cell_type": "code",
   "execution_count": 129,
   "id": "88a69a75-5775-4761-828c-157486519a6d",
   "metadata": {},
   "outputs": [
    {
     "name": "stdout",
     "output_type": "stream",
     "text": [
      "Epoch: 010, Train Acc: 0.7800, Test Acc: 0.7368\n",
      "Epoch: 020, Train Acc: 0.7333, Test Acc: 0.7632\n",
      "Epoch: 030, Train Acc: 0.7533, Test Acc: 0.7895\n",
      "Epoch: 040, Train Acc: 0.7933, Test Acc: 0.7105\n",
      "Epoch: 050, Train Acc: 0.7867, Test Acc: 0.7632\n",
      "Epoch: 060, Train Acc: 0.7733, Test Acc: 0.7895\n",
      "Epoch: 070, Train Acc: 0.8067, Test Acc: 0.7632\n",
      "Epoch: 080, Train Acc: 0.7867, Test Acc: 0.7632\n",
      "Epoch: 090, Train Acc: 0.7933, Test Acc: 0.7632\n",
      "Epoch: 100, Train Acc: 0.8000, Test Acc: 0.7632\n",
      "Epoch: 110, Train Acc: 0.7933, Test Acc: 0.7895\n",
      "Epoch: 120, Train Acc: 0.7733, Test Acc: 0.7632\n",
      "Epoch: 130, Train Acc: 0.7867, Test Acc: 0.7105\n",
      "Epoch: 140, Train Acc: 0.7867, Test Acc: 0.7368\n",
      "Epoch: 150, Train Acc: 0.8000, Test Acc: 0.7368\n",
      "Epoch: 160, Train Acc: 0.7933, Test Acc: 0.7105\n",
      "Epoch: 170, Train Acc: 0.8067, Test Acc: 0.7368\n",
      "Epoch: 180, Train Acc: 0.8133, Test Acc: 0.7632\n",
      "Epoch: 190, Train Acc: 0.7867, Test Acc: 0.7368\n",
      "Epoch: 200, Train Acc: 0.8133, Test Acc: 0.7368\n"
     ]
    }
   ],
   "source": [
    "train_accs = []\n",
    "test_accs = []\n",
    "for epoch in range(1, 201):\n",
    "    train()\n",
    "    train_acc = test(train_loader)\n",
    "    test_acc = test(test_loader)\n",
    "    train_accs.append(train_acc)\n",
    "    test_accs.append(test_acc)\n",
    "    if epoch % 10 == 0:\n",
    "        print(\n",
    "            f\"Epoch: {epoch:03d}, Train Acc: {train_acc:.4f}, Test Acc: {test_acc:.4f}\"\n",
    "        )"
   ]
  },
  {
   "cell_type": "code",
   "execution_count": 130,
   "id": "a478e947-65c8-4f71-a04d-49ae0277ebf0",
   "metadata": {},
   "outputs": [
    {
     "data": {
      "image/png": "[encoded data removed]",
      "text/plain": [
       "<Figure size 640x480 with 1 Axes>"
      ]
     },
     "metadata": {},
     "output_type": "display_data"
    }
   ],
   "source": [
    "import matplotlib.pyplot as plt\n",
    "\n",
    "os.environ[\"KMP_DUPLICATE_LIB_OK\"] = \"TRUE\"\n",
    "\n",
    "plt.plot(train_accs, label=\"train\")\n",
    "plt.plot(test_accs, label=\"test\")\n",
    "plt.legend()\n",
    "plt.show()"
   ]
  },
  {
   "cell_type": "code",
   "execution_count": null,
   "id": "c7026d80-cc65-435f-9298-e0a15523c1b1",
   "metadata": {},
   "outputs": [],
   "source": []
  }
 ],
 "metadata": {
  "kernelspec": {
   "display_name": "GML",
   "language": "python",
   "name": "gml"
  },
  "language_info": {
   "codemirror_mode": {
    "name": "ipython",
    "version": 3
   },
   "file_extension": ".py",
   "mimetype": "text/x-python",
   "name": "python",
   "nbconvert_exporter": "python",
   "pygments_lexer": "ipython3",
   "version": "3.8.19"
  }
 },
 "nbformat": 4,
 "nbformat_minor": 5
}
