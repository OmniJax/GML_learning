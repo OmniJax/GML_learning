{
 "cells": [
  {
   "cell_type": "code",
   "execution_count": 1,
   "id": "8ec6944b-ea0c-4b8b-97b9-ebbf6d9e13e0",
   "metadata": {},
   "outputs": [],
   "source": [
    "import os\n",
    "\n",
    "import matplotlib.pyplot as plt\n",
    "import networkx as nx\n",
    "import torch\n",
    "import torch.nn as nn\n",
    "import torch.nn.functional as F\n",
    "\n",
    "os.environ[\"KMP_DUPLICATE_LIB_OK\"] = \"TRUE\"\n",
    "\n",
    "from torch_geometric.data import Data\n",
    "from torch_geometric.nn import MessagePassing\n",
    "from torch_geometric.utils import add_self_loops, degree, remove_self_loops\n",
    "from torch_geometric.utils import softmax as edge_softmax\n",
    "from torch_geometric.utils import to_networkx\n",
    "from torch_scatter import scatter"
   ]
  },
  {
   "cell_type": "code",
   "execution_count": 2,
   "id": "467e5e4a-98f9-4225-855e-041103fac511",
   "metadata": {
    "jupyter": {
     "source_hidden": true
    }
   },
   "outputs": [
    {
     "name": "stdout",
     "output_type": "stream",
     "text": [
      "Data(x=[6, 4], edge_index=[2, 8], edge_attr=[8])\n"
     ]
    },
    {
     "data": {
      "image/png": "[encoded data removed]",
      "text/plain": [
       "<Figure size 200x200 with 1 Axes>"
      ]
     },
     "metadata": {},
     "output_type": "display_data"
    }
   ],
   "source": [
    "# # 定义图\n",
    "# edge_index = torch.LongTensor(\n",
    "#     [\n",
    "#         [0, 0, 1, 2, 4, 4, 4, 5],\n",
    "#         [1, 2, 2, 3, 0, 2, 3, 1],\n",
    "#     ]\n",
    "# )\n",
    "# feat = torch.FloatTensor(\n",
    "#     [\n",
    "#         [0, 0, 0, 0],\n",
    "#         [1, 1, 1, 1],\n",
    "#         [2, 2, 2, 2],\n",
    "#         [3, 3, 3, 3],\n",
    "#         [4, 4, 4, 4],\n",
    "#         [5, 5, 5, 5],\n",
    "#     ]\n",
    "# )\n",
    "# data = Data(x=feat, edge_index=edge_index)\n",
    "# edge_attr = torch.ones(data.num_edges) * 2\n",
    "# data.edge_attr = edge_attr\n",
    "\n",
    "# in_feats = data.num_features\n",
    "# out_feats = 3\n",
    "\n",
    "# print(data)\n",
    "# nxg = to_networkx(data)\n",
    "# plt.figure(figsize=(2, 2))\n",
    "# nx.draw(nxg, pos=nx.spring_layout(nxg), with_labels=True)"
   ]
  },
  {
   "cell_type": "code",
   "execution_count": null,
   "id": "521b962f-f54e-4eab-8766-1ee372a9a30c",
   "metadata": {},
   "outputs": [],
   "source": []
  },
  {
   "cell_type": "markdown",
   "id": "f69b8750-c06e-487f-a6cc-424e57b98667",
   "metadata": {},
   "source": [
    "# Link prediction"
   ]
  },
  {
   "cell_type": "markdown",
   "id": "ae6b6149-be2b-49af-8b2b-e3d13c312568",
   "metadata": {},
   "source": [
    "## 数据集"
   ]
  },
  {
   "cell_type": "code",
   "execution_count": 2,
   "id": "1eca9dcc-bf8e-4af4-96eb-5bb5b336bec3",
   "metadata": {},
   "outputs": [],
   "source": [
    "import torch_geometric.transforms as T\n",
    "from torch_geometric.datasets import Planetoid\n",
    "from torch_geometric.transforms import NormalizeFeatures"
   ]
  },
  {
   "cell_type": "code",
   "execution_count": 3,
   "id": "c5f5ba63-134e-4f4f-923f-fbabe7c155d3",
   "metadata": {},
   "outputs": [
    {
     "name": "stdout",
     "output_type": "stream",
     "text": [
      "Dataset: CiteSeer():\n",
      "======================\n",
      "Number of graphs: 1\n",
      "Number of features: 3703\n",
      "Number of classes: 6\n"
     ]
    }
   ],
   "source": [
    "device = \"cuda\"\n",
    "transform = T.Compose(\n",
    "    [\n",
    "        T.NormalizeFeatures(),\n",
    "        T.ToDevice(device),\n",
    "        T.RandomLinkSplit(num_test=0.2,num_val=0, add_negative_train_samples=True),\n",
    "    ]\n",
    ")\n",
    "dataset = Planetoid(root=\"./data/Planetoid\", name=\"CiteSeer\", transform=transform)\n",
    "\n",
    "print(f\"Dataset: {dataset}:\")\n",
    "print(\"======================\")\n",
    "print(f\"Number of graphs: {len(dataset)}\")\n",
    "print(f\"Number of features: {dataset.num_features}\")\n",
    "print(f\"Number of classes: {dataset.num_classes}\")"
   ]
  },
  {
   "cell_type": "markdown",
   "id": "10f6fb84-7208-444a-99ac-5a4ca33ba8ce",
   "metadata": {},
   "source": [
    "不拆\n",
    "- Data(x=[3327, 3703], edge_index=[2, 9104], y=[3327], train_mask=[3327], val_mask=[3327], test_mask=[3327])\n",
    "\n",
    "\n",
    "拆但是不加负边\n",
    "- Data(x=[3327, 3703], edge_index=[2, 7284], y=[3327], train_mask=[3327], val_mask=[3327], test_mask=[3327], edge_label=[7284], edge_label_index=[2, 7284])\n",
    "- Data(x=[3327, 3703], edge_index=[2, 7284], y=[3327], train_mask=[3327], val_mask=[3327], test_mask=[3327], edge_label=[1820], edge_label_index=[2, 1820])\n",
    "- Data(x=[3327, 3703], edge_index=[2, 8194], y=[3327], train_mask=[3327], val_mask=[3327], test_mask=[3327], edge_label=[1820], edge_label_index=[2, 1820])\n",
    "\n",
    "\n",
    "拆且加负边\n",
    "- Data(x=[3327, 3703], edge_index=[2, 7284], y=[3327], train_mask=[3327], val_mask=[3327], test_mask=[3327], edge_label=[14568], edge_label_index=[2, 14568])\n",
    "- Data(x=[3327, 3703], edge_index=[2, 7284], y=[3327], train_mask=[3327], val_mask=[3327], test_mask=[3327], edge_label=[1820], edge_label_index=[2, 1820])\n",
    "- Data(x=[3327, 3703], edge_index=[2, 8194], y=[3327], train_mask=[3327], val_mask=[3327], test_mask=[3327], edge_label=[1820], edge_label_index=[2, 1820])\n",
    "\n",
    "\n",
    "\n",
    "\n",
    "edge_label=1/0 表示正边和负边<br>\n",
    "edge_index 是原始图的边<br>\n",
    "edge_label_index 是加上负边之后的边<br>\n",
    "\n",
    "```python\n",
    "positive edge:\n",
    " tensor([[1422,  205,   27,  ...,   83, 2126, 1558],\n",
    "        [2181,  783,  755,  ...,  584,  626, 2331]])\n",
    "        \n",
    "negative edge:\n",
    " tensor([[ 450, 1854, 3065,  ..., 2952,  529, 1468],\n",
    "        [1263, 2073,  909,  ...,  502, 1698, 3210]])\n",
    "```"
   ]
  },
  {
   "cell_type": "code",
   "execution_count": 4,
   "id": "48c7a4b2-1a64-4b60-b7dc-fd2362077006",
   "metadata": {},
   "outputs": [],
   "source": [
    "train_data, val_data, test_data = dataset[0]"
   ]
  },
  {
   "cell_type": "code",
   "execution_count": null,
   "id": "199ad3c7-41cb-426a-860b-9e9a69c217ce",
   "metadata": {
    "scrolled": true
   },
   "outputs": [],
   "source": []
  },
  {
   "cell_type": "code",
   "execution_count": null,
   "id": "8b5acdbf-8719-4573-a65a-be21e8bb4c76",
   "metadata": {},
   "outputs": [],
   "source": []
  },
  {
   "cell_type": "markdown",
   "id": "2a350eaf-60b8-4900-b7ac-486e85969b4e",
   "metadata": {},
   "source": [
    "## SAGEConv"
   ]
  },
  {
   "cell_type": "code",
   "execution_count": 5,
   "id": "404ae3a7-afbe-4c19-a50d-4680d23c22c9",
   "metadata": {},
   "outputs": [],
   "source": [
    "class mySAGEConv(MessagePassing):\n",
    "    def __init__(self, in_feats, out_feats):\n",
    "        super(mySAGEConv, self).__init__(aggr=\"mean\")\n",
    "        self.W = nn.Linear(2 * in_feats, out_feats, bias=False)\n",
    "\n",
    "        self.reset_parameters()\n",
    "\n",
    "    def reset_parameters(self):\n",
    "        nn.init.xavier_uniform_(self.W.weight)\n",
    "\n",
    "    def forward(self, x, edge_index):\n",
    "        hN = self.propagate(edge_index, x=x)\n",
    "        h_cat = torch.cat([x, hN], dim=1)\n",
    "\n",
    "        h = self.W(h_cat)\n",
    "        h = F.normalize(h, dim=1)\n",
    "        return h\n",
    "\n",
    "    def message(self, x_j, edge_index):\n",
    "        return x_j"
   ]
  },
  {
   "cell_type": "markdown",
   "id": "462ebbbf-3382-43da-8c1f-f9a88c46e259",
   "metadata": {},
   "source": [
    "## SAGE_LP"
   ]
  },
  {
   "cell_type": "code",
   "execution_count": 6,
   "id": "d99155a8-c731-4b1c-a861-0854d998b2c4",
   "metadata": {},
   "outputs": [],
   "source": [
    "class SAGE_LP(nn.Module):\n",
    "    def __init__(self, in_feats, hid_feats, out_feats):\n",
    "        super(SAGE_LP, self).__init__()\n",
    "        self.conv1 = mySAGEConv(in_feats, hid_feats)\n",
    "        self.conv2 = mySAGEConv(hid_feats, out_feats)\n",
    "\n",
    "        self.lin1 = nn.Linear(out_feats * 2, out_feats)\n",
    "        self.lin2 = nn.Linear(out_feats, 1)\n",
    "\n",
    "        self.reset_parameters()\n",
    "\n",
    "    def reset_parameters(self):\n",
    "        nn.init.xavier_uniform_(self.lin1.weight)\n",
    "        nn.init.xavier_uniform_(self.lin2.weight)\n",
    "\n",
    "    def encode(self, x, edge_index):\n",
    "        # encode 使用edge_index，使用原图的连接信息\n",
    "        x = self.conv1(x, edge_index).relu()\n",
    "        x = self.conv2(x, edge_index)\n",
    "        return x\n",
    "\n",
    "    def decode(self, h, edge_label_index):\n",
    "        # decode，使用edge_label_index，带有正负边的信息\n",
    "        src = h[edge_label_index[0]]\n",
    "        dst = h[edge_label_index[1]]\n",
    "\n",
    "        h = self.lin1(torch.cat([src, dst], dim=1)).relu()\n",
    "        h = self.lin2(h)\n",
    "        return h\n",
    "\n",
    "    def forward(self, x, edge_index, edge_label_index):\n",
    "        h = self.encode(x, edge_index)\n",
    "        return self.decode(h, edge_label_index)"
   ]
  },
  {
   "cell_type": "markdown",
   "id": "7c38257b-1b9e-4fbc-8948-acfc69503761",
   "metadata": {},
   "source": [
    "## 训练和测试"
   ]
  },
  {
   "cell_type": "code",
   "execution_count": 21,
   "id": "f75e2aa4-4afe-4236-9364-76a3907d8ccd",
   "metadata": {},
   "outputs": [],
   "source": [
    "from sklearn.metrics import (\n",
    "    accuracy_score,\n",
    "    f1_score,\n",
    "    precision_recall_curve,\n",
    "    roc_auc_score,\n",
    ")\n",
    "\n",
    "\n",
    "def test(data):\n",
    "    with torch.no_grad():\n",
    "        model.eval()\n",
    "        logits = model.forward(data.x, data.edge_index, data.edge_label_index).cpu()\n",
    "        labels = data.edge_label.int().cpu()\n",
    "\n",
    "        pred = (logits > 0) \n",
    "\n",
    "        acc = accuracy_score(pred, labels)\n",
    "        f1 = f1_score(pred, labels)\n",
    "        auc = roc_auc_score(labels, logits)\n",
    "\n",
    "        return acc, f1, auc\n",
    "\n",
    "\n",
    "def train():\n",
    "    model.train()\n",
    "    optimizer.zero_grad()\n",
    "    logits = model(\n",
    "        train_data.x, train_data.edge_index, train_data.edge_label_index\n",
    "    ).squeeze()\n",
    "    labels = train_data.edge_label\n",
    "\n",
    "    loss = criterion(logits, labels)\n",
    "    loss.backward()\n",
    "    optimizer.step()\n",
    "    return loss"
   ]
  },
  {
   "cell_type": "code",
   "execution_count": 12,
   "id": "40574506-8494-4638-b687-677843dc27b0",
   "metadata": {},
   "outputs": [],
   "source": [
    "in_feats = train_data.num_features\n",
    "hid_feats = 128\n",
    "out_feats = 64\n",
    "\n",
    "model = SAGE_LP(in_feats, hid_feats, out_feats).to(device)\n",
    "optimizer = torch.optim.Adam(model.parameters(), lr=0.01)\n",
    "criterion = F.binary_cross_entropy_with_logits"
   ]
  },
  {
   "cell_type": "code",
   "execution_count": null,
   "id": "a82a1b95-715d-493c-ad97-b0c597f9e841",
   "metadata": {},
   "outputs": [],
   "source": []
  },
  {
   "cell_type": "code",
   "execution_count": 13,
   "id": "0b9bfc0c-35cc-407b-8b2f-dd09c4e7ce4e",
   "metadata": {},
   "outputs": [
    {
     "name": "stdout",
     "output_type": "stream",
     "text": [
      "epoch 0, loss: 0.693185\n",
      "epoch 10, loss: 0.456254\n",
      "epoch 20, loss: 0.268845\n",
      "epoch 30, loss: 0.126901\n",
      "epoch 40, loss: 0.050405\n",
      "epoch 50, loss: 0.019919\n",
      "epoch 60, loss: 0.009175\n",
      "epoch 70, loss: 0.005214\n",
      "epoch 80, loss: 0.003485\n",
      "epoch 90, loss: 0.002584\n",
      "epoch 100, loss: 0.002045\n"
     ]
    }
   ],
   "source": [
    "for e in range(101):\n",
    "    loss = train()\n",
    "        \n",
    "    if e % 10 == 0:\n",
    "        # print(f\"epoch {e}, loss: {loss:.6f}, AUC: {test():.6f}\")\n",
    "        print(f\"epoch {e}, loss: {loss:.6f}\")"
   ]
  },
  {
   "cell_type": "code",
   "execution_count": 22,
   "id": "881c2f19-e742-43b0-9d59-50971c9595cb",
   "metadata": {},
   "outputs": [
    {
     "name": "stdout",
     "output_type": "stream",
     "text": [
      "train: acc, f1, auc:  (1.0, 1.0, 1.0)\n"
     ]
    }
   ],
   "source": [
    "print('train: acc, f1, auc: ',test(train_data)) \n"
   ]
  },
  {
   "cell_type": "code",
   "execution_count": 23,
   "id": "558f73d3-c8a1-4c47-a7f8-df4ee0e223ac",
   "metadata": {},
   "outputs": [
    {
     "name": "stdout",
     "output_type": "stream",
     "text": [
      "train: acc, f1, auc:  (0.7175824175824176, 0.7110736368746486, 0.7773101074749427)\n"
     ]
    }
   ],
   "source": [
    "print('train: acc, f1, auc: ',test(test_data)) "
   ]
  },
  {
   "cell_type": "code",
   "execution_count": null,
   "id": "7dc6a23b-6cf6-48c3-9b1c-cf6b2da80e0c",
   "metadata": {},
   "outputs": [],
   "source": []
  },
  {
   "cell_type": "code",
   "execution_count": null,
   "id": "d965b901-237e-4126-8be1-661410f9c9f3",
   "metadata": {},
   "outputs": [],
   "source": []
  },
  {
   "cell_type": "code",
   "execution_count": null,
   "id": "516cc7ff-25f0-4622-bc54-c5937e6a56ea",
   "metadata": {},
   "outputs": [],
   "source": []
  },
  {
   "cell_type": "code",
   "execution_count": null,
   "id": "92bc9389-6da2-49b3-a0c6-bc15c4ef7ca5",
   "metadata": {},
   "outputs": [],
   "source": [
    "# Graph prediction"
   ]
  },
  {
   "cell_type": "code",
   "execution_count": null,
   "id": "d26c4fcd-d430-4df7-866f-2747065dfa78",
   "metadata": {},
   "outputs": [],
   "source": []
  }
 ],
 "metadata": {
  "kernelspec": {
   "display_name": "GML",
   "language": "python",
   "name": "gml"
  },
  "language_info": {
   "codemirror_mode": {
    "name": "ipython",
    "version": 3
   },
   "file_extension": ".py",
   "mimetype": "text/x-python",
   "name": "python",
   "nbconvert_exporter": "python",
   "pygments_lexer": "ipython3",
   "version": "3.8.19"
  }
 },
 "nbformat": 4,
 "nbformat_minor": 5
}
