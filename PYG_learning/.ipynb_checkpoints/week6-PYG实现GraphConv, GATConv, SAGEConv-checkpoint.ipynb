{
 "cells": [
  {
   "cell_type": "markdown",
   "id": "7a7be480-c1f3-47b4-bf94-bebc1ccfa606",
   "metadata": {
    "id": "YqM5Z7qKUgqS"
   },
   "source": [
    "In this week, you are required to implement a toy GATConv and SAGEConv based on document. Also, you need to implement both in PyG and DGL. In this work, you will get a further understanding of tensor-centric in PyG and graph-centric in DGL.."
   ]
  },
  {
   "cell_type": "markdown",
   "id": "f218c343-262d-4a39-bf27-0eb2b910fd1b",
   "metadata": {
    "id": "xeuAiMpRU719"
   },
   "source": [
    "## PYG"
   ]
  },
  {
   "cell_type": "code",
   "execution_count": null,
   "id": "4e948b15-9e4c-46f0-93b7-de2cb2ab3b84",
   "metadata": {
    "id": "mclJkxgsUbRY"
   },
   "outputs": [],
   "source": [
    "import dgl\n",
    "import dgl.function as fn\n",
    "import numpy as np\n",
    "import torch\n",
    "import torch.nn as nn\n",
    "from torch_geometric.nn.conv import MessagePassing\n",
    "\n",
    "\n",
    "class PyG_GATConv(MessagePassing):\n",
    "    def __init__(self, in_channel, out_channel):\n",
    "        pass\n",
    "\n",
    "    def forward(x, edge_index):\n",
    "        pass\n",
    "\n",
    "    def message(x, edge_index):\n",
    "        pass\n",
    "\n",
    "\n",
    "class PyG_SAGEConv(MessagePassing):\n",
    "    def __init__(self, in_channel, out_channel):\n",
    "        pass\n",
    "\n",
    "    def forward(x, edge_index):\n",
    "        pass\n",
    "\n",
    "    def message(x, edge_index):\n",
    "        pass"
   ]
  },
  {
   "cell_type": "code",
   "execution_count": null,
   "id": "ad70ebd5-765b-4629-a833-d110afe8e840",
   "metadata": {},
   "outputs": [],
   "source": []
  },
  {
   "cell_type": "code",
   "execution_count": null,
   "id": "fd703148-e604-4492-82f9-e6ec250912c4",
   "metadata": {},
   "outputs": [],
   "source": []
  },
  {
   "cell_type": "code",
   "execution_count": null,
   "id": "01cb413f-9952-47f7-acce-09862ac56841",
   "metadata": {},
   "outputs": [],
   "source": []
  },
  {
   "cell_type": "code",
   "execution_count": null,
   "id": "5eef8e4f-8771-47ad-8d17-c0aaa8a09241",
   "metadata": {},
   "outputs": [],
   "source": []
  },
  {
   "cell_type": "code",
   "execution_count": null,
   "id": "8a744d05-b829-4f68-a7f3-254d4846683e",
   "metadata": {},
   "outputs": [],
   "source": []
  },
  {
   "cell_type": "code",
   "execution_count": null,
   "id": "71cdd66a-b80e-4c08-b1ea-d36b9cea6c12",
   "metadata": {},
   "outputs": [],
   "source": []
  },
  {
   "cell_type": "code",
   "execution_count": null,
   "id": "8399ad00-b6e9-49e3-b2c4-fee160f7e2d7",
   "metadata": {},
   "outputs": [],
   "source": []
  },
  {
   "cell_type": "code",
   "execution_count": null,
   "id": "63ab02cd-8e86-41fd-ba05-f4b2dac10e79",
   "metadata": {},
   "outputs": [],
   "source": []
  }
 ],
 "metadata": {
  "kernelspec": {
   "display_name": "GML",
   "language": "python",
   "name": "gml"
  },
  "language_info": {
   "codemirror_mode": {
    "name": "ipython",
    "version": 3
   },
   "file_extension": ".py",
   "mimetype": "text/x-python",
   "name": "python",
   "nbconvert_exporter": "python",
   "pygments_lexer": "ipython3",
   "version": "3.8.19"
  }
 },
 "nbformat": 4,
 "nbformat_minor": 5
}
