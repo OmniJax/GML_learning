{
 "cells": [
  {
   "cell_type": "code",
   "execution_count": null,
   "id": "11226c02-57de-4ef5-a816-f1c385dda736",
   "metadata": {},
   "outputs": [],
   "source": []
  },
  {
   "cell_type": "markdown",
   "id": "0231894a-4ce1-43db-8b3d-9e288916e464",
   "metadata": {},
   "source": [
    "## PYG"
   ]
  },
  {
   "cell_type": "markdown",
   "id": "76d5a826-daad-4abb-a30a-c39e79e721c5",
   "metadata": {
    "id": "AlNTfUPr23ZK"
   },
   "source": [
    "In this work, you will use the APIs of PyG and DGL to implement some basic functions."
   ]
  },
  {
   "cell_type": "markdown",
   "id": "940af027-6e64-49b8-9706-b31cde879535",
   "metadata": {
    "id": "JaQosFNq8NdN"
   },
   "source": [
    "You need to run the following commands to install the GNN libraries (Only CPU version)."
   ]
  },
  {
   "cell_type": "markdown",
   "id": "24dac730-cf0b-4a1d-897f-09f535dc466c",
   "metadata": {
    "id": "aDRLr_Ot6-gE"
   },
   "source": [
    "The most popular GNN models can be written as follows:\n",
    "\n",
    "$$\n",
    "h_i^{(l+1)}=\\sigma(b^{(l)}+\\sum_{j\\in\\mathcal{N}(i)}e_{ij}h_j^{(l)}W^{(l)})\n",
    "$$\n",
    "\n",
    "where $h_i^{(l+1)}$ is the output feature, $\\sigma$ is the activation function, $e_{ij}$ is the edge weight, $W^{(l)}$ is the learnable parameters, $b^{(l)\n",
    "}$ is the bias.\n",
    "\n",
    "First, you will use the PyTorch-Geometric(PyG) to implement this convolution layer."
   ]
  },
  {
   "cell_type": "code",
   "execution_count": 1,
   "id": "55dc05b0-f4dc-4d5f-80ec-0760bc9018b4",
   "metadata": {
    "id": "RAQfM5GS2qlv"
   },
   "outputs": [],
   "source": [
    "import torch\n",
    "import torch.nn as nn\n",
    "from torch_geometric.nn.conv import MessagePassing\n",
    "\n",
    "\n",
    "class PyG_conv(MessagePassing):\n",
    "    def __init__(\n",
    "        self,\n",
    "        in_channel,\n",
    "        out_channel,\n",
    "    ):\n",
    "        self.in_channel = in_channel\n",
    "        self.out_channel = out_channel\n",
    "        self.W = nn.Parameter(torch.ones((in_channel, out_channel)))\n",
    "        self.b = nn.Parameter(torch.ones(out_channel))\n",
    "\n",
    "    def forward(x, edge_index, edge_weight):\n",
    "        # Your code here\n",
    "        pass\n",
    "        # End code here\n",
    "\n",
    "    def message(x, edge_weight):\n",
    "        # Your code here\n",
    "        pass\n",
    "        # End code here"
   ]
  },
  {
   "cell_type": "markdown",
   "id": "8f1a0f5a-6ea5-4624-8d6a-cad83425d8f8",
   "metadata": {
    "id": "xmxHSrJkH_xe"
   },
   "source": [
    "You may run the following code to check the correctness."
   ]
  },
  {
   "cell_type": "code",
   "execution_count": 4,
   "id": "b4037e49-192f-4989-ad03-5635bbc1e550",
   "metadata": {
    "id": "ov24C3_hH-Sc"
   },
   "outputs": [],
   "source": [
    "import numpy as np\n",
    "\n",
    "edge_index = torch.tensor([[0, 1, 1, 2, 2, 4], [2, 0, 2, 3, 4, 3]])\n",
    "x = torch.ones((5, 8))\n",
    "edge_weight = 2 * torch.ones(6)\n",
    "conv = PyG_conv(8, 4)\n",
    "output = conv(x, edge_index, edge_weight)\n",
    "assert np.allclose(\n",
    "    output.detach().numpy(),\n",
    "    [\n",
    "        [17.0, 17.0, 17.0, 17.0],\n",
    "        [1.0, 1.0, 1.0, 1.0],\n",
    "        [33.0, 33.0, 33.0, 33.0],\n",
    "        [33.0, 33.0, 33.0, 33.0],\n",
    "        [17.0, 17.0, 17.0, 17.0],\n",
    "    ],\n",
    ")"
   ]
  },
  {
   "cell_type": "code",
   "execution_count": null,
   "id": "e015bb12-d850-43f4-b490-9eba9aff29aa",
   "metadata": {},
   "outputs": [],
   "source": []
  }
 ],
 "metadata": {
  "kernelspec": {
   "display_name": "GML",
   "language": "python",
   "name": "gml"
  },
  "language_info": {
   "codemirror_mode": {
    "name": "ipython",
    "version": 3
   },
   "file_extension": ".py",
   "mimetype": "text/x-python",
   "name": "python",
   "nbconvert_exporter": "python",
   "pygments_lexer": "ipython3",
   "version": "3.8.19"
  }
 },
 "nbformat": 4,
 "nbformat_minor": 5
}
