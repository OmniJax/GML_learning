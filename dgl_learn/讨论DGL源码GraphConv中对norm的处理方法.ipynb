{
 "cells": [
  {
   "cell_type": "code",
   "execution_count": 2,
   "id": "b032f329-30f6-4c27-b2e9-e6c95b07084c",
   "metadata": {},
   "outputs": [],
   "source": [
    "import dgl\n",
    "import dgl.function as fn\n",
    "import numpy as np\n",
    "import torch\n",
    "import torch.nn as nn"
   ]
  },
  {
   "cell_type": "markdown",
   "id": "475c20a0-69b3-47fb-b63a-8a4df1017b3c",
   "metadata": {},
   "source": [
    "\n",
    "$$\n",
    "  h_i^{(l+1)} = \\sigma(b^{(l)} + \\sum_{j\\in\\mathcal{N}(i)}\\frac{e_{ji}}{c_{ji}}h_j^{(l)}W^{(l)})\n",
    "$$\n",
    "\n",
    "$$\n",
    "(i.e.,  c_{ji} = \\sqrt{|\\mathcal{N}(j)|}\\sqrt{|\\mathcal{N}(i)|})\n",
    "$$\n"
   ]
  },
  {
   "cell_type": "code",
   "execution_count": 3,
   "id": "a419f8ea-fa92-45d7-ac93-9821b3115ef5",
   "metadata": {},
   "outputs": [
    {
     "data": {
      "text/plain": [
       "Graph(num_nodes=5, num_edges=6,\n",
       "      ndata_schemes={'node_feat': Scheme(shape=(8,), dtype=torch.float32)}\n",
       "      edata_schemes={'edge_weight': Scheme(shape=(), dtype=torch.float32)})"
      ]
     },
     "execution_count": 3,
     "metadata": {},
     "output_type": "execute_result"
    }
   ],
   "source": [
    "src = torch.tensor([0, 1, 1, 2, 2, 4])\n",
    "dst = torch.tensor([2, 0, 2, 3, 4, 3])\n",
    "node_feat = torch.ones((5, 8))\n",
    "edge_weight = 2 * torch.ones(6)\n",
    "g = dgl.graph((src, dst))\n",
    "\n",
    "g.edata[\"edge_weight\"] = edge_weight\n",
    "g.ndata[\"node_feat\"] = node_feat\n",
    "\n",
    "\n",
    "weight = torch.ones(8, 4)\n",
    "g\n",
    "\n"
   ]
  },
  {
   "cell_type": "markdown",
   "id": "bb992dbb-a90b-4df6-b78b-feef466ecb62",
   "metadata": {},
   "source": [
    "### 先W再e"
   ]
  },
  {
   "cell_type": "code",
   "execution_count": 12,
   "id": "3eb66223-1ec9-45b8-a34b-9fe9dae00d39",
   "metadata": {},
   "outputs": [
    {
     "name": "stdout",
     "output_type": "stream",
     "text": [
      "tensor([[11.3137, 11.3137, 11.3137, 11.3137],\n",
      "        [ 0.0000,  0.0000,  0.0000,  0.0000],\n",
      "        [19.3137, 19.3137, 19.3137, 19.3137],\n",
      "        [19.3137, 19.3137, 19.3137, 19.3137],\n",
      "        [11.3137, 11.3137, 11.3137, 11.3137]])\n"
     ]
    }
   ],
   "source": [
    "feat_src, feat_dst = dgl.utils.expand_as_pair(node_feat, g)\n",
    "\n",
    "norm_src = g.out_degrees().clamp(min=1).view(-1, 1)\n",
    "norm_src = torch.pow(norm_src, -0.5)\n",
    "feat_src = feat_src * norm_src\n",
    "\n",
    "norm_dst = g.in_degrees().clamp(min=1).view(-1, 1)\n",
    "norm_dst = torch.pow(norm_dst, -0.5)\n",
    "\n",
    "with g.local_scope():\n",
    "    # 先w再e\n",
    "    feat_src = torch.matmul(feat_src, weight)\n",
    "    g.srcdata[\"u\"] = feat_src\n",
    "    g.update_all(\n",
    "        message_func=fn.u_mul_e(\"u\", \"edge_weight\", \"ue\"),\n",
    "        reduce_func=fn.sum(\"ue\", \"ueN\"),\n",
    "    )\n",
    "    ueN = g.dstdata[\"ueN\"]\n",
    "    rst = ueN * norm_dst\n",
    "    print(rst)"
   ]
  },
  {
   "cell_type": "code",
   "execution_count": null,
   "id": "3c76f74f-81dd-49d6-b9e9-9ebaad693b23",
   "metadata": {},
   "outputs": [],
   "source": []
  },
  {
   "cell_type": "markdown",
   "id": "43a980a7-930e-42d1-bb37-0956f26097bf",
   "metadata": {},
   "source": [
    "### 先e再W"
   ]
  },
  {
   "cell_type": "code",
   "execution_count": 13,
   "id": "ffcaeb38-b4d5-46cc-951c-128b4389e035",
   "metadata": {},
   "outputs": [
    {
     "name": "stdout",
     "output_type": "stream",
     "text": [
      "tensor([[11.3137, 11.3137, 11.3137, 11.3137],\n",
      "        [ 0.0000,  0.0000,  0.0000,  0.0000],\n",
      "        [19.3137, 19.3137, 19.3137, 19.3137],\n",
      "        [19.3137, 19.3137, 19.3137, 19.3137],\n",
      "        [11.3137, 11.3137, 11.3137, 11.3137]])\n"
     ]
    }
   ],
   "source": [
    "feat_src, feat_dst = dgl.utils.expand_as_pair(node_feat, g)\n",
    "\n",
    "norm_src = g.out_degrees().clamp(min=1).view(-1, 1)\n",
    "norm_src = torch.pow(norm_src, -0.5)\n",
    "feat_src = feat_src * norm_src\n",
    "\n",
    "norm_dst = g.in_degrees().clamp(min=1).view(-1, 1)\n",
    "norm_dst = torch.pow(norm_dst, -0.5)\n",
    "\n",
    "with g.local_scope():\n",
    "    # 先e再w\n",
    "    g.srcdata[\"u\"] = feat_src\n",
    "    g.update_all(\n",
    "        message_func=fn.u_mul_e(\"u\", \"edge_weight\", \"ue\"),\n",
    "        reduce_func=fn.sum(\"ue\", \"ueN\"),\n",
    "    )\n",
    "    ueN = g.dstdata[\"ueN\"]\n",
    "    ueN = ueN @ weight\n",
    "    rst = ueN * norm_dst\n",
    "    print(rst)"
   ]
  },
  {
   "cell_type": "markdown",
   "id": "98ae0d31-3742-4e09-85c7-7a2257244fd5",
   "metadata": {},
   "source": [
    "\n",
    "先w再e和先e再w的结果是一样的\n",
    "\n",
    "如果out_feat更小的话可以先w，将维度缩小,减小update负担\n",
    "\n",
    "边的个数和节点个数不一样相同，所以h和e不能相乘，对于edge_weight的计算只能放在message_func里\n",
    "\n",
    "\n"
   ]
  },
  {
   "cell_type": "code",
   "execution_count": null,
   "id": "0b63060d-7ead-4972-8afa-dc61d125416d",
   "metadata": {},
   "outputs": [],
   "source": []
  },
  {
   "cell_type": "code",
   "execution_count": null,
   "id": "ccfab898-9876-4d6d-859e-23daf8a48fb2",
   "metadata": {},
   "outputs": [],
   "source": []
  },
  {
   "cell_type": "code",
   "execution_count": null,
   "id": "e59b2f8a-2491-46ef-a34d-2b79d9dcc875",
   "metadata": {},
   "outputs": [],
   "source": []
  },
  {
   "cell_type": "code",
   "execution_count": null,
   "id": "d91e304a-1659-429c-82b4-24aa52f43617",
   "metadata": {},
   "outputs": [],
   "source": []
  },
  {
   "cell_type": "code",
   "execution_count": null,
   "id": "3a8890d6-3f29-4475-8336-2a6cdfc52ba1",
   "metadata": {},
   "outputs": [],
   "source": []
  },
  {
   "cell_type": "code",
   "execution_count": null,
   "id": "900f8f55-9c75-4f20-841d-13b6e0a25e94",
   "metadata": {},
   "outputs": [],
   "source": []
  },
  {
   "cell_type": "code",
   "execution_count": 15,
   "id": "54eba1b9-bdf7-4118-b598-ca18ff1f1bb0",
   "metadata": {},
   "outputs": [
    {
     "name": "stdout",
     "output_type": "stream",
     "text": [
      "tensor([[11.3137, 11.3137, 11.3137, 11.3137],\n",
      "        [ 0.0000,  0.0000,  0.0000,  0.0000],\n",
      "        [27.3137, 27.3137, 27.3137, 27.3137],\n",
      "        [24.0000, 24.0000, 24.0000, 24.0000],\n",
      "        [ 8.0000,  8.0000,  8.0000,  8.0000]])\n"
     ]
    }
   ],
   "source": [
    "with g.local_scope():\n",
    "    feat = g.ndata[\"node_feat\"]\n",
    "    norm_src = g.out_degrees().clamp(min=1).view(-1, 1)\n",
    "    norm_src = torch.pow(norm_src, -0.5)\n",
    "    norm_dst = g.in_degrees().clamp(min=1).view(-1, 1)\n",
    "    norm_dst = torch.pow(norm_dst, -0.5)\n",
    "\n",
    "    norm_dst = g.in_degrees().clamp(min=1).view(-1, 1)\n",
    "    norm_dst = torch.pow(norm_dst, -0.5)\n",
    "\n",
    "    feat = norm_src*feat * norm_dst   # 先左右norm\n",
    "    feat = feat @ weight\n",
    "\n",
    "    g.srcdata[\"h\"] = feat\n",
    "    g.update_all(fn.u_mul_e(\"h\", \"edge_weight\", \"e\"), fn.sum(\"e\", \"rst\"))\n",
    "    print(g.dstdata[\"rst\"])"
   ]
  },
  {
   "cell_type": "markdown",
   "id": "417307c5-4595-47fa-81dc-25fa35ea15b0",
   "metadata": {},
   "source": [
    "GraphConv源码中\n",
    "\n",
    "norm='left'，则feat在update前就除以出度\n",
    "\n",
    "norm='right' 则feat在update后，聚合后再除以入度\n"
   ]
  },
  {
   "cell_type": "code",
   "execution_count": null,
   "id": "837f4770-1ad1-4590-916e-8de786f9a890",
   "metadata": {},
   "outputs": [],
   "source": []
  },
  {
   "cell_type": "markdown",
   "id": "e8343634-f636-41ef-b6cd-4e7eb686e74d",
   "metadata": {},
   "source": [
    "### 广播机制"
   ]
  },
  {
   "cell_type": "code",
   "execution_count": 9,
   "id": "12e6a6f2-cb19-4e04-8799-7b0bc109324a",
   "metadata": {},
   "outputs": [
    {
     "name": "stdout",
     "output_type": "stream",
     "text": [
      "tensor([[0.3448, 0.1653, 0.1128, 0.3524],\n",
      "        [0.0084, 0.0015, 0.0096, 0.0123],\n",
      "        [0.2084, 0.2699, 0.1647, 0.0399],\n",
      "        [0.0158, 0.0080, 0.0060, 0.0206],\n",
      "        [0.0060, 0.0685, 0.0762, 0.0077]])\n",
      "tensor([[0.3448, 0.1653, 0.1128, 0.3524],\n",
      "        [0.0084, 0.0015, 0.0096, 0.0123],\n",
      "        [0.2084, 0.2699, 0.1647, 0.0399],\n",
      "        [0.0158, 0.0080, 0.0060, 0.0206],\n",
      "        [0.0060, 0.0685, 0.0762, 0.0077]])\n",
      "tensor([[0.3448, 0.1653, 0.1128, 0.3524],\n",
      "        [0.0084, 0.0015, 0.0096, 0.0123],\n",
      "        [0.2084, 0.2699, 0.1647, 0.0399],\n",
      "        [0.0158, 0.0080, 0.0060, 0.0206],\n",
      "        [0.0060, 0.0685, 0.0762, 0.0077]])\n",
      "tensor([[0.3448, 0.1653, 0.1128, 0.3524],\n",
      "        [0.0084, 0.0015, 0.0096, 0.0123],\n",
      "        [0.2084, 0.2699, 0.1647, 0.0399],\n",
      "        [0.0158, 0.0080, 0.0060, 0.0206],\n",
      "        [0.0060, 0.0685, 0.0762, 0.0077]])\n",
      "tensor([[0.3448, 0.1653, 0.1128, 0.3524],\n",
      "        [0.0084, 0.0015, 0.0096, 0.0123],\n",
      "        [0.2084, 0.2699, 0.1647, 0.0399],\n",
      "        [0.0158, 0.0080, 0.0060, 0.0206],\n",
      "        [0.0060, 0.0685, 0.0762, 0.0077]])\n"
     ]
    }
   ],
   "source": [
    "import torch\n",
    "\n",
    "w = torch.rand(5, 4)\n",
    "l = torch.rand(5).reshape(-1, 1)\n",
    "r = torch.rand(5).reshape(-1, 1)\n",
    "\n",
    "print(l * w * r)\n",
    "print(l * r * w)\n",
    "print(r * w * l)\n",
    "print(w * l * r)\n",
    "print(w * r * l)"
   ]
  },
  {
   "cell_type": "code",
   "execution_count": null,
   "id": "c56bf768-3c49-4551-abc1-720796f6d9d6",
   "metadata": {},
   "outputs": [],
   "source": []
  }
 ],
 "metadata": {
  "kernelspec": {
   "display_name": "GML",
   "language": "python",
   "name": "gml"
  },
  "language_info": {
   "codemirror_mode": {
    "name": "ipython",
    "version": 3
   },
   "file_extension": ".py",
   "mimetype": "text/x-python",
   "name": "python",
   "nbconvert_exporter": "python",
   "pygments_lexer": "ipython3",
   "version": "3.8.19"
  }
 },
 "nbformat": 4,
 "nbformat_minor": 5
}
