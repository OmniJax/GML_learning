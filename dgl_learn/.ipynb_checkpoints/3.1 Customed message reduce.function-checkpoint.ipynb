{
 "cells": [
  {
   "cell_type": "markdown",
   "id": "70b6080e-797b-48ad-8700-2021d1c05278",
   "metadata": {},
   "source": [
    "### 摸索一下message_func和reduce_func\n"
   ]
  },
  {
   "cell_type": "code",
   "execution_count": 1,
   "id": "8ffbbe7e-79fa-4a08-8f55-3442d5ee29a8",
   "metadata": {
    "editable": true,
    "slideshow": {
     "slide_type": ""
    },
    "tags": []
   },
   "outputs": [],
   "source": [
    "import dgl\n",
    "import dgl.function as fn\n",
    "import torch as th"
   ]
  },
  {
   "cell_type": "code",
   "execution_count": 3,
   "id": "11a6e268-54b4-484b-82b8-fa75928a656e",
   "metadata": {},
   "outputs": [],
   "source": [
    "g = dgl.graph(([1, 2, 3, 4, 5], [0, 0, 0, 0, 0]))"
   ]
  },
  {
   "cell_type": "code",
   "execution_count": 4,
   "id": "06874001-5329-430e-a31e-e09f6d89b767",
   "metadata": {},
   "outputs": [],
   "source": [
    "import matplotlib.pyplot as plt\n",
    "import networkx as nx"
   ]
  },
  {
   "cell_type": "code",
   "execution_count": 5,
   "id": "f7ece9b8-5ab9-44f4-b6f1-581c7ecafde7",
   "metadata": {},
   "outputs": [
    {
     "data": {
      "image/png": "[encoded data removed]",
      "text/plain": [
       "<Figure size 200x200 with 1 Axes>"
      ]
     },
     "metadata": {},
     "output_type": "display_data"
    }
   ],
   "source": [
    "plt.figure(figsize=(2, 2))\n",
    "nx.draw(dgl.to_networkx(g), with_labels=True)"
   ]
  },
  {
   "cell_type": "code",
   "execution_count": 30,
   "id": "26505c54-5c96-4b40-bcf0-75f66bf8ea65",
   "metadata": {},
   "outputs": [],
   "source": [
    "g.ndata[\"h\"] = th.ones(g.num_nodes(), 4)\n",
    "g.edata[\"w\"] = th.randint(0, 10, (g.num_edges(), 1)).float()"
   ]
  },
  {
   "cell_type": "code",
   "execution_count": 77,
   "id": "16ca833e-74e5-4b64-ba18-6236de6711b7",
   "metadata": {},
   "outputs": [],
   "source": [
    "# with g.local_scope():\n",
    "g.update_all(fn.u_mul_e(\"h\", \"w\", \"m\"), fn.mean(\"m\", \"h_new\"))"
   ]
  },
  {
   "cell_type": "code",
   "execution_count": 85,
   "id": "9c4360de-950a-44c9-ac95-55bb66954985",
   "metadata": {},
   "outputs": [
    {
     "name": "stdout",
     "output_type": "stream",
     "text": [
      "tensor([[1., 1., 1., 1.],\n",
      "        [1., 1., 1., 1.],\n",
      "        [1., 1., 1., 1.],\n",
      "        [1., 1., 1., 1.],\n",
      "        [1., 1., 1., 1.]])\n",
      "tensor([[6.],\n",
      "        [2.],\n",
      "        [7.],\n",
      "        [8.],\n",
      "        [5.]])\n",
      "sum tensor([[6., 6., 6., 6.],\n",
      "        [2., 2., 2., 2.],\n",
      "        [7., 7., 7., 7.],\n",
      "        [8., 8., 8., 8.],\n",
      "        [5., 5., 5., 5.]])\n",
      "avg tensor([[5.6000, 5.6000, 5.6000, 5.6000],\n",
      "        [0.0000, 0.0000, 0.0000, 0.0000],\n",
      "        [0.0000, 0.0000, 0.0000, 0.0000],\n",
      "        [0.0000, 0.0000, 0.0000, 0.0000],\n",
      "        [0.0000, 0.0000, 0.0000, 0.0000],\n",
      "        [0.0000, 0.0000, 0.0000, 0.0000]])\n"
     ]
    }
   ],
   "source": [
    "print(g.ndata[\"h\"][1:])\n",
    "print(g.edata[\"w\"])\n",
    "print(\"sum\", g.ndata[\"h\"][1:] * g.edata[\"w\"])\n",
    "print(\"avg\", g.ndata[\"h_new\"])"
   ]
  },
  {
   "cell_type": "code",
   "execution_count": null,
   "id": "6fd61821-0bdf-4fcc-b978-404ba497d1aa",
   "metadata": {},
   "outputs": [],
   "source": []
  },
  {
   "cell_type": "code",
   "execution_count": 90,
   "id": "c217a73f-12b1-4c4d-87f0-15614fd5593e",
   "metadata": {},
   "outputs": [],
   "source": [
    "g.update_all(\n",
    "    fn.copy_u('h','h_copy'),\n",
    "    fn.sum('h_copy','h_sum')\n",
    ")"
   ]
  },
  {
   "cell_type": "code",
   "execution_count": 94,
   "id": "610ac972-d54f-4d4a-9ea5-bb1ae23bfad1",
   "metadata": {},
   "outputs": [
    {
     "data": {
      "text/plain": [
       "tensor([[5., 5., 5., 5.],\n",
       "        [0., 0., 0., 0.],\n",
       "        [0., 0., 0., 0.],\n",
       "        [0., 0., 0., 0.],\n",
       "        [0., 0., 0., 0.],\n",
       "        [0., 0., 0., 0.]])"
      ]
     },
     "execution_count": 94,
     "metadata": {},
     "output_type": "execute_result"
    }
   ],
   "source": [
    "g.ndata['h_sum']"
   ]
  },
  {
   "cell_type": "code",
   "execution_count": null,
   "id": "a3a5f832-ba19-4669-9006-5cab54ddcf7e",
   "metadata": {},
   "outputs": [],
   "source": []
  },
  {
   "cell_type": "code",
   "execution_count": 108,
   "id": "623dc1d6-f0f7-4d0d-93c0-f2190642bf31",
   "metadata": {},
   "outputs": [],
   "source": [
    "g.apply_edges(\n",
    "    fn.u_mul_v('h','h','u_mul_v')\n",
    ")\n",
    "g.apply_edges(\n",
    "    fn.u_add_v('h','h','u_add_v')\n",
    ")"
   ]
  },
  {
   "cell_type": "code",
   "execution_count": 109,
   "id": "ae470f23-3637-47d2-bf3b-4d153ffe47a8",
   "metadata": {},
   "outputs": [
    {
     "name": "stdout",
     "output_type": "stream",
     "text": [
      "tensor([[1., 1., 1., 1.],\n",
      "        [1., 1., 1., 1.],\n",
      "        [1., 1., 1., 1.],\n",
      "        [1., 1., 1., 1.],\n",
      "        [1., 1., 1., 1.],\n",
      "        [1., 1., 1., 1.]])\n",
      "tensor([[1., 1., 1., 1.],\n",
      "        [1., 1., 1., 1.],\n",
      "        [1., 1., 1., 1.],\n",
      "        [1., 1., 1., 1.],\n",
      "        [1., 1., 1., 1.]])\n",
      "tensor([[2., 2., 2., 2.],\n",
      "        [2., 2., 2., 2.],\n",
      "        [2., 2., 2., 2.],\n",
      "        [2., 2., 2., 2.],\n",
      "        [2., 2., 2., 2.]])\n"
     ]
    }
   ],
   "source": [
    "print(g.ndata['h'])\n",
    "print(g.edata['u_mul_v'])\n",
    "print(g.edata['u_add_v'])"
   ]
  },
  {
   "cell_type": "code",
   "execution_count": null,
   "id": "a725d443-ac55-445c-a775-87420546b328",
   "metadata": {},
   "outputs": [],
   "source": []
  },
  {
   "cell_type": "code",
   "execution_count": 154,
   "id": "4ff65a23-cbff-4401-936e-d0bb62dce728",
   "metadata": {},
   "outputs": [],
   "source": []
  },
  {
   "cell_type": "code",
   "execution_count": 397,
   "id": "7df59ba0-d032-4b39-9ed6-f965958b6304",
   "metadata": {},
   "outputs": [],
   "source": [
    "g2 = dgl.graph(([1, 2, 3, 4, 5], [6, 6, 6, 6, 6]))\n",
    "\n",
    "g2.ndata['feat']=th.randint(0,10,(g2.num_nodes(),4)).float()\n",
    "\n",
    "g2.edata['e']=th.ones(g2.num_edges(),4,1)"
   ]
  },
  {
   "cell_type": "code",
   "execution_count": 398,
   "id": "47388a2e-fc90-4b4e-b041-192def3125bb",
   "metadata": {},
   "outputs": [
    {
     "name": "stdout",
     "output_type": "stream",
     "text": [
      "feat\n",
      " tensor([[2., 3., 3., 7.],\n",
      "        [5., 1., 8., 2.],\n",
      "        [9., 3., 3., 4.],\n",
      "        [9., 4., 8., 2.],\n",
      "        [5., 0., 0., 3.],\n",
      "        [2., 8., 0., 2.],\n",
      "        [5., 4., 6., 6.]]) \n",
      "\n",
      "torch.Size([4])\n",
      "torch.Size([4, 1])\n",
      "tensor([2., 3., 3., 7.])\n",
      "tensor([[1.],\n",
      "        [1.],\n",
      "        [1.],\n",
      "        [1.]])\n"
     ]
    }
   ],
   "source": [
    "print('feat\\n',g2.ndata['feat'],'\\n')\n",
    "\n",
    "print(g2.ndata['feat'][0].shape)\n",
    "print(g2.edata['e'][0].shape)\n",
    "\n",
    "print(g2.ndata['feat'][0])\n",
    "print(g2.edata['e'][0])\n"
   ]
  },
  {
   "cell_type": "code",
   "execution_count": 399,
   "id": "360bd640-b17f-4191-b148-5f536d731b59",
   "metadata": {},
   "outputs": [],
   "source": [
    "def message_func(edges):\n",
    "    print('--------------msg func-----------------')\n",
    "    print(type(edges))\n",
    "    print('src:',edges.src.keys())\n",
    "    print('edge data:',edges.data.keys())\n",
    "    print('dst:',edges.dst.keys())\n",
    "    print('len: ',len(edges))\n",
    "    \n",
    "    edges.data['new_e']=edges.data['e']\n",
    "    edges.data['e']+=1\n",
    "    src_feat=edges.src['feat']\n",
    "    \n",
    "    return {'msg':src_feat+1}\n",
    "\n",
    "\n",
    "def reduce_funtion(nodes):\n",
    "    print('--------------reduce func-----------------')\n",
    "    print(type(nodes))\n",
    "    print('data: ',nodes.data)\n",
    "    print('mailbox: ',nodes.mailbox)\n",
    "    print('nodes id: ',nodes.nodes().item())\n",
    "\n",
    "    tmp=nodes.mailbox['msg']\n",
    "    print(th.max(tmp,dim=1)[0])\n",
    "    return {'max':th.max(tmp,dim=1)[0]}"
   ]
  },
  {
   "cell_type": "code",
   "execution_count": null,
   "id": "35a99f2c-309a-42d5-bfd3-37128a187b18",
   "metadata": {},
   "outputs": [],
   "source": []
  },
  {
   "cell_type": "code",
   "execution_count": null,
   "id": "48e52c58-d1f7-4401-ac06-92e5f06fff8a",
   "metadata": {},
   "outputs": [],
   "source": []
  },
  {
   "cell_type": "code",
   "execution_count": 400,
   "id": "ddd87012-eb19-43c9-944d-2672a8971542",
   "metadata": {},
   "outputs": [
    {
     "name": "stdout",
     "output_type": "stream",
     "text": [
      "--------------msg func-----------------\n",
      "<class 'dgl.udf.EdgeBatch'>\n",
      "src: dict_keys(['feat'])\n",
      "edge data: dict_keys(['e'])\n",
      "dst: dict_keys(['feat'])\n",
      "len:  5\n",
      "--------------reduce func-----------------\n",
      "<class 'dgl.udf.NodeBatch'>\n",
      "data:  {'feat': tensor([[5., 4., 6., 6.]])}\n",
      "mailbox:  {'msg': tensor([[[ 6.,  2.,  9.,  3.],\n",
      "         [10.,  4.,  4.,  5.],\n",
      "         [10.,  5.,  9.,  3.],\n",
      "         [ 6.,  1.,  1.,  4.],\n",
      "         [ 3.,  9.,  1.,  3.]]])}\n",
      "nodes id:  6\n",
      "tensor([[10.,  9.,  9.,  5.]])\n"
     ]
    }
   ],
   "source": [
    "g2.update_all(message_func,reduce_funtion)"
   ]
  },
  {
   "cell_type": "code",
   "execution_count": 402,
   "id": "fa52ed77-0404-43ee-b2c0-dd05dd8917bc",
   "metadata": {},
   "outputs": [
    {
     "name": "stdout",
     "output_type": "stream",
     "text": [
      "dict_keys(['feat', 'max'])\n"
     ]
    },
    {
     "data": {
      "text/plain": [
       "tensor([[ 0.,  0.,  0.,  0.],\n",
       "        [ 0.,  0.,  0.,  0.],\n",
       "        [ 0.,  0.,  0.,  0.],\n",
       "        [ 0.,  0.,  0.,  0.],\n",
       "        [ 0.,  0.,  0.,  0.],\n",
       "        [ 0.,  0.,  0.,  0.],\n",
       "        [10.,  9.,  9.,  5.]])"
      ]
     },
     "execution_count": 402,
     "metadata": {},
     "output_type": "execute_result"
    }
   ],
   "source": [
    "print(g2.ndata.keys())\n",
    "g2.ndata['max']"
   ]
  },
  {
   "cell_type": "code",
   "execution_count": 403,
   "id": "02d660ea-84c8-48c2-badf-1743d2431645",
   "metadata": {},
   "outputs": [
    {
     "name": "stdout",
     "output_type": "stream",
     "text": [
      "dict_keys(['e', 'new_e'])\n"
     ]
    }
   ],
   "source": [
    "print(g2.edata.keys())"
   ]
  },
  {
   "cell_type": "code",
   "execution_count": null,
   "id": "d111d2f2-8bcc-4175-ac71-54a9da2cdcf4",
   "metadata": {},
   "outputs": [],
   "source": []
  },
  {
   "cell_type": "code",
   "execution_count": null,
   "id": "c3176a3e-5aec-4a47-9a0e-3ea8451ed04e",
   "metadata": {},
   "outputs": [],
   "source": []
  },
  {
   "cell_type": "code",
   "execution_count": null,
   "id": "69f04629-2345-4190-a04d-9b0f83938513",
   "metadata": {},
   "outputs": [],
   "source": []
  },
  {
   "cell_type": "markdown",
   "id": "7c75ce28-3222-4d42-a6cb-254237622a40",
   "metadata": {},
   "source": [
    "## reduce"
   ]
  },
  {
   "cell_type": "code",
   "execution_count": null,
   "id": "c196ab10-20da-4e69-95d9-539d2bcd4fe4",
   "metadata": {},
   "outputs": [],
   "source": []
  },
  {
   "cell_type": "code",
   "execution_count": null,
   "id": "a0a6554d-12ce-47b5-8098-61135d552238",
   "metadata": {},
   "outputs": [],
   "source": []
  },
  {
   "cell_type": "code",
   "execution_count": null,
   "id": "31c79017-d48b-4f8c-8567-f6a9a0cc02bf",
   "metadata": {},
   "outputs": [],
   "source": []
  },
  {
   "cell_type": "code",
   "execution_count": null,
   "id": "66194466-ffd9-4732-b126-044b8affd879",
   "metadata": {},
   "outputs": [],
   "source": []
  },
  {
   "cell_type": "code",
   "execution_count": null,
   "id": "1a1cc034-b75b-4e96-b0a7-ccc1e79d8cb9",
   "metadata": {},
   "outputs": [],
   "source": []
  },
  {
   "cell_type": "code",
   "execution_count": null,
   "id": "b0842776-2d63-44d1-9638-5145c49237cb",
   "metadata": {},
   "outputs": [],
   "source": []
  },
  {
   "cell_type": "code",
   "execution_count": null,
   "id": "197b48a4-fed9-44bd-97fe-14367bfcea18",
   "metadata": {},
   "outputs": [],
   "source": []
  },
  {
   "cell_type": "code",
   "execution_count": 316,
   "id": "d1597066-9e1c-48a1-a283-60da00fd37e7",
   "metadata": {},
   "outputs": [],
   "source": [
    "g2 = dgl.graph(([1, 2, 3, 4, 5], [0, 0, 0, 0, 0]))\n",
    "\n",
    "g2.ndata['feat']=th.randint(0,10,(g2.num_nodes(),4)).float()\n",
    "\n",
    "g2.edata['e']=th.ones(g2.num_edges(),4,1)"
   ]
  },
  {
   "cell_type": "code",
   "execution_count": 317,
   "id": "ec706bc4-45ea-4bb8-9737-ced0fbd95392",
   "metadata": {},
   "outputs": [],
   "source": [
    "def u_mmul_e(edges):\n",
    "    \n",
    "    feat=edges.src['feat']\n",
    "    e=edges.data['e']\n",
    "    feat_e=feat@e\n",
    "    # print(feat)\n",
    "    # print(e)\n",
    "    # print(feat_e)\n",
    "    return {'feat_e':feat_e}\n",
    "\n",
    "def mul_ten(nodes):\n",
    "    return {'mul_ten':nodes.mailbox['feat_e']*10}"
   ]
  },
  {
   "cell_type": "code",
   "execution_count": 318,
   "id": "d860f7a3-3115-40d2-b3f1-6a8d893c69db",
   "metadata": {},
   "outputs": [],
   "source": [
    "g2.update_all(\n",
    "    u_mmul_e,\n",
    "    mul_ten\n",
    ")"
   ]
  },
  {
   "cell_type": "code",
   "execution_count": 321,
   "id": "cd0d3af5-9faa-4205-abd2-e77bae43411b",
   "metadata": {},
   "outputs": [
    {
     "data": {
      "text/plain": [
       "tensor([[[100.],\n",
       "         [200.],\n",
       "         [130.],\n",
       "         [120.],\n",
       "         [130.]],\n",
       "\n",
       "        [[100.],\n",
       "         [200.],\n",
       "         [130.],\n",
       "         [120.],\n",
       "         [130.]],\n",
       "\n",
       "        [[100.],\n",
       "         [200.],\n",
       "         [130.],\n",
       "         [120.],\n",
       "         [130.]],\n",
       "\n",
       "        [[100.],\n",
       "         [200.],\n",
       "         [130.],\n",
       "         [120.],\n",
       "         [130.]],\n",
       "\n",
       "        [[100.],\n",
       "         [200.],\n",
       "         [130.],\n",
       "         [120.],\n",
       "         [130.]]])"
      ]
     },
     "execution_count": 321,
     "metadata": {},
     "output_type": "execute_result"
    }
   ],
   "source": [
    "g2.ndata['mul_ten'][0]"
   ]
  },
  {
   "cell_type": "code",
   "execution_count": null,
   "id": "b99fef73-d0a5-4baf-9538-e651770151f5",
   "metadata": {},
   "outputs": [],
   "source": []
  }
 ],
 "metadata": {
  "kernelspec": {
   "display_name": "GML",
   "language": "python",
   "name": "gml"
  },
  "language_info": {
   "codemirror_mode": {
    "name": "ipython",
    "version": 3
   },
   "file_extension": ".py",
   "mimetype": "text/x-python",
   "name": "python",
   "nbconvert_exporter": "python",
   "pygments_lexer": "ipython3",
   "version": "3.8.19"
  }
 },
 "nbformat": 4,
 "nbformat_minor": 5
}
